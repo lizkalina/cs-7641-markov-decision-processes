{
 "cells": [
  {
   "cell_type": "code",
   "execution_count": 923,
   "metadata": {},
   "outputs": [],
   "source": [
    "import hiive.mdptoolbox, hiive.mdptoolbox.example, hiive.mdptoolbox.mdp\n",
    "import hiive.mdptoolbox as mdptoolbox\n",
    "\n",
    "%matplotlib inline\n",
    "\n",
    "import matplotlib\n",
    "import matplotlib.pyplot as plt\n",
    "import seaborn as sns\n",
    "\n",
    "import pandas as pd\n",
    "import gym\n",
    "import numpy as np"
   ]
  },
  {
   "cell_type": "markdown",
   "metadata": {},
   "source": [
    "## MDP Definition\n",
    "\n",
    "- is the expected value of all possible future rewards, on all possible actions."
   ]
  },
  {
   "cell_type": "code",
   "execution_count": 962,
   "metadata": {},
   "outputs": [],
   "source": [
    "class MarkovDecisionProcess(object):\n",
    "    \n",
    "    def __init__(self, problem_name, discount_factor=0.9, alpha=0.5, epsilon=0.9, epsilon_decay=0.1):\n",
    "        self.problem_name = problem_name \n",
    "        self.discount_factor = discount_factor\n",
    "        self.alpha = alpha\n",
    "        self.epsilon = epsilon\n",
    "        self.epsilon_decay = epsilon_decay\n",
    "        \n",
    "    def setup_env(self):\n",
    "        self.env = gym.make(self.problem_name)\n",
    "        self.num_actions = self.env.nA\n",
    "        self.num_states = self.env.nS\n",
    "        self.rewards = np.zeros([self.num_actions, self.num_states, self.num_states])\n",
    "        self.transitions = np.zeros([self.num_actions, self.num_states, self.num_states])\n",
    "        self.generate_matrices()\n",
    "        \n",
    "    def generate_matrices(self):\n",
    "        for s in range(self.num_states):\n",
    "            for a in range(self.num_actions):\n",
    "                inner = self.env.P[s][a]\n",
    "                for t in inner:\n",
    "                    transition_prob, next_state, reward, done = t\n",
    "                    self.transitions[a][s][next_state] += transition_prob\n",
    "                    self.rewards[a][s][next_state] = reward\n",
    "                \n",
    "    def policy_iteration(self):\n",
    "        pi = mdptoolbox.mdp.PolicyIteration(self.transitions, self.rewards, self.discount_factor)\n",
    "        pi.setVerbose()\n",
    "        self.output = pi.run()\n",
    "        self.policy = pi.policy\n",
    "        \n",
    "    def value_iteration(self):\n",
    "        vi = mdptoolbox.mdp.ValueIteration(self.transitions, self.rewards, self.discount_factor)\n",
    "        vi.setVerbose()\n",
    "        self.output = vi.run() \n",
    "        self.policy = vi.policy\n",
    "        \n",
    "    def q_learning(self):\n",
    "        ql = mdptoolbox.mdp.QLearning(self.transitions, self.rewards, self.discount_factor, alpha=self.alpha, epsilon=self.epsilon, epsilon_decay=self.epsilon_decay, run_stat_frequency=1, n_iter=10000)\n",
    "        ql.setVerbose()\n",
    "        self.output = ql.run()\n",
    "        self.policy = ql.policy\n",
    "        self.Q = ql.Q\n",
    "    \n",
    "    def run(self, rl_algo):\n",
    "        self.setup_env()\n",
    "        if rl_algo == \"policy_iteration\":\n",
    "            self.policy_iteration()\n",
    "        elif rl_algo == \"value_iteration\":\n",
    "            self.value_iteration()\n",
    "        elif rl_algo == \"q_learning\":\n",
    "            self.q_learning()\n",
    "        else:\n",
    "            print(\"Unsupported reinforcement learning algorithm.\")"
   ]
  },
  {
   "cell_type": "code",
   "execution_count": 925,
   "metadata": {},
   "outputs": [],
   "source": [
    "# max_iterations = 80\n",
    "# gamma = 1  # discount factor\n",
    "# alpha = 0.9  # learning rate\n",
    "# eps = 0.99  # exploitation rate"
   ]
  },
  {
   "cell_type": "markdown",
   "metadata": {},
   "source": [
    "### Policy Iteration\n",
    "- reward\n",
    "- error\n",
    "- time\n",
    "- max V\n",
    "- mean V"
   ]
  },
  {
   "cell_type": "code",
   "execution_count": 926,
   "metadata": {},
   "outputs": [
    {
     "name": "stdout",
     "output_type": "stream",
     "text": [
      "hello\n",
      " Iteration   Variation\n",
      "         1           7\n",
      "         2           5\n",
      "         3           4\n",
      "         4           2\n",
      "         5           1\n",
      "         6           0\n",
      "Iterating stopped, unchanging policy found.\n",
      "0.013365983963012695\n"
     ]
    },
    {
     "data": {
      "text/plain": [
       "[{'State': None,\n",
       "  'Action': None,\n",
       "  'Reward': 0.4761904761904762,\n",
       "  'Error': 0.14285714285714285,\n",
       "  'Time': 0.0005948543548583984,\n",
       "  'Max V': 0.4761904761904762,\n",
       "  'Mean V': 0.0452452461789103,\n",
       "  'Iteration': 1},\n",
       " {'State': None,\n",
       "  'Action': None,\n",
       "  'Reward': 0.5818649566344144,\n",
       "  'Error': 0.04463500350626872,\n",
       "  'Time': 0.0011200904846191406,\n",
       "  'Max V': 0.5818649566344144,\n",
       "  'Mean V': 0.0902144580841161,\n",
       "  'Iteration': 2},\n",
       " {'State': None,\n",
       "  'Action': None,\n",
       "  'Reward': 0.6344650610234918,\n",
       "  'Error': 0.017306100255922316,\n",
       "  'Time': 0.0026330947875976562,\n",
       "  'Max V': 0.6344650610234918,\n",
       "  'Mean V': 0.12311606746555231,\n",
       "  'Iteration': 3},\n",
       " {'State': None,\n",
       "  'Action': None,\n",
       "  'Reward': 0.6389650771933137,\n",
       "  'Error': 0.002106991866823116,\n",
       "  'Time': 0.004277944564819336,\n",
       "  'Max V': 0.6389650771933137,\n",
       "  'Mean V': 0.1352175510786241,\n",
       "  'Iteration': 4},\n",
       " {'State': None,\n",
       "  'Action': None,\n",
       "  'Reward': 0.6390201481186111,\n",
       "  'Error': 6.938893903907228e-17,\n",
       "  'Time': 0.005798816680908203,\n",
       "  'Max V': 0.6390201481186111,\n",
       "  'Mean V': 0.13600576609334114,\n",
       "  'Iteration': 5},\n",
       " {'State': None,\n",
       "  'Action': None,\n",
       "  'Reward': 0.6390201481186111,\n",
       "  'Error': 5.551115123125783e-17,\n",
       "  'Time': 0.0074040889739990234,\n",
       "  'Max V': 0.6390201481186111,\n",
       "  'Mean V': 0.1360057660933412,\n",
       "  'Iteration': 6}]"
      ]
     },
     "execution_count": 926,
     "metadata": {},
     "output_type": "execute_result"
    }
   ],
   "source": [
    "start = time.time()\n",
    "print(\"hello\")\n",
    "mdp_pol = MarkovDecisionProcess(\"FrozenLake-v0\")\n",
    "mdp_pol.run(\"policy_iteration\")\n",
    "end = time.time()\n",
    "print(end - start)\n",
    "\n",
    "mdp_pol.output"
   ]
  },
  {
   "cell_type": "code",
   "execution_count": 927,
   "metadata": {},
   "outputs": [],
   "source": [
    "policy_df = pd.DataFrame(mdp_pol.output)"
   ]
  },
  {
   "cell_type": "code",
   "execution_count": 928,
   "metadata": {},
   "outputs": [
    {
     "data": {
      "text/plain": [
       "Text(0.5, 1.0, 'Frozen Lake - Policy Iteration: Reward v. Iteration')"
      ]
     },
     "execution_count": 928,
     "metadata": {},
     "output_type": "execute_result"
    },
    {
     "data": {
      "image/png": "[encoded data removed]",
      "text/plain": [
       "<Figure size 432x288 with 1 Axes>"
      ]
     },
     "metadata": {
      "needs_background": "light"
     },
     "output_type": "display_data"
    }
   ],
   "source": [
    "ax = sns.lineplot(x=\"Iteration\", y=\"Reward\", data=policy_df)\n",
    "ax.set_title(\"Frozen Lake - Policy Iteration: Reward v. Iteration\")"
   ]
  },
  {
   "cell_type": "code",
   "execution_count": 929,
   "metadata": {},
   "outputs": [
    {
     "data": {
      "text/plain": [
       "Text(0.5, 1.0, 'Frozen Lake - Policy Iteration: Mean V v. Iteration')"
      ]
     },
     "execution_count": 929,
     "metadata": {},
     "output_type": "execute_result"
    },
    {
     "data": {
      "image/png": "[encoded data removed]",
      "text/plain": [
       "<Figure size 432x288 with 1 Axes>"
      ]
     },
     "metadata": {
      "needs_background": "light"
     },
     "output_type": "display_data"
    }
   ],
   "source": [
    "ax = sns.lineplot(x=\"Iteration\", y=\"Mean V\", data=policy_df)\n",
    "ax.set_title(\"Frozen Lake - Policy Iteration: Mean V v. Iteration\")"
   ]
  },
  {
   "cell_type": "code",
   "execution_count": 930,
   "metadata": {},
   "outputs": [],
   "source": [
    "#ax = sns.lineplot(x=\"Iteration\", y=\"Error\", data=policy_df)"
   ]
  },
  {
   "cell_type": "code",
   "execution_count": 931,
   "metadata": {},
   "outputs": [],
   "source": [
    "#ax = sns.barplot(x=\"Iteration\", y=\"Time\", data=policy_df)"
   ]
  },
  {
   "cell_type": "markdown",
   "metadata": {},
   "source": [
    "### Value Iteration"
   ]
  },
  {
   "cell_type": "code",
   "execution_count": 932,
   "metadata": {},
   "outputs": [
    {
     "name": "stdout",
     "output_type": "stream",
     "text": [
      "hello\n",
      " Iteration   Variation\n",
      "         1           7\n",
      "         2           5\n",
      "         3           4\n",
      "         4           2\n",
      "         5           1\n",
      "         6           0\n",
      "Iterating stopped, unchanging policy found.\n",
      "0.013082265853881836\n"
     ]
    },
    {
     "data": {
      "text/plain": [
       "[{'State': None,\n",
       "  'Action': None,\n",
       "  'Reward': 0.4761904761904762,\n",
       "  'Error': 0.14285714285714285,\n",
       "  'Time': 0.0015680789947509766,\n",
       "  'Max V': 0.4761904761904762,\n",
       "  'Mean V': 0.0452452461789103,\n",
       "  'Iteration': 1},\n",
       " {'State': None,\n",
       "  'Action': None,\n",
       "  'Reward': 0.5818649566344144,\n",
       "  'Error': 0.04463500350626872,\n",
       "  'Time': 0.0028159618377685547,\n",
       "  'Max V': 0.5818649566344144,\n",
       "  'Mean V': 0.0902144580841161,\n",
       "  'Iteration': 2},\n",
       " {'State': None,\n",
       "  'Action': None,\n",
       "  'Reward': 0.6344650610234918,\n",
       "  'Error': 0.017306100255922316,\n",
       "  'Time': 0.004285097122192383,\n",
       "  'Max V': 0.6344650610234918,\n",
       "  'Mean V': 0.12311606746555231,\n",
       "  'Iteration': 3},\n",
       " {'State': None,\n",
       "  'Action': None,\n",
       "  'Reward': 0.6389650771933137,\n",
       "  'Error': 0.002106991866823116,\n",
       "  'Time': 0.005861043930053711,\n",
       "  'Max V': 0.6389650771933137,\n",
       "  'Mean V': 0.1352175510786241,\n",
       "  'Iteration': 4},\n",
       " {'State': None,\n",
       "  'Action': None,\n",
       "  'Reward': 0.6390201481186111,\n",
       "  'Error': 6.938893903907228e-17,\n",
       "  'Time': 0.006966114044189453,\n",
       "  'Max V': 0.6390201481186111,\n",
       "  'Mean V': 0.13600576609334114,\n",
       "  'Iteration': 5},\n",
       " {'State': None,\n",
       "  'Action': None,\n",
       "  'Reward': 0.6390201481186111,\n",
       "  'Error': 5.551115123125783e-17,\n",
       "  'Time': 0.008347034454345703,\n",
       "  'Max V': 0.6390201481186111,\n",
       "  'Mean V': 0.1360057660933412,\n",
       "  'Iteration': 6}]"
      ]
     },
     "execution_count": 932,
     "metadata": {},
     "output_type": "execute_result"
    }
   ],
   "source": [
    "start = time.time()\n",
    "print(\"hello\")\n",
    "mdp_val = MarkovDecisionProcess(\"FrozenLake-v0\")\n",
    "mdp_val.run(\"policy_iteration\")\n",
    "end = time.time()\n",
    "print(end - start)\n",
    "\n",
    "mdp_val.output"
   ]
  },
  {
   "cell_type": "code",
   "execution_count": 933,
   "metadata": {},
   "outputs": [],
   "source": [
    "vals = {0: \"left\", 1: \"down\", 2: \"right\", 3: \"up\"}\n",
    "\n",
    "output = [None] * 16\n",
    "\n",
    "for idx, val in enumerate(mdp_val.policy):\n",
    "    output[idx] = vals[val]"
   ]
  },
  {
   "cell_type": "code",
   "execution_count": 934,
   "metadata": {},
   "outputs": [
    {
     "name": "stdout",
     "output_type": "stream",
     "text": [
      "['left', 'up', 'left', 'up', 'left', 'left', 'left', 'left', 'up', 'down', 'left', 'left', 'left', 'right', 'down', 'left']\n"
     ]
    }
   ],
   "source": [
    "print(output)"
   ]
  },
  {
   "cell_type": "code",
   "execution_count": 979,
   "metadata": {},
   "outputs": [],
   "source": [
    "hi = (0, 1, 0, 0, 2, 0, 2, 0, 3, 1, 0, 0, 0, 2, 1, 0)\n",
    "\n",
    "vals = {0: \"left\", 1: \"down\", 2: \"right\", 3: \"up\"}\n",
    "\n",
    "output = [None] * 16\n",
    "\n",
    "for idx, val in enumerate(hi):\n",
    "    output[idx] = vals[val]"
   ]
  },
  {
   "cell_type": "code",
   "execution_count": 981,
   "metadata": {},
   "outputs": [
    {
     "name": "stdout",
     "output_type": "stream",
     "text": [
      "['left', 'down', 'left', 'left', 'right', 'left', 'right', 'left', 'up', 'down', 'left', 'left', 'left', 'right', 'down', 'left']\n"
     ]
    }
   ],
   "source": [
    "print(output)"
   ]
  },
  {
   "cell_type": "code",
   "execution_count": 936,
   "metadata": {},
   "outputs": [],
   "source": [
    "value_df = pd.DataFrame(mdp_val.output)"
   ]
  },
  {
   "cell_type": "code",
   "execution_count": 937,
   "metadata": {},
   "outputs": [
    {
     "data": {
      "text/plain": [
       "Text(0.5, 1.0, 'Frozen Lake - Value Iteration: Reward v. Iteration')"
      ]
     },
     "execution_count": 937,
     "metadata": {},
     "output_type": "execute_result"
    },
    {
     "data": {
      "image/png": "[encoded data removed]",
      "text/plain": [
       "<Figure size 432x288 with 1 Axes>"
      ]
     },
     "metadata": {
      "needs_background": "light"
     },
     "output_type": "display_data"
    }
   ],
   "source": [
    "ax = sns.lineplot(x=\"Iteration\", y=\"Reward\", data=value_df)\n",
    "ax.set_title(\"Frozen Lake - Value Iteration: Reward v. Iteration\")"
   ]
  },
  {
   "cell_type": "code",
   "execution_count": 938,
   "metadata": {},
   "outputs": [],
   "source": [
    "value_df\n",
    "value_df['algorithm'] = 'value iteration'"
   ]
  },
  {
   "cell_type": "code",
   "execution_count": 939,
   "metadata": {},
   "outputs": [],
   "source": [
    "policy_df\n",
    "policy_df['algorithm'] = 'policy iteration'"
   ]
  },
  {
   "cell_type": "code",
   "execution_count": null,
   "metadata": {},
   "outputs": [],
   "source": []
  },
  {
   "cell_type": "code",
   "execution_count": 940,
   "metadata": {},
   "outputs": [
    {
     "data": {
      "image/png": "[encoded data removed]",
      "text/plain": [
       "<Figure size 432x288 with 1 Axes>"
      ]
     },
     "metadata": {
      "needs_background": "light"
     },
     "output_type": "display_data"
    }
   ],
   "source": [
    "ax = sns.barplot(x=\"Iteration\", y=\"Time\", data=value_df)"
   ]
  },
  {
   "cell_type": "code",
   "execution_count": 941,
   "metadata": {},
   "outputs": [],
   "source": [
    "comb = pd.concat([value_df, policy_df])"
   ]
  },
  {
   "cell_type": "code",
   "execution_count": 942,
   "metadata": {
    "scrolled": true
   },
   "outputs": [
    {
     "data": {
      "text/plain": [
       "Text(0.5, 1.0, 'Frozen Lake: Reward vs. Iteration')"
      ]
     },
     "execution_count": 942,
     "metadata": {},
     "output_type": "execute_result"
    },
    {
     "data": {
      "image/png": "[encoded data removed]",
      "text/plain": [
       "<Figure size 432x288 with 1 Axes>"
      ]
     },
     "metadata": {
      "needs_background": "light"
     },
     "output_type": "display_data"
    }
   ],
   "source": [
    "ax = sns.lineplot(x=\"Iteration\", y=\"Reward\", data=comb, hue=\"algorithm\")\n",
    "ax.set_title(\"Frozen Lake: Reward vs. Iteration\")"
   ]
  },
  {
   "cell_type": "code",
   "execution_count": 943,
   "metadata": {},
   "outputs": [
    {
     "data": {
      "text/plain": [
       "Text(0.5, 1.0, 'Frozen Lake: Mean V vs. Iteration')"
      ]
     },
     "execution_count": 943,
     "metadata": {},
     "output_type": "execute_result"
    },
    {
     "data": {
      "image/png": "[encoded data removed]",
      "text/plain": [
       "<Figure size 432x288 with 1 Axes>"
      ]
     },
     "metadata": {
      "needs_background": "light"
     },
     "output_type": "display_data"
    }
   ],
   "source": [
    "ax = sns.lineplot(x=\"Iteration\", y=\"Mean V\", data=comb, hue=\"algorithm\")\n",
    "ax.set_title(\"Frozen Lake: Mean V vs. Iteration\")"
   ]
  },
  {
   "cell_type": "code",
   "execution_count": 944,
   "metadata": {},
   "outputs": [
    {
     "data": {
      "text/plain": [
       "Text(0.5, 1.0, 'Frozen Lake: Runtime vs. Iteration')"
      ]
     },
     "execution_count": 944,
     "metadata": {},
     "output_type": "execute_result"
    },
    {
     "data": {
      "image/png": "[encoded data removed]",
      "text/plain": [
       "<Figure size 432x288 with 1 Axes>"
      ]
     },
     "metadata": {
      "needs_background": "light"
     },
     "output_type": "display_data"
    }
   ],
   "source": [
    "ax = sns.barplot(x=\"Iteration\", y=\"Time\", data=comb, hue=\"algorithm\")\n",
    "ax.set_title(\"Frozen Lake: Runtime vs. Iteration\")"
   ]
  },
  {
   "cell_type": "code",
   "execution_count": 945,
   "metadata": {},
   "outputs": [
    {
     "name": "stdout",
     "output_type": "stream",
     "text": [
      " Iteration   Variation\n",
      "         1    0.333333\n",
      "         2    0.066667\n",
      "         3    0.026667\n",
      "         4    0.016000\n",
      "         5    0.006933\n",
      "         6    0.003840\n",
      "Iterating stopped, epsilon-optimal policy found.\n",
      " Iteration   Variation\n",
      "         1    0.333333\n",
      "         2    0.077778\n",
      "         3    0.036296\n",
      "         4    0.025407\n",
      "         5    0.012845\n",
      "         6    0.008300\n",
      "         7    0.004573\n",
      "         8    0.002874\n",
      "Iterating stopped, epsilon-optimal policy found.\n",
      " Iteration   Variation\n",
      "         1    0.333333\n",
      "         2    0.088889\n",
      "         3    0.047407\n",
      "         4    0.037926\n",
      "         5    0.021913\n",
      "         6    0.016182\n",
      "         7    0.010188\n",
      "         8    0.007320\n",
      "         9    0.004935\n",
      "        10    0.003459\n",
      "        11    0.002483\n",
      "Iterating stopped, epsilon-optimal policy found.\n",
      " Iteration   Variation\n",
      "         1    0.333333\n",
      "         2    0.100000\n",
      "         3    0.060000\n",
      "         4    0.054000\n",
      "         5    0.035100\n",
      "         6    0.029160\n",
      "         7    0.020655\n",
      "         8    0.016694\n",
      "         9    0.012663\n",
      "        10    0.009986\n",
      "        11    0.008062\n",
      "        12    0.006474\n",
      "        13    0.005474\n",
      "        14    0.004693\n",
      "        15    0.003987\n",
      "        16    0.003420\n",
      "        17    0.003040\n",
      "        18    0.002714\n",
      "        19    0.002436\n",
      "        20    0.002175\n",
      "        21    0.001935\n",
      "        22    0.001715\n",
      "        23    0.001516\n",
      "        24    0.001337\n",
      "        25    0.001178\n",
      "        26    0.001035\n",
      "Iterating stopped, epsilon-optimal policy found.\n",
      "WARNING: check conditions of convergence. With no discount, convergence can not be assumed.\n",
      " Iteration   Variation\n",
      "         1    0.333333\n",
      "         2    0.111111\n",
      "         3    0.074074\n",
      "         4    0.074074\n",
      "         5    0.053498\n",
      "         6    0.049383\n",
      "         7    0.038866\n",
      "         8    0.034903\n",
      "         9    0.029416\n",
      "        10    0.025775\n",
      "        11    0.023122\n",
      "        12    0.020631\n",
      "        13    0.019383\n",
      "        14    0.018481\n",
      "        15    0.017536\n",
      "        16    0.017020\n",
      "        17    0.016803\n",
      "        18    0.016768\n",
      "        19    0.016687\n",
      "        20    0.016532\n",
      "        21    0.016316\n",
      "        22    0.016055\n",
      "        23    0.015760\n",
      "        24    0.015438\n",
      "        25    0.015098\n",
      "        26    0.014744\n",
      "        27    0.014383\n",
      "        28    0.014016\n",
      "        29    0.013648\n",
      "        30    0.013281\n",
      "        31    0.012917\n",
      "        32    0.012557\n",
      "        33    0.012202\n",
      "        34    0.011853\n",
      "        35    0.011511\n",
      "        36    0.011176\n",
      "        37    0.010849\n",
      "        38    0.010530\n",
      "        39    0.010219\n",
      "        40    0.009916\n",
      "Iterating stopped, epsilon-optimal policy found.\n"
     ]
    }
   ],
   "source": [
    "vi_output = pd.DataFrame()\n",
    "\n",
    "for discount_factor in [0.6, 0.7, 0.8, 0.9, 1]:\n",
    "    mdp_val = MarkovDecisionProcess(\"FrozenLake-v0\", discount_factor)\n",
    "    mdp_val.run(\"value_iteration\") \n",
    "    df = pd.DataFrame(mdp_val.output)\n",
    "    df['algorithm'] = \"value_iteration\"\n",
    "    df['discount_factor'] = discount_factor\n",
    "    vi_output = vi_output.append(df)"
   ]
  },
  {
   "cell_type": "code",
   "execution_count": 946,
   "metadata": {},
   "outputs": [
    {
     "ename": "AttributeError",
     "evalue": "'list' object has no attribute 'get'",
     "output_type": "error",
     "traceback": [
      "\u001b[0;31m---------------------------------------------------------------------------\u001b[0m",
      "\u001b[0;31mAttributeError\u001b[0m                            Traceback (most recent call last)",
      "\u001b[0;32m<ipython-input-946-ad76827ff599>\u001b[0m in \u001b[0;36m<module>\u001b[0;34m()\u001b[0m\n\u001b[0;32m----> 1\u001b[0;31m \u001b[0max\u001b[0m \u001b[0;34m=\u001b[0m \u001b[0msns\u001b[0m\u001b[0;34m.\u001b[0m\u001b[0mlineplot\u001b[0m\u001b[0;34m(\u001b[0m\u001b[0mx\u001b[0m\u001b[0;34m=\u001b[0m\u001b[0;34m\"discount_factor\"\u001b[0m\u001b[0;34m,\u001b[0m \u001b[0my\u001b[0m\u001b[0;34m=\u001b[0m\u001b[0;34m\"Reward\"\u001b[0m\u001b[0;34m,\u001b[0m \u001b[0mdata\u001b[0m\u001b[0;34m=\u001b[0m\u001b[0moutput\u001b[0m\u001b[0;34m)\u001b[0m\u001b[0;34m\u001b[0m\u001b[0m\n\u001b[0m",
      "\u001b[0;32m/Library/Frameworks/Python.framework/Versions/3.7/lib/python3.7/site-packages/seaborn/relational.py\u001b[0m in \u001b[0;36mlineplot\u001b[0;34m(x, y, hue, size, style, data, palette, hue_order, hue_norm, sizes, size_order, size_norm, dashes, markers, style_order, units, estimator, ci, n_boot, seed, sort, err_style, err_kws, legend, ax, **kwargs)\u001b[0m\n\u001b[1;32m   1129\u001b[0m         \u001b[0mdashes\u001b[0m\u001b[0;34m=\u001b[0m\u001b[0mdashes\u001b[0m\u001b[0;34m,\u001b[0m \u001b[0mmarkers\u001b[0m\u001b[0;34m=\u001b[0m\u001b[0mmarkers\u001b[0m\u001b[0;34m,\u001b[0m \u001b[0mstyle_order\u001b[0m\u001b[0;34m=\u001b[0m\u001b[0mstyle_order\u001b[0m\u001b[0;34m,\u001b[0m\u001b[0;34m\u001b[0m\u001b[0m\n\u001b[1;32m   1130\u001b[0m         \u001b[0munits\u001b[0m\u001b[0;34m=\u001b[0m\u001b[0munits\u001b[0m\u001b[0;34m,\u001b[0m \u001b[0mestimator\u001b[0m\u001b[0;34m=\u001b[0m\u001b[0mestimator\u001b[0m\u001b[0;34m,\u001b[0m \u001b[0mci\u001b[0m\u001b[0;34m=\u001b[0m\u001b[0mci\u001b[0m\u001b[0;34m,\u001b[0m \u001b[0mn_boot\u001b[0m\u001b[0;34m=\u001b[0m\u001b[0mn_boot\u001b[0m\u001b[0;34m,\u001b[0m \u001b[0mseed\u001b[0m\u001b[0;34m=\u001b[0m\u001b[0mseed\u001b[0m\u001b[0;34m,\u001b[0m\u001b[0;34m\u001b[0m\u001b[0m\n\u001b[0;32m-> 1131\u001b[0;31m         \u001b[0msort\u001b[0m\u001b[0;34m=\u001b[0m\u001b[0msort\u001b[0m\u001b[0;34m,\u001b[0m \u001b[0merr_style\u001b[0m\u001b[0;34m=\u001b[0m\u001b[0merr_style\u001b[0m\u001b[0;34m,\u001b[0m \u001b[0merr_kws\u001b[0m\u001b[0;34m=\u001b[0m\u001b[0merr_kws\u001b[0m\u001b[0;34m,\u001b[0m \u001b[0mlegend\u001b[0m\u001b[0;34m=\u001b[0m\u001b[0mlegend\u001b[0m\u001b[0;34m,\u001b[0m\u001b[0;34m\u001b[0m\u001b[0m\n\u001b[0m\u001b[1;32m   1132\u001b[0m     )\n\u001b[1;32m   1133\u001b[0m \u001b[0;34m\u001b[0m\u001b[0m\n",
      "\u001b[0;32m/Library/Frameworks/Python.framework/Versions/3.7/lib/python3.7/site-packages/seaborn/relational.py\u001b[0m in \u001b[0;36m__init__\u001b[0;34m(self, x, y, hue, size, style, data, palette, hue_order, hue_norm, sizes, size_order, size_norm, dashes, markers, style_order, units, estimator, ci, n_boot, seed, sort, err_style, err_kws, legend)\u001b[0m\n\u001b[1;32m    698\u001b[0m \u001b[0;34m\u001b[0m\u001b[0m\n\u001b[1;32m    699\u001b[0m         plot_data = self.establish_variables(\n\u001b[0;32m--> 700\u001b[0;31m             \u001b[0mx\u001b[0m\u001b[0;34m,\u001b[0m \u001b[0my\u001b[0m\u001b[0;34m,\u001b[0m \u001b[0mhue\u001b[0m\u001b[0;34m,\u001b[0m \u001b[0msize\u001b[0m\u001b[0;34m,\u001b[0m \u001b[0mstyle\u001b[0m\u001b[0;34m,\u001b[0m \u001b[0munits\u001b[0m\u001b[0;34m,\u001b[0m \u001b[0mdata\u001b[0m\u001b[0;34m\u001b[0m\u001b[0m\n\u001b[0m\u001b[1;32m    701\u001b[0m         )\n\u001b[1;32m    702\u001b[0m \u001b[0;34m\u001b[0m\u001b[0m\n",
      "\u001b[0;32m/Library/Frameworks/Python.framework/Versions/3.7/lib/python3.7/site-packages/seaborn/relational.py\u001b[0m in \u001b[0;36mestablish_variables\u001b[0;34m(self, x, y, hue, size, style, units, data)\u001b[0m\n\u001b[1;32m    129\u001b[0m             \u001b[0;31m# Use variables as from the dataframe if specified\u001b[0m\u001b[0;34m\u001b[0m\u001b[0;34m\u001b[0m\u001b[0m\n\u001b[1;32m    130\u001b[0m             \u001b[0;32mif\u001b[0m \u001b[0mdata\u001b[0m \u001b[0;32mis\u001b[0m \u001b[0;32mnot\u001b[0m \u001b[0;32mNone\u001b[0m\u001b[0;34m:\u001b[0m\u001b[0;34m\u001b[0m\u001b[0m\n\u001b[0;32m--> 131\u001b[0;31m                 \u001b[0mx\u001b[0m \u001b[0;34m=\u001b[0m \u001b[0mdata\u001b[0m\u001b[0;34m.\u001b[0m\u001b[0mget\u001b[0m\u001b[0;34m(\u001b[0m\u001b[0mx\u001b[0m\u001b[0;34m,\u001b[0m \u001b[0mx\u001b[0m\u001b[0;34m)\u001b[0m\u001b[0;34m\u001b[0m\u001b[0m\n\u001b[0m\u001b[1;32m    132\u001b[0m                 \u001b[0my\u001b[0m \u001b[0;34m=\u001b[0m \u001b[0mdata\u001b[0m\u001b[0;34m.\u001b[0m\u001b[0mget\u001b[0m\u001b[0;34m(\u001b[0m\u001b[0my\u001b[0m\u001b[0;34m,\u001b[0m \u001b[0my\u001b[0m\u001b[0;34m)\u001b[0m\u001b[0;34m\u001b[0m\u001b[0m\n\u001b[1;32m    133\u001b[0m                 \u001b[0mhue\u001b[0m \u001b[0;34m=\u001b[0m \u001b[0mdata\u001b[0m\u001b[0;34m.\u001b[0m\u001b[0mget\u001b[0m\u001b[0;34m(\u001b[0m\u001b[0mhue\u001b[0m\u001b[0;34m,\u001b[0m \u001b[0mhue\u001b[0m\u001b[0;34m)\u001b[0m\u001b[0;34m\u001b[0m\u001b[0m\n",
      "\u001b[0;31mAttributeError\u001b[0m: 'list' object has no attribute 'get'"
     ]
    }
   ],
   "source": [
    "ax = sns.lineplot(x=\"discount_factor\", y=\"Reward\", data=output)\n"
   ]
  },
  {
   "cell_type": "code",
   "execution_count": 947,
   "metadata": {},
   "outputs": [
    {
     "name": "stdout",
     "output_type": "stream",
     "text": [
      " Iteration   Variation\n",
      "         1           6\n",
      "         2           5\n",
      "         3           2\n",
      "         4           0\n",
      "Iterating stopped, unchanging policy found.\n",
      " Iteration   Variation\n",
      "         1           6\n",
      "         2           5\n",
      "         3           2\n",
      "         4           0\n",
      "Iterating stopped, unchanging policy found.\n",
      " Iteration   Variation\n",
      "         1           6\n",
      "         2           6\n",
      "         3           2\n",
      "         4           1\n",
      "         5           0\n",
      "Iterating stopped, unchanging policy found.\n",
      " Iteration   Variation\n",
      "         1           7\n",
      "         2           5\n",
      "         3           4\n",
      "         4           2\n",
      "         5           1\n",
      "         6           0\n",
      "Iterating stopped, unchanging policy found.\n"
     ]
    }
   ],
   "source": [
    "pi_output = pd.DataFrame()\n",
    "\n",
    "for discount_factor in [0.6, 0.7, 0.8, 0.9]:\n",
    "    mdp_val = MarkovDecisionProcess(\"FrozenLake-v0\", discount_factor)\n",
    "    mdp_val.run(\"policy_iteration\") \n",
    "    df = pd.DataFrame(mdp_val.output)\n",
    "    df['algorithm'] = \"policy_iteration\"\n",
    "    df['discount_factor'] = discount_factor\n",
    "    pi_output = pi_output.append(df)"
   ]
  },
  {
   "cell_type": "code",
   "execution_count": 948,
   "metadata": {},
   "outputs": [],
   "source": [
    "df_output = pd.concat([vi_output, pi_output, ql_output])"
   ]
  },
  {
   "cell_type": "code",
   "execution_count": 949,
   "metadata": {},
   "outputs": [
    {
     "data": {
      "text/plain": [
       "Text(0.5, 1.0, 'Frozen Lake: Reward vs. Discount Factor')"
      ]
     },
     "execution_count": 949,
     "metadata": {},
     "output_type": "execute_result"
    },
    {
     "data": {
      "image/png": "[encoded data removed]",
      "text/plain": [
       "<Figure size 432x288 with 1 Axes>"
      ]
     },
     "metadata": {
      "needs_background": "light"
     },
     "output_type": "display_data"
    }
   ],
   "source": [
    "ax = sns.lineplot(x=\"discount_factor\", y=\"Reward\", hue=\"algorithm\", data=df_output)\n",
    "ax.set_title(\"Frozen Lake: Reward vs. Discount Factor\")"
   ]
  },
  {
   "cell_type": "markdown",
   "metadata": {},
   "source": [
    "### Q Learning"
   ]
  },
  {
   "cell_type": "code",
   "execution_count": 952,
   "metadata": {},
   "outputs": [],
   "source": [
    "ideal = mdp_val.policy"
   ]
  },
  {
   "cell_type": "code",
   "execution_count": 978,
   "metadata": {},
   "outputs": [
    {
     "name": "stdout",
     "output_type": "stream",
     "text": [
      "hello\n",
      "0.762645959854126\n"
     ]
    }
   ],
   "source": [
    "start = time.time()\n",
    "print(\"hello\")\n",
    "\n",
    "# Plot the Q-values as a heatmap\n",
    "mdp_ql = MarkovDecisionProcess(\"FrozenLake-v0\", alpha=0.1)\n",
    "mdp_ql.run(\"q_learning\")\n",
    "\n",
    "mdp_ql.output\n",
    "\n",
    "end = time.time()\n",
    "print(end - start)"
   ]
  },
  {
   "cell_type": "code",
   "execution_count": 869,
   "metadata": {},
   "outputs": [
    {
     "data": {
      "text/plain": [
       "<matplotlib.axes._subplots.AxesSubplot at 0x1370237b8>"
      ]
     },
     "execution_count": 869,
     "metadata": {},
     "output_type": "execute_result"
    },
    {
     "data": {
      "image/png": "[encoded data removed]",
      "text/plain": [
       "<Figure size 432x288 with 2 Axes>"
      ]
     },
     "metadata": {
      "needs_background": "light"
     },
     "output_type": "display_data"
    }
   ],
   "source": [
    "sns.heatmap(mdp_ql.Q)"
   ]
  },
  {
   "cell_type": "code",
   "execution_count": null,
   "metadata": {},
   "outputs": [],
   "source": [
    "# discount: 0.1, alpha: 0.7, epsilon: 0.97, epsilon_decay: 0.02\n",
    "# (0, 1, 0, 0, 2, 0, 2, 0, 3, 1, 0, 0, 0, 2, 1, 0)"
   ]
  },
  {
   "cell_type": "code",
   "execution_count": 972,
   "metadata": {},
   "outputs": [
    {
     "data": {
      "text/plain": [
       "(0, 3, 0, 3, 0, 0, 0, 0, 3, 1, 0, 0, 0, 2, 1, 0)"
      ]
     },
     "execution_count": 972,
     "metadata": {},
     "output_type": "execute_result"
    }
   ],
   "source": [
    "ideal"
   ]
  },
  {
   "cell_type": "code",
   "execution_count": 976,
   "metadata": {},
   "outputs": [
    {
     "name": "stdout",
     "output_type": "stream",
     "text": [
      "discount: 0.05, alpha: 0.65, epsilon: 0.96, epsilon_decay: 0.01\n",
      "(0, 0, 0, 0, 0, 0, 0, 0, 0, 1, 0, 0, 0, 2, 3, 0)\n",
      "discount: 0.05, alpha: 0.65, epsilon: 0.96, epsilon_decay: 0.02\n",
      "(0, 0, 0, 0, 0, 0, 0, 0, 0, 0, 0, 0, 0, 0, 1, 0)\n",
      "discount: 0.05, alpha: 0.65, epsilon: 0.97, epsilon_decay: 0.01\n",
      "(0, 0, 0, 0, 0, 0, 0, 0, 0, 0, 0, 0, 0, 0, 0, 0)\n",
      "discount: 0.05, alpha: 0.65, epsilon: 0.97, epsilon_decay: 0.02\n",
      "(0, 0, 0, 0, 0, 0, 0, 0, 0, 0, 0, 0, 0, 0, 0, 0)\n",
      "discount: 0.05, alpha: 0.65, epsilon: 0.98, epsilon_decay: 0.01\n",
      "(0, 0, 0, 0, 0, 0, 0, 0, 0, 0, 0, 0, 0, 0, 0, 0)\n",
      "discount: 0.05, alpha: 0.65, epsilon: 0.98, epsilon_decay: 0.02\n",
      "(0, 0, 0, 0, 0, 0, 0, 0, 0, 0, 0, 0, 0, 0, 0, 0)\n",
      "discount: 0.05, alpha: 0.65, epsilon: 0.99, epsilon_decay: 0.01\n",
      "(0, 0, 0, 0, 0, 0, 2, 0, 0, 0, 0, 0, 0, 0, 3, 0)\n",
      "discount: 0.05, alpha: 0.65, epsilon: 0.99, epsilon_decay: 0.02\n",
      "(0, 0, 0, 0, 0, 0, 0, 0, 0, 0, 0, 0, 0, 0, 0, 0)\n",
      "discount: 0.05, alpha: 0.7, epsilon: 0.96, epsilon_decay: 0.01\n",
      "(0, 0, 0, 0, 0, 0, 0, 0, 0, 0, 0, 0, 0, 0, 0, 0)\n",
      "discount: 0.05, alpha: 0.7, epsilon: 0.96, epsilon_decay: 0.02\n",
      "(0, 0, 0, 0, 0, 0, 0, 0, 0, 0, 0, 0, 0, 0, 0, 0)\n",
      "discount: 0.05, alpha: 0.7, epsilon: 0.97, epsilon_decay: 0.01\n",
      "(0, 0, 0, 0, 0, 0, 0, 0, 0, 0, 0, 0, 0, 0, 2, 0)\n",
      "discount: 0.05, alpha: 0.7, epsilon: 0.97, epsilon_decay: 0.02\n",
      "(0, 0, 0, 0, 0, 0, 0, 0, 0, 0, 0, 0, 0, 0, 0, 0)\n",
      "discount: 0.05, alpha: 0.7, epsilon: 0.98, epsilon_decay: 0.01\n",
      "(0, 0, 0, 0, 0, 0, 0, 0, 0, 0, 0, 0, 0, 0, 0, 0)\n",
      "discount: 0.05, alpha: 0.7, epsilon: 0.98, epsilon_decay: 0.02\n",
      "(0, 0, 0, 0, 0, 0, 0, 0, 0, 0, 0, 0, 0, 0, 0, 0)\n",
      "discount: 0.05, alpha: 0.7, epsilon: 0.99, epsilon_decay: 0.01\n",
      "(0, 0, 0, 0, 0, 0, 0, 0, 0, 0, 0, 0, 0, 0, 0, 0)\n",
      "discount: 0.05, alpha: 0.7, epsilon: 0.99, epsilon_decay: 0.02\n",
      "(2, 3, 0, 3, 0, 0, 0, 0, 0, 0, 0, 0, 0, 0, 1, 0)\n",
      "discount: 0.05, alpha: 0.75, epsilon: 0.96, epsilon_decay: 0.01\n",
      "(0, 0, 0, 0, 0, 0, 0, 0, 0, 0, 0, 0, 0, 1, 1, 0)\n",
      "discount: 0.05, alpha: 0.75, epsilon: 0.96, epsilon_decay: 0.02\n",
      "(0, 0, 0, 0, 0, 0, 0, 0, 0, 0, 0, 0, 0, 0, 0, 0)\n",
      "discount: 0.05, alpha: 0.75, epsilon: 0.97, epsilon_decay: 0.01\n",
      "(0, 2, 0, 0, 0, 0, 0, 0, 0, 0, 0, 0, 0, 0, 2, 0)\n",
      "discount: 0.05, alpha: 0.75, epsilon: 0.97, epsilon_decay: 0.02\n",
      "(0, 0, 0, 0, 0, 0, 0, 0, 0, 0, 0, 0, 0, 0, 0, 0)\n",
      "discount: 0.05, alpha: 0.75, epsilon: 0.98, epsilon_decay: 0.01\n",
      "(0, 0, 0, 0, 0, 0, 0, 0, 0, 0, 0, 0, 0, 0, 0, 0)\n",
      "discount: 0.05, alpha: 0.75, epsilon: 0.98, epsilon_decay: 0.02\n",
      "(0, 0, 0, 0, 0, 0, 0, 0, 0, 0, 0, 0, 0, 0, 0, 0)\n",
      "discount: 0.05, alpha: 0.75, epsilon: 0.99, epsilon_decay: 0.01\n",
      "(0, 0, 0, 0, 0, 0, 0, 0, 0, 0, 0, 0, 0, 0, 0, 0)\n",
      "discount: 0.05, alpha: 0.75, epsilon: 0.99, epsilon_decay: 0.02\n",
      "(0, 0, 0, 0, 0, 0, 0, 0, 0, 0, 0, 0, 0, 0, 1, 0)\n",
      "discount: 0.1, alpha: 0.65, epsilon: 0.96, epsilon_decay: 0.01\n",
      "(0, 0, 0, 0, 0, 0, 0, 0, 0, 0, 0, 0, 0, 1, 1, 0)\n",
      "discount: 0.1, alpha: 0.65, epsilon: 0.96, epsilon_decay: 0.02\n",
      "(0, 0, 0, 0, 0, 0, 0, 0, 0, 0, 0, 0, 0, 0, 0, 0)\n",
      "discount: 0.1, alpha: 0.65, epsilon: 0.97, epsilon_decay: 0.01\n",
      "(0, 1, 0, 0, 0, 0, 0, 0, 0, 1, 0, 0, 0, 1, 1, 0)\n",
      "discount: 0.1, alpha: 0.65, epsilon: 0.97, epsilon_decay: 0.02\n",
      "(0, 0, 0, 0, 0, 0, 0, 0, 0, 0, 0, 0, 0, 0, 0, 0)\n",
      "discount: 0.1, alpha: 0.65, epsilon: 0.98, epsilon_decay: 0.01\n",
      "(0, 0, 0, 0, 0, 0, 0, 0, 0, 0, 0, 0, 0, 0, 0, 0)\n",
      "discount: 0.1, alpha: 0.65, epsilon: 0.98, epsilon_decay: 0.02\n",
      "(0, 0, 0, 0, 0, 0, 0, 0, 0, 0, 0, 0, 0, 0, 0, 0)\n",
      "discount: 0.1, alpha: 0.65, epsilon: 0.99, epsilon_decay: 0.01\n",
      "(0, 0, 0, 0, 1, 0, 0, 0, 1, 3, 0, 0, 0, 0, 2, 0)\n",
      "discount: 0.1, alpha: 0.65, epsilon: 0.99, epsilon_decay: 0.02\n",
      "(0, 0, 0, 0, 0, 0, 0, 0, 0, 0, 0, 0, 0, 0, 0, 0)\n",
      "discount: 0.1, alpha: 0.7, epsilon: 0.96, epsilon_decay: 0.01\n",
      "(0, 0, 0, 0, 0, 0, 0, 0, 0, 0, 0, 0, 0, 0, 0, 0)\n",
      "discount: 0.1, alpha: 0.7, epsilon: 0.96, epsilon_decay: 0.02\n",
      "(0, 0, 0, 0, 0, 0, 0, 0, 0, 0, 0, 0, 0, 0, 0, 0)\n",
      "discount: 0.1, alpha: 0.7, epsilon: 0.97, epsilon_decay: 0.01\n",
      "(3, 2, 2, 0, 0, 0, 0, 0, 0, 2, 0, 0, 0, 0, 2, 0)\n",
      "discount: 0.1, alpha: 0.7, epsilon: 0.97, epsilon_decay: 0.02\n",
      "(0, 0, 0, 0, 0, 0, 0, 0, 0, 0, 0, 0, 0, 0, 0, 0)\n",
      "discount: 0.1, alpha: 0.7, epsilon: 0.98, epsilon_decay: 0.01\n",
      "(0, 0, 0, 0, 0, 0, 0, 0, 0, 3, 0, 0, 0, 0, 1, 0)\n",
      "discount: 0.1, alpha: 0.7, epsilon: 0.98, epsilon_decay: 0.02\n",
      "(0, 0, 0, 0, 0, 0, 0, 0, 0, 0, 0, 0, 0, 0, 1, 0)\n",
      "discount: 0.1, alpha: 0.7, epsilon: 0.99, epsilon_decay: 0.01\n",
      "(0, 0, 0, 0, 0, 0, 0, 0, 0, 0, 0, 0, 0, 0, 2, 0)\n",
      "discount: 0.1, alpha: 0.7, epsilon: 0.99, epsilon_decay: 0.02\n",
      "(0, 0, 0, 0, 0, 0, 0, 0, 0, 0, 0, 0, 0, 0, 0, 0)\n",
      "discount: 0.1, alpha: 0.75, epsilon: 0.96, epsilon_decay: 0.01\n",
      "(0, 0, 0, 0, 0, 0, 0, 0, 0, 0, 0, 0, 0, 0, 2, 0)\n",
      "discount: 0.1, alpha: 0.75, epsilon: 0.96, epsilon_decay: 0.02\n",
      "(0, 0, 0, 0, 0, 0, 0, 0, 0, 0, 0, 0, 0, 0, 0, 0)\n",
      "discount: 0.1, alpha: 0.75, epsilon: 0.97, epsilon_decay: 0.01\n",
      "(0, 0, 0, 0, 0, 0, 0, 0, 0, 2, 0, 0, 0, 0, 2, 0)\n",
      "discount: 0.1, alpha: 0.75, epsilon: 0.97, epsilon_decay: 0.02\n",
      "(0, 0, 1, 0, 0, 0, 0, 0, 0, 0, 1, 0, 0, 0, 2, 0)\n",
      "discount: 0.1, alpha: 0.75, epsilon: 0.98, epsilon_decay: 0.01\n",
      "(0, 0, 0, 0, 0, 0, 0, 0, 0, 0, 0, 0, 0, 0, 0, 0)\n",
      "discount: 0.1, alpha: 0.75, epsilon: 0.98, epsilon_decay: 0.02\n",
      "(0, 0, 0, 0, 0, 0, 0, 0, 0, 1, 0, 0, 0, 0, 1, 0)\n",
      "discount: 0.1, alpha: 0.75, epsilon: 0.99, epsilon_decay: 0.01\n",
      "(0, 0, 0, 0, 0, 0, 0, 0, 0, 0, 0, 0, 0, 0, 1, 0)\n",
      "discount: 0.1, alpha: 0.75, epsilon: 0.99, epsilon_decay: 0.02\n",
      "(0, 0, 0, 0, 0, 0, 0, 0, 0, 1, 1, 0, 0, 0, 2, 0)\n",
      "discount: 0.15, alpha: 0.65, epsilon: 0.96, epsilon_decay: 0.01\n",
      "(0, 0, 0, 0, 0, 0, 0, 0, 0, 0, 0, 0, 0, 0, 0, 0)\n",
      "discount: 0.15, alpha: 0.65, epsilon: 0.96, epsilon_decay: 0.02\n",
      "(0, 0, 0, 0, 0, 0, 0, 0, 0, 0, 0, 0, 0, 0, 0, 0)\n",
      "discount: 0.15, alpha: 0.65, epsilon: 0.97, epsilon_decay: 0.01\n",
      "(0, 0, 0, 0, 0, 0, 0, 0, 0, 0, 0, 0, 0, 0, 3, 0)\n",
      "discount: 0.15, alpha: 0.65, epsilon: 0.97, epsilon_decay: 0.02\n",
      "(0, 0, 0, 0, 0, 0, 0, 0, 0, 0, 0, 0, 0, 0, 2, 0)\n",
      "discount: 0.15, alpha: 0.65, epsilon: 0.98, epsilon_decay: 0.01\n",
      "(0, 1, 0, 0, 0, 0, 0, 0, 3, 3, 0, 0, 0, 1, 1, 0)\n",
      "discount: 0.15, alpha: 0.65, epsilon: 0.98, epsilon_decay: 0.02\n",
      "(0, 0, 0, 0, 0, 0, 0, 0, 0, 0, 0, 0, 0, 0, 3, 0)\n",
      "discount: 0.15, alpha: 0.65, epsilon: 0.99, epsilon_decay: 0.01\n",
      "(0, 0, 0, 0, 0, 0, 0, 0, 0, 0, 0, 0, 0, 0, 0, 0)\n",
      "discount: 0.15, alpha: 0.65, epsilon: 0.99, epsilon_decay: 0.02\n",
      "(0, 0, 0, 0, 0, 0, 0, 0, 0, 0, 0, 0, 0, 0, 0, 0)\n",
      "discount: 0.15, alpha: 0.7, epsilon: 0.96, epsilon_decay: 0.01\n",
      "(0, 0, 0, 0, 0, 0, 0, 0, 0, 0, 0, 0, 0, 0, 3, 0)\n",
      "discount: 0.15, alpha: 0.7, epsilon: 0.96, epsilon_decay: 0.02\n",
      "(0, 0, 0, 0, 0, 0, 0, 0, 0, 0, 0, 0, 0, 0, 0, 0)\n",
      "discount: 0.15, alpha: 0.7, epsilon: 0.97, epsilon_decay: 0.01\n",
      "(0, 0, 0, 0, 0, 0, 0, 0, 0, 0, 0, 0, 0, 0, 0, 0)\n",
      "discount: 0.15, alpha: 0.7, epsilon: 0.97, epsilon_decay: 0.02\n",
      "(0, 0, 0, 0, 0, 0, 0, 0, 0, 0, 0, 0, 0, 0, 0, 0)\n",
      "discount: 0.15, alpha: 0.7, epsilon: 0.98, epsilon_decay: 0.01\n",
      "(0, 0, 0, 0, 0, 0, 0, 0, 0, 0, 0, 0, 0, 0, 0, 0)\n",
      "discount: 0.15, alpha: 0.7, epsilon: 0.98, epsilon_decay: 0.02\n",
      "(0, 0, 0, 0, 0, 0, 0, 0, 0, 0, 0, 0, 0, 0, 0, 0)\n",
      "discount: 0.15, alpha: 0.7, epsilon: 0.99, epsilon_decay: 0.01\n",
      "(0, 0, 0, 0, 0, 0, 0, 0, 0, 0, 0, 0, 0, 0, 0, 0)\n",
      "discount: 0.15, alpha: 0.7, epsilon: 0.99, epsilon_decay: 0.02\n",
      "(0, 0, 0, 0, 0, 0, 0, 0, 0, 2, 0, 0, 0, 3, 3, 0)\n",
      "discount: 0.15, alpha: 0.75, epsilon: 0.96, epsilon_decay: 0.01\n",
      "(0, 0, 0, 0, 0, 0, 0, 0, 2, 3, 0, 0, 0, 0, 3, 0)\n",
      "discount: 0.15, alpha: 0.75, epsilon: 0.96, epsilon_decay: 0.02\n",
      "(0, 0, 0, 0, 0, 0, 0, 0, 0, 0, 0, 0, 0, 0, 0, 0)\n",
      "discount: 0.15, alpha: 0.75, epsilon: 0.97, epsilon_decay: 0.01\n",
      "(0, 0, 0, 0, 0, 0, 0, 0, 0, 0, 0, 0, 0, 0, 0, 0)\n",
      "discount: 0.15, alpha: 0.75, epsilon: 0.97, epsilon_decay: 0.02\n",
      "(0, 0, 1, 0, 0, 0, 2, 0, 0, 3, 0, 0, 0, 0, 3, 0)\n",
      "discount: 0.15, alpha: 0.75, epsilon: 0.98, epsilon_decay: 0.01\n",
      "(0, 0, 0, 0, 0, 0, 0, 0, 0, 0, 0, 0, 0, 0, 0, 0)\n",
      "discount: 0.15, alpha: 0.75, epsilon: 0.98, epsilon_decay: 0.02\n",
      "(0, 0, 0, 0, 0, 0, 0, 0, 0, 0, 0, 0, 0, 0, 0, 0)\n",
      "discount: 0.15, alpha: 0.75, epsilon: 0.99, epsilon_decay: 0.01\n",
      "(0, 0, 0, 0, 0, 0, 0, 0, 0, 0, 0, 0, 0, 0, 3, 0)\n",
      "discount: 0.15, alpha: 0.75, epsilon: 0.99, epsilon_decay: 0.02\n",
      "(0, 0, 0, 0, 0, 0, 0, 0, 0, 0, 0, 0, 0, 0, 0, 0)\n"
     ]
    }
   ],
   "source": [
    "ql_output = pd.DataFrame()\n",
    "\n",
    "matrix = {'discount': [0.05, 0.1, 0.15], 'alpha': [0.65, 0.7, 0.75], 'epsilon': [0.96, 0.97, 0.98, 0.99], 'epsilon_decay': [0.01, 0.02]}\n",
    "\n",
    "for d in matrix['discount']:\n",
    "    for a in matrix['alpha']:\n",
    "        for e in matrix['epsilon']:\n",
    "            for ed in matrix['epsilon_decay']:\n",
    "                mdp_ql = MarkovDecisionProcess(\"FrozenLake-v0\", discount_factor=d, alpha=a, epsilon=e, epsilon_decay=ed)\n",
    "                mdp_ql.run(\"q_learning\")\n",
    "                print(\"discount: {}, alpha: {}, epsilon: {}, epsilon_decay: {}\".format(d, a, e, ed))\n",
    "                print(mdp_ql.policy)\n",
    "                df = pd.DataFrame(mdp_ql.output)\n",
    "                df['algorithm'] = \"q_learning\"\n",
    "                df['learning_rate'] = alpha\n",
    "                ql_output = ql_output.append(df)\n"
   ]
  },
  {
   "cell_type": "code",
   "execution_count": 915,
   "metadata": {},
   "outputs": [],
   "source": [
    "# learning_rate = 0.1\n",
    "# discount_rate = 0.99\n",
    "\n",
    "# exploration_rate = 1\n",
    "# max_exploration_rate = 1\n",
    "# min_exploration_rate = 0.01\n",
    "# exploration_decay_rate = 0.01\n",
    "\n",
    "mdp_ql = MarkovDecisionProcess(\"FrozenLake-v0\", discount_factor=0.99, alpha=0.1, epsilon=1)\n",
    "mdp_ql.run(\"q_learning\")"
   ]
  },
  {
   "cell_type": "code",
   "execution_count": 916,
   "metadata": {},
   "outputs": [],
   "source": [
    "test = pd.DataFrame(mdp_ql.output)"
   ]
  },
  {
   "cell_type": "code",
   "execution_count": 920,
   "metadata": {},
   "outputs": [
    {
     "data": {
      "image/png": "[encoded data removed]",
      "text/plain": [
       "<Figure size 432x288 with 1 Axes>"
      ]
     },
     "metadata": {
      "needs_background": "light"
     },
     "output_type": "display_data"
    }
   ],
   "source": [
    "ax = sns.lineplot(x=\"Iteration\", y=\"Reward\", data=test)"
   ]
  },
  {
   "cell_type": "code",
   "execution_count": 921,
   "metadata": {},
   "outputs": [
    {
     "data": {
      "text/plain": [
       "(0, 0, 0, 0, 0, 0, 0, 0, 0, 1, 1, 0, 0, 0, 2, 0)"
      ]
     },
     "execution_count": 921,
     "metadata": {},
     "output_type": "execute_result"
    }
   ],
   "source": [
    "mdp_ql.policy"
   ]
  },
  {
   "cell_type": "code",
   "execution_count": 907,
   "metadata": {},
   "outputs": [
    {
     "data": {
      "text/plain": [
       "Text(0.5, 1.0, 'Frozen Lake - Policy Iteration: Reward v. Iteration')"
      ]
     },
     "execution_count": 907,
     "metadata": {},
     "output_type": "execute_result"
    },
    {
     "data": {
      "image/png": "[encoded data removed]",
      "text/plain": [
       "<Figure size 432x288 with 1 Axes>"
      ]
     },
     "metadata": {
      "needs_background": "light"
     },
     "output_type": "display_data"
    }
   ],
   "source": [
    "ax = sns.lineplot(x=\"Iteration\", y=\"Reward\", data=ql_output)\n",
    "ax.set_title(\"Frozen Lake - Policy Iteration: Reward v. Iteration\")"
   ]
  },
  {
   "cell_type": "code",
   "execution_count": 914,
   "metadata": {},
   "outputs": [
    {
     "data": {
      "text/plain": [
       "<matplotlib.axes._subplots.AxesSubplot at 0x149559e48>"
      ]
     },
     "execution_count": 914,
     "metadata": {},
     "output_type": "execute_result"
    },
    {
     "data": {
      "image/png": "[encoded data removed]",
      "text/plain": [
       "<Figure size 432x288 with 1 Axes>"
      ]
     },
     "metadata": {
      "needs_background": "light"
     },
     "output_type": "display_data"
    }
   ],
   "source": [
    "ql_output[(ql_output.Alpha == 0.001000 )& (ql_output.Epsilon == 0.10000)].Reward.plot()"
   ]
  },
  {
   "cell_type": "code",
   "execution_count": 894,
   "metadata": {},
   "outputs": [
    {
     "data": {
      "text/html": [
       "<div>\n",
       "<style scoped>\n",
       "    .dataframe tbody tr th:only-of-type {\n",
       "        vertical-align: middle;\n",
       "    }\n",
       "\n",
       "    .dataframe tbody tr th {\n",
       "        vertical-align: top;\n",
       "    }\n",
       "\n",
       "    .dataframe thead th {\n",
       "        text-align: right;\n",
       "    }\n",
       "</style>\n",
       "<table border=\"1\" class=\"dataframe\">\n",
       "  <thead>\n",
       "    <tr style=\"text-align: right;\">\n",
       "      <th></th>\n",
       "      <th>State</th>\n",
       "      <th>Action</th>\n",
       "      <th>Reward</th>\n",
       "      <th>Error</th>\n",
       "      <th>Time</th>\n",
       "      <th>Alpha</th>\n",
       "      <th>Epsilon</th>\n",
       "      <th>Gamma</th>\n",
       "      <th>Max V</th>\n",
       "      <th>Mean V</th>\n",
       "      <th>Iteration</th>\n",
       "      <th>algorithm</th>\n",
       "      <th>learning_rate</th>\n",
       "    </tr>\n",
       "  </thead>\n",
       "  <tbody>\n",
       "    <tr>\n",
       "      <th>0</th>\n",
       "      <td>1</td>\n",
       "      <td>3</td>\n",
       "      <td>0.0</td>\n",
       "      <td>0.0</td>\n",
       "      <td>0.000121</td>\n",
       "      <td>0.700000</td>\n",
       "      <td>0.970000</td>\n",
       "      <td>0.8</td>\n",
       "      <td>0.0</td>\n",
       "      <td>0.0</td>\n",
       "      <td>1</td>\n",
       "      <td>q_learning</td>\n",
       "      <td>0.8</td>\n",
       "    </tr>\n",
       "    <tr>\n",
       "      <th>1</th>\n",
       "      <td>1</td>\n",
       "      <td>0</td>\n",
       "      <td>0.0</td>\n",
       "      <td>0.0</td>\n",
       "      <td>0.000249</td>\n",
       "      <td>0.693000</td>\n",
       "      <td>0.960300</td>\n",
       "      <td>0.8</td>\n",
       "      <td>0.0</td>\n",
       "      <td>0.0</td>\n",
       "      <td>2</td>\n",
       "      <td>q_learning</td>\n",
       "      <td>0.8</td>\n",
       "    </tr>\n",
       "    <tr>\n",
       "      <th>2</th>\n",
       "      <td>0</td>\n",
       "      <td>2</td>\n",
       "      <td>0.0</td>\n",
       "      <td>0.0</td>\n",
       "      <td>0.000362</td>\n",
       "      <td>0.686070</td>\n",
       "      <td>0.950697</td>\n",
       "      <td>0.8</td>\n",
       "      <td>0.0</td>\n",
       "      <td>0.0</td>\n",
       "      <td>3</td>\n",
       "      <td>q_learning</td>\n",
       "      <td>0.8</td>\n",
       "    </tr>\n",
       "    <tr>\n",
       "      <th>3</th>\n",
       "      <td>1</td>\n",
       "      <td>0</td>\n",
       "      <td>0.0</td>\n",
       "      <td>0.0</td>\n",
       "      <td>0.000469</td>\n",
       "      <td>0.679209</td>\n",
       "      <td>0.941190</td>\n",
       "      <td>0.8</td>\n",
       "      <td>0.0</td>\n",
       "      <td>0.0</td>\n",
       "      <td>4</td>\n",
       "      <td>q_learning</td>\n",
       "      <td>0.8</td>\n",
       "    </tr>\n",
       "    <tr>\n",
       "      <th>4</th>\n",
       "      <td>5</td>\n",
       "      <td>0</td>\n",
       "      <td>0.0</td>\n",
       "      <td>0.0</td>\n",
       "      <td>0.000564</td>\n",
       "      <td>0.672417</td>\n",
       "      <td>0.931778</td>\n",
       "      <td>0.8</td>\n",
       "      <td>0.0</td>\n",
       "      <td>0.0</td>\n",
       "      <td>5</td>\n",
       "      <td>q_learning</td>\n",
       "      <td>0.8</td>\n",
       "    </tr>\n",
       "  </tbody>\n",
       "</table>\n",
       "</div>"
      ],
      "text/plain": [
       "   State  Action  Reward  Error      Time     Alpha   Epsilon  Gamma  Max V  \\\n",
       "0      1       3     0.0    0.0  0.000121  0.700000  0.970000    0.8    0.0   \n",
       "1      1       0     0.0    0.0  0.000249  0.693000  0.960300    0.8    0.0   \n",
       "2      0       2     0.0    0.0  0.000362  0.686070  0.950697    0.8    0.0   \n",
       "3      1       0     0.0    0.0  0.000469  0.679209  0.941190    0.8    0.0   \n",
       "4      5       0     0.0    0.0  0.000564  0.672417  0.931778    0.8    0.0   \n",
       "\n",
       "   Mean V  Iteration   algorithm  learning_rate  \n",
       "0     0.0          1  q_learning            0.8  \n",
       "1     0.0          2  q_learning            0.8  \n",
       "2     0.0          3  q_learning            0.8  \n",
       "3     0.0          4  q_learning            0.8  \n",
       "4     0.0          5  q_learning            0.8  "
      ]
     },
     "execution_count": 894,
     "metadata": {},
     "output_type": "execute_result"
    }
   ],
   "source": [
    "ql_output[ql]"
   ]
  },
  {
   "cell_type": "code",
   "execution_count": 893,
   "metadata": {},
   "outputs": [
    {
     "data": {
      "text/plain": [
       "0.10000    86\n",
       "0.94119     1\n",
       "0.13398     1\n",
       "0.97000     1\n",
       "Name: Epsilon, dtype: int64"
      ]
     },
     "execution_count": 893,
     "metadata": {},
     "output_type": "execute_result"
    }
   ],
   "source": [
    "ql_output[ql_output.Reward == 1].Epsilon.value_counts()"
   ]
  },
  {
   "cell_type": "code",
   "execution_count": 895,
   "metadata": {},
   "outputs": [
    {
     "data": {
      "text/plain": [
       "0.001000    83\n",
       "0.001924     1\n",
       "0.800000     1\n",
       "0.108266     1\n",
       "0.038452     1\n",
       "0.679209     1\n",
       "0.005100     1\n",
       "Name: Alpha, dtype: int64"
      ]
     },
     "execution_count": 895,
     "metadata": {},
     "output_type": "execute_result"
    }
   ],
   "source": [
    "ql_output[ql_output.Reward == 1].Alpha.value_counts()"
   ]
  },
  {
   "cell_type": "code",
   "execution_count": 896,
   "metadata": {},
   "outputs": [
    {
     "data": {
      "text/plain": [
       "1.0    39\n",
       "0.9    31\n",
       "0.8    19\n",
       "Name: Gamma, dtype: int64"
      ]
     },
     "execution_count": 896,
     "metadata": {},
     "output_type": "execute_result"
    }
   ],
   "source": [
    "ql_output[ql_output.Reward == 1].Gamma.value_counts()"
   ]
  },
  {
   "cell_type": "code",
   "execution_count": 385,
   "metadata": {},
   "outputs": [],
   "source": [
    "ql_output = pd.DataFrame()\n",
    "\n",
    "for x in range(10):\n",
    "    for alpha in [0.01, 0.02, 0.03, 0.04, 0.05, 0.1, 0.15, 0.2, 0.25, 0.3, 0.4, 0.5, 0.6, 0.7, 0.8]:\n",
    "        mdp_ql = MarkovDecisionProcess(\"FrozenLake-v0\", alpha=alpha)\n",
    "        mdp_ql.run(\"q_learning\")\n",
    "        df = pd.DataFrame(mdp_ql.output)\n",
    "        df['algorithm'] = \"q_learning\"\n",
    "        df['learning_rate'] = alpha\n",
    "        ql_output = ql_output.append(df)"
   ]
  },
  {
   "cell_type": "code",
   "execution_count": 823,
   "metadata": {},
   "outputs": [
    {
     "data": {
      "text/plain": [
       "(0, 0, 0, 0, 0, 0, 0, 0, 0, 0, 0, 0, 0, 0, 2, 0)"
      ]
     },
     "execution_count": 823,
     "metadata": {},
     "output_type": "execute_result"
    }
   ],
   "source": [
    "mdp_ql.policy"
   ]
  },
  {
   "cell_type": "code",
   "execution_count": 386,
   "metadata": {},
   "outputs": [],
   "source": [
    "ql_df = pd.DataFrame(mdp_ql.output)"
   ]
  },
  {
   "cell_type": "code",
   "execution_count": 387,
   "metadata": {},
   "outputs": [],
   "source": [
    "#                  alpha=0.1, alpha_decay=0.99, alpha_min=0.001,\n",
    "#                  epsilon=1.0, epsilon_min=0.1, epsilon_decay=0.99,\n",
    "#                  n_iter=10000, skip_check=False, iter_callback=None,\n",
    "#                  run_stat_frequency=None):"
   ]
  },
  {
   "cell_type": "code",
   "execution_count": 388,
   "metadata": {},
   "outputs": [
    {
     "data": {
      "text/plain": [
       "Text(0.5, 1.0, 'Frozen Lake: Reward vs. Learning Rate')"
      ]
     },
     "execution_count": 388,
     "metadata": {},
     "output_type": "execute_result"
    },
    {
     "data": {
      "image/png": "[encoded data removed]",
      "text/plain": [
       "<Figure size 432x288 with 1 Axes>"
      ]
     },
     "metadata": {
      "needs_background": "light"
     },
     "output_type": "display_data"
    }
   ],
   "source": [
    "ax = sns.lineplot(x=\"learning_rate\", y=\"Reward\", data=ql_output)\n",
    "ax.set_title(\"Frozen Lake: Reward vs. Learning Rate\")"
   ]
  },
  {
   "cell_type": "code",
   "execution_count": 221,
   "metadata": {},
   "outputs": [
    {
     "data": {
      "text/html": [
       "<div>\n",
       "<style scoped>\n",
       "    .dataframe tbody tr th:only-of-type {\n",
       "        vertical-align: middle;\n",
       "    }\n",
       "\n",
       "    .dataframe tbody tr th {\n",
       "        vertical-align: top;\n",
       "    }\n",
       "\n",
       "    .dataframe thead th {\n",
       "        text-align: right;\n",
       "    }\n",
       "</style>\n",
       "<table border=\"1\" class=\"dataframe\">\n",
       "  <thead>\n",
       "    <tr style=\"text-align: right;\">\n",
       "      <th></th>\n",
       "      <th>State</th>\n",
       "      <th>Action</th>\n",
       "      <th>Reward</th>\n",
       "      <th>Error</th>\n",
       "      <th>Time</th>\n",
       "      <th>Alpha</th>\n",
       "      <th>Epsilon</th>\n",
       "      <th>Gamma</th>\n",
       "      <th>Max V</th>\n",
       "      <th>Mean V</th>\n",
       "      <th>Iteration</th>\n",
       "    </tr>\n",
       "  </thead>\n",
       "  <tbody>\n",
       "    <tr>\n",
       "      <th>count</th>\n",
       "      <td>10000.000000</td>\n",
       "      <td>10000.000000</td>\n",
       "      <td>10000.0</td>\n",
       "      <td>10000.0</td>\n",
       "      <td>10000.000000</td>\n",
       "      <td>10000.000000</td>\n",
       "      <td>10000.000000</td>\n",
       "      <td>10000.0</td>\n",
       "      <td>10000.0</td>\n",
       "      <td>10000.0</td>\n",
       "      <td>10000.00000</td>\n",
       "    </tr>\n",
       "    <tr>\n",
       "      <th>mean</th>\n",
       "      <td>9.123100</td>\n",
       "      <td>0.161100</td>\n",
       "      <td>0.0</td>\n",
       "      <td>0.0</td>\n",
       "      <td>0.373004</td>\n",
       "      <td>0.001944</td>\n",
       "      <td>0.106709</td>\n",
       "      <td>0.5</td>\n",
       "      <td>0.0</td>\n",
       "      <td>0.0</td>\n",
       "      <td>5000.50000</td>\n",
       "    </tr>\n",
       "    <tr>\n",
       "      <th>std</th>\n",
       "      <td>3.625501</td>\n",
       "      <td>0.597313</td>\n",
       "      <td>0.0</td>\n",
       "      <td>0.0</td>\n",
       "      <td>0.197740</td>\n",
       "      <td>0.006887</td>\n",
       "      <td>0.057960</td>\n",
       "      <td>0.0</td>\n",
       "      <td>0.0</td>\n",
       "      <td>0.0</td>\n",
       "      <td>2886.89568</td>\n",
       "    </tr>\n",
       "    <tr>\n",
       "      <th>min</th>\n",
       "      <td>0.000000</td>\n",
       "      <td>0.000000</td>\n",
       "      <td>0.0</td>\n",
       "      <td>0.0</td>\n",
       "      <td>0.000143</td>\n",
       "      <td>0.001000</td>\n",
       "      <td>0.100000</td>\n",
       "      <td>0.5</td>\n",
       "      <td>0.0</td>\n",
       "      <td>0.0</td>\n",
       "      <td>1.00000</td>\n",
       "    </tr>\n",
       "    <tr>\n",
       "      <th>25%</th>\n",
       "      <td>5.000000</td>\n",
       "      <td>0.000000</td>\n",
       "      <td>0.0</td>\n",
       "      <td>0.0</td>\n",
       "      <td>0.209511</td>\n",
       "      <td>0.001000</td>\n",
       "      <td>0.100000</td>\n",
       "      <td>0.5</td>\n",
       "      <td>0.0</td>\n",
       "      <td>0.0</td>\n",
       "      <td>2500.75000</td>\n",
       "    </tr>\n",
       "    <tr>\n",
       "      <th>50%</th>\n",
       "      <td>11.000000</td>\n",
       "      <td>0.000000</td>\n",
       "      <td>0.0</td>\n",
       "      <td>0.0</td>\n",
       "      <td>0.377481</td>\n",
       "      <td>0.001000</td>\n",
       "      <td>0.100000</td>\n",
       "      <td>0.5</td>\n",
       "      <td>0.0</td>\n",
       "      <td>0.0</td>\n",
       "      <td>5000.50000</td>\n",
       "    </tr>\n",
       "    <tr>\n",
       "      <th>75%</th>\n",
       "      <td>12.000000</td>\n",
       "      <td>0.000000</td>\n",
       "      <td>0.0</td>\n",
       "      <td>0.0</td>\n",
       "      <td>0.542160</td>\n",
       "      <td>0.001000</td>\n",
       "      <td>0.100000</td>\n",
       "      <td>0.5</td>\n",
       "      <td>0.0</td>\n",
       "      <td>0.0</td>\n",
       "      <td>7500.25000</td>\n",
       "    </tr>\n",
       "    <tr>\n",
       "      <th>max</th>\n",
       "      <td>15.000000</td>\n",
       "      <td>3.000000</td>\n",
       "      <td>0.0</td>\n",
       "      <td>0.0</td>\n",
       "      <td>0.710341</td>\n",
       "      <td>0.100000</td>\n",
       "      <td>1.000000</td>\n",
       "      <td>0.5</td>\n",
       "      <td>0.0</td>\n",
       "      <td>0.0</td>\n",
       "      <td>10000.00000</td>\n",
       "    </tr>\n",
       "  </tbody>\n",
       "</table>\n",
       "</div>"
      ],
      "text/plain": [
       "              State        Action   Reward    Error          Time  \\\n",
       "count  10000.000000  10000.000000  10000.0  10000.0  10000.000000   \n",
       "mean       9.123100      0.161100      0.0      0.0      0.373004   \n",
       "std        3.625501      0.597313      0.0      0.0      0.197740   \n",
       "min        0.000000      0.000000      0.0      0.0      0.000143   \n",
       "25%        5.000000      0.000000      0.0      0.0      0.209511   \n",
       "50%       11.000000      0.000000      0.0      0.0      0.377481   \n",
       "75%       12.000000      0.000000      0.0      0.0      0.542160   \n",
       "max       15.000000      3.000000      0.0      0.0      0.710341   \n",
       "\n",
       "              Alpha       Epsilon    Gamma    Max V   Mean V    Iteration  \n",
       "count  10000.000000  10000.000000  10000.0  10000.0  10000.0  10000.00000  \n",
       "mean       0.001944      0.106709      0.5      0.0      0.0   5000.50000  \n",
       "std        0.006887      0.057960      0.0      0.0      0.0   2886.89568  \n",
       "min        0.001000      0.100000      0.5      0.0      0.0      1.00000  \n",
       "25%        0.001000      0.100000      0.5      0.0      0.0   2500.75000  \n",
       "50%        0.001000      0.100000      0.5      0.0      0.0   5000.50000  \n",
       "75%        0.001000      0.100000      0.5      0.0      0.0   7500.25000  \n",
       "max        0.100000      1.000000      0.5      0.0      0.0  10000.00000  "
      ]
     },
     "execution_count": 221,
     "metadata": {},
     "output_type": "execute_result"
    }
   ],
   "source": [
    "# https://towardsdatascience.com/practical-reinforcement-learning-02-getting-started-with-q-learning-582f63e4acd9\n",
    "# gamma - Discount factor \n",
    "# alpha - Learning rate \n",
    "ql_df.sort_values('Reward').describe()"
   ]
  },
  {
   "cell_type": "code",
   "execution_count": 24,
   "metadata": {},
   "outputs": [
    {
     "data": {
      "text/html": [
       "<div>\n",
       "<style scoped>\n",
       "    .dataframe tbody tr th:only-of-type {\n",
       "        vertical-align: middle;\n",
       "    }\n",
       "\n",
       "    .dataframe tbody tr th {\n",
       "        vertical-align: top;\n",
       "    }\n",
       "\n",
       "    .dataframe thead th {\n",
       "        text-align: right;\n",
       "    }\n",
       "</style>\n",
       "<table border=\"1\" class=\"dataframe\">\n",
       "  <thead>\n",
       "    <tr style=\"text-align: right;\">\n",
       "      <th></th>\n",
       "      <th>State</th>\n",
       "      <th>Action</th>\n",
       "      <th>Reward</th>\n",
       "      <th>Error</th>\n",
       "      <th>Time</th>\n",
       "      <th>Alpha</th>\n",
       "      <th>Epsilon</th>\n",
       "      <th>Gamma</th>\n",
       "      <th>Max V</th>\n",
       "      <th>Mean V</th>\n",
       "      <th>Iteration</th>\n",
       "    </tr>\n",
       "  </thead>\n",
       "  <tbody>\n",
       "    <tr>\n",
       "      <th>0</th>\n",
       "      <td>4</td>\n",
       "      <td>2</td>\n",
       "      <td>0.0</td>\n",
       "      <td>0.000000e+00</td>\n",
       "      <td>0.000161</td>\n",
       "      <td>0.10000</td>\n",
       "      <td>1.000000</td>\n",
       "      <td>0.9</td>\n",
       "      <td>0.000000</td>\n",
       "      <td>0.000000</td>\n",
       "      <td>1</td>\n",
       "    </tr>\n",
       "    <tr>\n",
       "      <th>1</th>\n",
       "      <td>0</td>\n",
       "      <td>1</td>\n",
       "      <td>0.0</td>\n",
       "      <td>0.000000e+00</td>\n",
       "      <td>0.000289</td>\n",
       "      <td>0.09900</td>\n",
       "      <td>0.990000</td>\n",
       "      <td>0.9</td>\n",
       "      <td>0.000000</td>\n",
       "      <td>0.000000</td>\n",
       "      <td>2</td>\n",
       "    </tr>\n",
       "    <tr>\n",
       "      <th>2</th>\n",
       "      <td>0</td>\n",
       "      <td>1</td>\n",
       "      <td>0.0</td>\n",
       "      <td>0.000000e+00</td>\n",
       "      <td>0.000405</td>\n",
       "      <td>0.09801</td>\n",
       "      <td>0.980100</td>\n",
       "      <td>0.9</td>\n",
       "      <td>0.000000</td>\n",
       "      <td>0.000000</td>\n",
       "      <td>3</td>\n",
       "    </tr>\n",
       "    <tr>\n",
       "      <th>3</th>\n",
       "      <td>4</td>\n",
       "      <td>3</td>\n",
       "      <td>0.0</td>\n",
       "      <td>0.000000e+00</td>\n",
       "      <td>0.000509</td>\n",
       "      <td>0.09703</td>\n",
       "      <td>0.970299</td>\n",
       "      <td>0.9</td>\n",
       "      <td>0.000000</td>\n",
       "      <td>0.000000</td>\n",
       "      <td>4</td>\n",
       "    </tr>\n",
       "    <tr>\n",
       "      <th>4</th>\n",
       "      <td>0</td>\n",
       "      <td>2</td>\n",
       "      <td>0.0</td>\n",
       "      <td>0.000000e+00</td>\n",
       "      <td>0.000613</td>\n",
       "      <td>0.09606</td>\n",
       "      <td>0.960596</td>\n",
       "      <td>0.9</td>\n",
       "      <td>0.000000</td>\n",
       "      <td>0.000000</td>\n",
       "      <td>5</td>\n",
       "    </tr>\n",
       "    <tr>\n",
       "      <th>...</th>\n",
       "      <td>...</td>\n",
       "      <td>...</td>\n",
       "      <td>...</td>\n",
       "      <td>...</td>\n",
       "      <td>...</td>\n",
       "      <td>...</td>\n",
       "      <td>...</td>\n",
       "      <td>...</td>\n",
       "      <td>...</td>\n",
       "      <td>...</td>\n",
       "      <td>...</td>\n",
       "    </tr>\n",
       "    <tr>\n",
       "      <th>9995</th>\n",
       "      <td>5</td>\n",
       "      <td>0</td>\n",
       "      <td>0.0</td>\n",
       "      <td>0.000000e+00</td>\n",
       "      <td>0.712758</td>\n",
       "      <td>0.00100</td>\n",
       "      <td>0.100000</td>\n",
       "      <td>0.9</td>\n",
       "      <td>0.005972</td>\n",
       "      <td>0.000374</td>\n",
       "      <td>9996</td>\n",
       "    </tr>\n",
       "    <tr>\n",
       "      <th>9996</th>\n",
       "      <td>5</td>\n",
       "      <td>0</td>\n",
       "      <td>0.0</td>\n",
       "      <td>0.000000e+00</td>\n",
       "      <td>0.712814</td>\n",
       "      <td>0.00100</td>\n",
       "      <td>0.100000</td>\n",
       "      <td>0.9</td>\n",
       "      <td>0.005972</td>\n",
       "      <td>0.000374</td>\n",
       "      <td>9997</td>\n",
       "    </tr>\n",
       "    <tr>\n",
       "      <th>9997</th>\n",
       "      <td>5</td>\n",
       "      <td>0</td>\n",
       "      <td>0.0</td>\n",
       "      <td>0.000000e+00</td>\n",
       "      <td>0.712874</td>\n",
       "      <td>0.00100</td>\n",
       "      <td>0.100000</td>\n",
       "      <td>0.9</td>\n",
       "      <td>0.005972</td>\n",
       "      <td>0.000374</td>\n",
       "      <td>9998</td>\n",
       "    </tr>\n",
       "    <tr>\n",
       "      <th>9998</th>\n",
       "      <td>5</td>\n",
       "      <td>0</td>\n",
       "      <td>0.0</td>\n",
       "      <td>0.000000e+00</td>\n",
       "      <td>0.712931</td>\n",
       "      <td>0.00100</td>\n",
       "      <td>0.100000</td>\n",
       "      <td>0.9</td>\n",
       "      <td>0.005972</td>\n",
       "      <td>0.000374</td>\n",
       "      <td>9999</td>\n",
       "    </tr>\n",
       "    <tr>\n",
       "      <th>9999</th>\n",
       "      <td>4</td>\n",
       "      <td>0</td>\n",
       "      <td>0.0</td>\n",
       "      <td>4.628492e-14</td>\n",
       "      <td>0.713008</td>\n",
       "      <td>0.00100</td>\n",
       "      <td>0.100000</td>\n",
       "      <td>0.9</td>\n",
       "      <td>0.005972</td>\n",
       "      <td>0.000374</td>\n",
       "      <td>10000</td>\n",
       "    </tr>\n",
       "  </tbody>\n",
       "</table>\n",
       "<p>10000 rows × 11 columns</p>\n",
       "</div>"
      ],
      "text/plain": [
       "      State  Action  Reward         Error      Time    Alpha   Epsilon  Gamma  \\\n",
       "0         4       2     0.0  0.000000e+00  0.000161  0.10000  1.000000    0.9   \n",
       "1         0       1     0.0  0.000000e+00  0.000289  0.09900  0.990000    0.9   \n",
       "2         0       1     0.0  0.000000e+00  0.000405  0.09801  0.980100    0.9   \n",
       "3         4       3     0.0  0.000000e+00  0.000509  0.09703  0.970299    0.9   \n",
       "4         0       2     0.0  0.000000e+00  0.000613  0.09606  0.960596    0.9   \n",
       "...     ...     ...     ...           ...       ...      ...       ...    ...   \n",
       "9995      5       0     0.0  0.000000e+00  0.712758  0.00100  0.100000    0.9   \n",
       "9996      5       0     0.0  0.000000e+00  0.712814  0.00100  0.100000    0.9   \n",
       "9997      5       0     0.0  0.000000e+00  0.712874  0.00100  0.100000    0.9   \n",
       "9998      5       0     0.0  0.000000e+00  0.712931  0.00100  0.100000    0.9   \n",
       "9999      4       0     0.0  4.628492e-14  0.713008  0.00100  0.100000    0.9   \n",
       "\n",
       "         Max V    Mean V  Iteration  \n",
       "0     0.000000  0.000000          1  \n",
       "1     0.000000  0.000000          2  \n",
       "2     0.000000  0.000000          3  \n",
       "3     0.000000  0.000000          4  \n",
       "4     0.000000  0.000000          5  \n",
       "...        ...       ...        ...  \n",
       "9995  0.005972  0.000374       9996  \n",
       "9996  0.005972  0.000374       9997  \n",
       "9997  0.005972  0.000374       9998  \n",
       "9998  0.005972  0.000374       9999  \n",
       "9999  0.005972  0.000374      10000  \n",
       "\n",
       "[10000 rows x 11 columns]"
      ]
     },
     "execution_count": 24,
     "metadata": {},
     "output_type": "execute_result"
    }
   ],
   "source": [
    "ql_df"
   ]
  },
  {
   "cell_type": "code",
   "execution_count": 47,
   "metadata": {},
   "outputs": [],
   "source": [
    "# TUNE PARAMETERS\n",
    "# alpha=0.1, alpha_decay=0.99, alpha_min=0.001,\n",
    "#                  epsilon=1.0, epsilon_min=0.1, epsilon_decay=0.99,"
   ]
  },
  {
   "cell_type": "markdown",
   "metadata": {},
   "source": [
    "### Large Problem"
   ]
  },
  {
   "cell_type": "code",
   "execution_count": 656,
   "metadata": {},
   "outputs": [],
   "source": [
    "import numpy as np\n",
    "import pandas as pd\n",
    "\n",
    "from itertools import product\n",
    "from functools import reduce\n",
    "\n",
    "# adapted from Laurens Janssen\n",
    "# https://gist.github.com/iiLaurens/ba9c479e71ee4ceef816ad50b87d9ebd\n",
    "\n",
    "class BlackJack():\n",
    "\n",
    "    def __init__(self, card_list=[2,3,4,5,6,7,8,9,10,10,10,10,11],\n",
    "                 dealer_skip=17):\n",
    "        self.ACTIONLIST = {\n",
    "            0: 'skip',\n",
    "            1: 'draw'\n",
    "        }\n",
    "\n",
    "        self.CARDS = np.array(card_list)\n",
    "        self.BLACKJACK = 21\n",
    "        self.DEALER_SKIP = dealer_skip\n",
    "        self.STARTING_CARDS_PLAYER = 2\n",
    "        self.STARTING_CARDS_DEALER = 1\n",
    "        self.current_state = 0\n",
    "\n",
    "        STATELIST = {0: (0,0,0)} # Game start state\n",
    "        self.STATELIST = {**STATELIST, **{nr+1:state for nr, state in enumerate(product(range(2), range(self.CARDS.min()*self.STARTING_CARDS_PLAYER,self.BLACKJACK + 2), range(self.CARDS.min()*self.STARTING_CARDS_DEALER, self.BLACKJACK+2)))}}\n",
    "\n",
    "        T = np.zeros((len(self.ACTIONLIST), len(self.STATELIST), len(self.STATELIST)))\n",
    "        for a, i, j in product(self.ACTIONLIST.keys(), self.STATELIST.keys(), self.STATELIST.keys()):\n",
    "            T[a,i,j] = self.blackjack_probability(a, i, j)\n",
    "            \n",
    "        # Define reward matrix\n",
    "        R = np.zeros(len(self.STATELIST))\n",
    "        for s in self.STATELIST.keys():\n",
    "            R[s] = self.blackjack_rewards(s)\n",
    "        #for a, s in product(self.ACTIONLIST.keys(), self.STATELIST.keys()):\n",
    "        #    R[s, a] = self.blackjack_rewards(a, s)\n",
    "\n",
    "        # Check that we have a valid transition matrix with transition probabilities summing to 1\n",
    "        assert (T.sum(axis=2).round(10) == 1).all() \n",
    "        self.T = T\n",
    "        self.R = R\n",
    "\n",
    "        # deal first card\n",
    "        self.step(1)\n",
    "\n",
    "    def cartesian(self, x,y):\n",
    "        return np.dstack(np.meshgrid(x, y)).reshape(-1, 2).sum(axis=1)\n",
    "\n",
    "\n",
    "    def deal_card_probability(self, count_now, count_next, take=1):\n",
    "        if take > 1:\n",
    "            cards = reduce(self.cartesian, [self.CARDS]*take)\n",
    "        else:\n",
    "            cards = self.CARDS\n",
    "            \n",
    "        return (np.minimum(count_now + cards, self.BLACKJACK + 1) == count_next).sum() / len(cards)\n",
    "\n",
    "\n",
    "    def is_gameover(self, skipped, player, dealer):\n",
    "        return any([\n",
    "            dealer >= self.DEALER_SKIP and skipped == 1,\n",
    "            dealer > self.BLACKJACK and skipped == 1,\n",
    "            player > self.BLACKJACK\n",
    "         ])\n",
    "\n",
    "    def blackjack_probability(self, action, stateid_now, stateid_next):\n",
    "        skipped_now, player_now, dealer_now  = self.STATELIST[stateid_now]\n",
    "        skipped_next, player_next, dealer_next = self.STATELIST[stateid_next]\n",
    "        \n",
    "        if stateid_now == stateid_next:\n",
    "            # Game cannot stay in current state\n",
    "            return 0.0\n",
    "        \n",
    "        if stateid_now == 0:\n",
    "            if skipped_next == 1:\n",
    "                # After start of the game the game cannot be in a skipped state\n",
    "                return 0\n",
    "            else:\n",
    "                # State lower or equal than 1 is a start of a new game\n",
    "                dealer_prob = self.deal_card_probability(0, dealer_next, take=self.STARTING_CARDS_DEALER)\n",
    "                player_prob = self.deal_card_probability(0, player_next, take=self.STARTING_CARDS_PLAYER)\n",
    "\n",
    "                return dealer_prob * player_prob\n",
    "        \n",
    "        if self.is_gameover(skipped_now, player_now, dealer_now):\n",
    "            # We arrived at end state, now reset game\n",
    "            return 1.0 if stateid_next == 0 else 0.0\n",
    "        \n",
    "        if skipped_now == 1:\n",
    "            if skipped_next == 0 or player_next != player_now:\n",
    "                # Once you skip you keep on skipping in blackjack\n",
    "                # Also player cards cannot increase once in a skipped state\n",
    "                return 0.0\n",
    "        \n",
    "        if self.ACTIONLIST[action] == 'skip' or skipped_now == 1:\n",
    "            # If willingly skipped or in forced skip (attempted draw in already skipped game):\n",
    "            if skipped_next != 1 or player_now != player_next:\n",
    "                # Next state must be a skipped state with same card count for player\n",
    "                return 0.0\n",
    "        \n",
    "        if self.ACTIONLIST[action] == 'draw' and skipped_now == 0 and skipped_next != 0:\n",
    "            # Next state must be a drawable state\n",
    "            return 0.0\n",
    "        \n",
    "        if dealer_now != dealer_next and player_now != player_next:\n",
    "            # Only the player or the dealer can draw a card. Not both simultaneously!\n",
    "            return 0.0\n",
    "\n",
    "        # Now either the dealer or the player draws a card\n",
    "        if self.ACTIONLIST[action] == 'draw' and skipped_now == 0:\n",
    "            # Player draws a card\n",
    "            prob = self.deal_card_probability(player_now, player_next, take=1)\n",
    "        else:\n",
    "            # Dealer draws a card\n",
    "            if dealer_now >= self.DEALER_SKIP:\n",
    "                if dealer_now != dealer_next:\n",
    "                    # Dealer always stands once it has a card count higher than set amount\n",
    "                    return 0.0\n",
    "                else:\n",
    "                    # Dealer stands\n",
    "                    return 1.0\n",
    "\n",
    "            prob = self.deal_card_probability(dealer_now, dealer_next, take=1)\n",
    "\n",
    "        return prob\n",
    "\n",
    "\n",
    "    #def blackjack_rewards(self, action, stateid):\n",
    "    def blackjack_rewards(self, stateid):\n",
    "        skipped, player, dealer  = self.STATELIST[stateid]\n",
    "        \n",
    "        if not self.is_gameover(skipped, player, dealer):\n",
    "            return 0\n",
    "        elif player > self.BLACKJACK or (player <= dealer and dealer <= self.BLACKJACK):\n",
    "            return -1\n",
    "        elif player == self.BLACKJACK and dealer < self.BLACKJACK:\n",
    "            return 1.5\n",
    "        elif player > dealer or dealer > self.BLACKJACK:\n",
    "            return 1\n",
    "        else:\n",
    "            raise Exception(f'Undefined reward: {skipped}, {player}, {dealer}')\n",
    "        \n",
    "        \n",
    "    def get_matrices(self):\n",
    "        # Define transition matrix\n",
    "\n",
    "        return self.T, self.R\n",
    "\n",
    "    def reset(self):\n",
    "        #self = self.__init__(self.CARDS, self.DEALER_SKIP)\n",
    "        self.current_state = 0\n",
    "        self.step(1)\n",
    "        return self.current_state\n",
    "\n",
    "    def step(self, action):\n",
    "        \"\"\"take an action\n",
    "        randomly draw next state\n",
    "        return state, reward, and done\n",
    "        if action == 0, then just keep looping through\n",
    "        dealer actions until game is over\n",
    "        \"\"\"\n",
    "        turn_continue = True\n",
    "        while turn_continue:\n",
    "            prob = np.random.random()\n",
    "            probs = self.T[action, self.current_state, :]\n",
    "            #print(prob)\n",
    "            #print(probs)\n",
    "            #print(probs.sum())\n",
    "            #print('where')\n",
    "            #print(np.where(probs > prob))\n",
    "            probs = probs.cumsum()\n",
    "            new_state = np.where(probs >= prob)[0][0]\n",
    "            done = self.is_gameover(*self.STATELIST[new_state])\n",
    "            self.current_state = new_state\n",
    "            #print('new state', self.STATELIST[self.current_state])\n",
    "            turn_continue = (action == 0) and (not done)\n",
    "        reward = self.R[new_state]\n",
    "        return new_state, reward, done\n",
    "        \n",
    "\n",
    "\n",
    "    def print_blackjack_policy(self, policy):\n",
    "        idx = pd.MultiIndex.from_tuples(list(STATELIST.values()), names=['Skipped', 'Player', 'Dealer'])\n",
    "        S = pd.Series(['x' if i == 1 else '.' for i in policy], index=idx)\n",
    "        S = S.loc[S.index.get_level_values('Skipped')==0].reset_index('Skipped', drop=True)\n",
    "        S = S.loc[S.index.get_level_values('Player')>0]\n",
    "        S = S.loc[S.index.get_level_values('Dealer')>0]\n",
    "        return S.unstack(-1)\n",
    "\n",
    "    def print_blackjack_rewards(self):\n",
    "        idx = pd.MultiIndex.from_tuples(list(self.STATELIST.values()), names=['Skipped', 'Player', 'Dealer'])\n",
    "        S = pd.Series(R[:,0], index=idx)\n",
    "        S = S.loc[S.index.get_level_values('Skipped')==1].reset_index('Skipped', drop=True)\n",
    "        S = S.loc[S.index.get_level_values('Player')>0]\n",
    "        S = S.loc[S.index.get_level_values('Dealer')>0]\n",
    "        return S.unstack(-1)\n",
    "\n"
   ]
  },
  {
   "cell_type": "code",
   "execution_count": 657,
   "metadata": {},
   "outputs": [],
   "source": [
    "blackjack = BlackJack()"
   ]
  },
  {
   "cell_type": "code",
   "execution_count": 658,
   "metadata": {},
   "outputs": [
    {
     "data": {
      "text/plain": [
       "{0: (0, 0, 0),\n",
       " 1: (0, 4, 2),\n",
       " 2: (0, 4, 3),\n",
       " 3: (0, 4, 4),\n",
       " 4: (0, 4, 5),\n",
       " 5: (0, 4, 6),\n",
       " 6: (0, 4, 7),\n",
       " 7: (0, 4, 8),\n",
       " 8: (0, 4, 9),\n",
       " 9: (0, 4, 10),\n",
       " 10: (0, 4, 11),\n",
       " 11: (0, 4, 12),\n",
       " 12: (0, 4, 13),\n",
       " 13: (0, 4, 14),\n",
       " 14: (0, 4, 15),\n",
       " 15: (0, 4, 16),\n",
       " 16: (0, 4, 17),\n",
       " 17: (0, 4, 18),\n",
       " 18: (0, 4, 19),\n",
       " 19: (0, 4, 20),\n",
       " 20: (0, 4, 21),\n",
       " 21: (0, 4, 22),\n",
       " 22: (0, 5, 2),\n",
       " 23: (0, 5, 3),\n",
       " 24: (0, 5, 4),\n",
       " 25: (0, 5, 5),\n",
       " 26: (0, 5, 6),\n",
       " 27: (0, 5, 7),\n",
       " 28: (0, 5, 8),\n",
       " 29: (0, 5, 9),\n",
       " 30: (0, 5, 10),\n",
       " 31: (0, 5, 11),\n",
       " 32: (0, 5, 12),\n",
       " 33: (0, 5, 13),\n",
       " 34: (0, 5, 14),\n",
       " 35: (0, 5, 15),\n",
       " 36: (0, 5, 16),\n",
       " 37: (0, 5, 17),\n",
       " 38: (0, 5, 18),\n",
       " 39: (0, 5, 19),\n",
       " 40: (0, 5, 20),\n",
       " 41: (0, 5, 21),\n",
       " 42: (0, 5, 22),\n",
       " 43: (0, 6, 2),\n",
       " 44: (0, 6, 3),\n",
       " 45: (0, 6, 4),\n",
       " 46: (0, 6, 5),\n",
       " 47: (0, 6, 6),\n",
       " 48: (0, 6, 7),\n",
       " 49: (0, 6, 8),\n",
       " 50: (0, 6, 9),\n",
       " 51: (0, 6, 10),\n",
       " 52: (0, 6, 11),\n",
       " 53: (0, 6, 12),\n",
       " 54: (0, 6, 13),\n",
       " 55: (0, 6, 14),\n",
       " 56: (0, 6, 15),\n",
       " 57: (0, 6, 16),\n",
       " 58: (0, 6, 17),\n",
       " 59: (0, 6, 18),\n",
       " 60: (0, 6, 19),\n",
       " 61: (0, 6, 20),\n",
       " 62: (0, 6, 21),\n",
       " 63: (0, 6, 22),\n",
       " 64: (0, 7, 2),\n",
       " 65: (0, 7, 3),\n",
       " 66: (0, 7, 4),\n",
       " 67: (0, 7, 5),\n",
       " 68: (0, 7, 6),\n",
       " 69: (0, 7, 7),\n",
       " 70: (0, 7, 8),\n",
       " 71: (0, 7, 9),\n",
       " 72: (0, 7, 10),\n",
       " 73: (0, 7, 11),\n",
       " 74: (0, 7, 12),\n",
       " 75: (0, 7, 13),\n",
       " 76: (0, 7, 14),\n",
       " 77: (0, 7, 15),\n",
       " 78: (0, 7, 16),\n",
       " 79: (0, 7, 17),\n",
       " 80: (0, 7, 18),\n",
       " 81: (0, 7, 19),\n",
       " 82: (0, 7, 20),\n",
       " 83: (0, 7, 21),\n",
       " 84: (0, 7, 22),\n",
       " 85: (0, 8, 2),\n",
       " 86: (0, 8, 3),\n",
       " 87: (0, 8, 4),\n",
       " 88: (0, 8, 5),\n",
       " 89: (0, 8, 6),\n",
       " 90: (0, 8, 7),\n",
       " 91: (0, 8, 8),\n",
       " 92: (0, 8, 9),\n",
       " 93: (0, 8, 10),\n",
       " 94: (0, 8, 11),\n",
       " 95: (0, 8, 12),\n",
       " 96: (0, 8, 13),\n",
       " 97: (0, 8, 14),\n",
       " 98: (0, 8, 15),\n",
       " 99: (0, 8, 16),\n",
       " 100: (0, 8, 17),\n",
       " 101: (0, 8, 18),\n",
       " 102: (0, 8, 19),\n",
       " 103: (0, 8, 20),\n",
       " 104: (0, 8, 21),\n",
       " 105: (0, 8, 22),\n",
       " 106: (0, 9, 2),\n",
       " 107: (0, 9, 3),\n",
       " 108: (0, 9, 4),\n",
       " 109: (0, 9, 5),\n",
       " 110: (0, 9, 6),\n",
       " 111: (0, 9, 7),\n",
       " 112: (0, 9, 8),\n",
       " 113: (0, 9, 9),\n",
       " 114: (0, 9, 10),\n",
       " 115: (0, 9, 11),\n",
       " 116: (0, 9, 12),\n",
       " 117: (0, 9, 13),\n",
       " 118: (0, 9, 14),\n",
       " 119: (0, 9, 15),\n",
       " 120: (0, 9, 16),\n",
       " 121: (0, 9, 17),\n",
       " 122: (0, 9, 18),\n",
       " 123: (0, 9, 19),\n",
       " 124: (0, 9, 20),\n",
       " 125: (0, 9, 21),\n",
       " 126: (0, 9, 22),\n",
       " 127: (0, 10, 2),\n",
       " 128: (0, 10, 3),\n",
       " 129: (0, 10, 4),\n",
       " 130: (0, 10, 5),\n",
       " 131: (0, 10, 6),\n",
       " 132: (0, 10, 7),\n",
       " 133: (0, 10, 8),\n",
       " 134: (0, 10, 9),\n",
       " 135: (0, 10, 10),\n",
       " 136: (0, 10, 11),\n",
       " 137: (0, 10, 12),\n",
       " 138: (0, 10, 13),\n",
       " 139: (0, 10, 14),\n",
       " 140: (0, 10, 15),\n",
       " 141: (0, 10, 16),\n",
       " 142: (0, 10, 17),\n",
       " 143: (0, 10, 18),\n",
       " 144: (0, 10, 19),\n",
       " 145: (0, 10, 20),\n",
       " 146: (0, 10, 21),\n",
       " 147: (0, 10, 22),\n",
       " 148: (0, 11, 2),\n",
       " 149: (0, 11, 3),\n",
       " 150: (0, 11, 4),\n",
       " 151: (0, 11, 5),\n",
       " 152: (0, 11, 6),\n",
       " 153: (0, 11, 7),\n",
       " 154: (0, 11, 8),\n",
       " 155: (0, 11, 9),\n",
       " 156: (0, 11, 10),\n",
       " 157: (0, 11, 11),\n",
       " 158: (0, 11, 12),\n",
       " 159: (0, 11, 13),\n",
       " 160: (0, 11, 14),\n",
       " 161: (0, 11, 15),\n",
       " 162: (0, 11, 16),\n",
       " 163: (0, 11, 17),\n",
       " 164: (0, 11, 18),\n",
       " 165: (0, 11, 19),\n",
       " 166: (0, 11, 20),\n",
       " 167: (0, 11, 21),\n",
       " 168: (0, 11, 22),\n",
       " 169: (0, 12, 2),\n",
       " 170: (0, 12, 3),\n",
       " 171: (0, 12, 4),\n",
       " 172: (0, 12, 5),\n",
       " 173: (0, 12, 6),\n",
       " 174: (0, 12, 7),\n",
       " 175: (0, 12, 8),\n",
       " 176: (0, 12, 9),\n",
       " 177: (0, 12, 10),\n",
       " 178: (0, 12, 11),\n",
       " 179: (0, 12, 12),\n",
       " 180: (0, 12, 13),\n",
       " 181: (0, 12, 14),\n",
       " 182: (0, 12, 15),\n",
       " 183: (0, 12, 16),\n",
       " 184: (0, 12, 17),\n",
       " 185: (0, 12, 18),\n",
       " 186: (0, 12, 19),\n",
       " 187: (0, 12, 20),\n",
       " 188: (0, 12, 21),\n",
       " 189: (0, 12, 22),\n",
       " 190: (0, 13, 2),\n",
       " 191: (0, 13, 3),\n",
       " 192: (0, 13, 4),\n",
       " 193: (0, 13, 5),\n",
       " 194: (0, 13, 6),\n",
       " 195: (0, 13, 7),\n",
       " 196: (0, 13, 8),\n",
       " 197: (0, 13, 9),\n",
       " 198: (0, 13, 10),\n",
       " 199: (0, 13, 11),\n",
       " 200: (0, 13, 12),\n",
       " 201: (0, 13, 13),\n",
       " 202: (0, 13, 14),\n",
       " 203: (0, 13, 15),\n",
       " 204: (0, 13, 16),\n",
       " 205: (0, 13, 17),\n",
       " 206: (0, 13, 18),\n",
       " 207: (0, 13, 19),\n",
       " 208: (0, 13, 20),\n",
       " 209: (0, 13, 21),\n",
       " 210: (0, 13, 22),\n",
       " 211: (0, 14, 2),\n",
       " 212: (0, 14, 3),\n",
       " 213: (0, 14, 4),\n",
       " 214: (0, 14, 5),\n",
       " 215: (0, 14, 6),\n",
       " 216: (0, 14, 7),\n",
       " 217: (0, 14, 8),\n",
       " 218: (0, 14, 9),\n",
       " 219: (0, 14, 10),\n",
       " 220: (0, 14, 11),\n",
       " 221: (0, 14, 12),\n",
       " 222: (0, 14, 13),\n",
       " 223: (0, 14, 14),\n",
       " 224: (0, 14, 15),\n",
       " 225: (0, 14, 16),\n",
       " 226: (0, 14, 17),\n",
       " 227: (0, 14, 18),\n",
       " 228: (0, 14, 19),\n",
       " 229: (0, 14, 20),\n",
       " 230: (0, 14, 21),\n",
       " 231: (0, 14, 22),\n",
       " 232: (0, 15, 2),\n",
       " 233: (0, 15, 3),\n",
       " 234: (0, 15, 4),\n",
       " 235: (0, 15, 5),\n",
       " 236: (0, 15, 6),\n",
       " 237: (0, 15, 7),\n",
       " 238: (0, 15, 8),\n",
       " 239: (0, 15, 9),\n",
       " 240: (0, 15, 10),\n",
       " 241: (0, 15, 11),\n",
       " 242: (0, 15, 12),\n",
       " 243: (0, 15, 13),\n",
       " 244: (0, 15, 14),\n",
       " 245: (0, 15, 15),\n",
       " 246: (0, 15, 16),\n",
       " 247: (0, 15, 17),\n",
       " 248: (0, 15, 18),\n",
       " 249: (0, 15, 19),\n",
       " 250: (0, 15, 20),\n",
       " 251: (0, 15, 21),\n",
       " 252: (0, 15, 22),\n",
       " 253: (0, 16, 2),\n",
       " 254: (0, 16, 3),\n",
       " 255: (0, 16, 4),\n",
       " 256: (0, 16, 5),\n",
       " 257: (0, 16, 6),\n",
       " 258: (0, 16, 7),\n",
       " 259: (0, 16, 8),\n",
       " 260: (0, 16, 9),\n",
       " 261: (0, 16, 10),\n",
       " 262: (0, 16, 11),\n",
       " 263: (0, 16, 12),\n",
       " 264: (0, 16, 13),\n",
       " 265: (0, 16, 14),\n",
       " 266: (0, 16, 15),\n",
       " 267: (0, 16, 16),\n",
       " 268: (0, 16, 17),\n",
       " 269: (0, 16, 18),\n",
       " 270: (0, 16, 19),\n",
       " 271: (0, 16, 20),\n",
       " 272: (0, 16, 21),\n",
       " 273: (0, 16, 22),\n",
       " 274: (0, 17, 2),\n",
       " 275: (0, 17, 3),\n",
       " 276: (0, 17, 4),\n",
       " 277: (0, 17, 5),\n",
       " 278: (0, 17, 6),\n",
       " 279: (0, 17, 7),\n",
       " 280: (0, 17, 8),\n",
       " 281: (0, 17, 9),\n",
       " 282: (0, 17, 10),\n",
       " 283: (0, 17, 11),\n",
       " 284: (0, 17, 12),\n",
       " 285: (0, 17, 13),\n",
       " 286: (0, 17, 14),\n",
       " 287: (0, 17, 15),\n",
       " 288: (0, 17, 16),\n",
       " 289: (0, 17, 17),\n",
       " 290: (0, 17, 18),\n",
       " 291: (0, 17, 19),\n",
       " 292: (0, 17, 20),\n",
       " 293: (0, 17, 21),\n",
       " 294: (0, 17, 22),\n",
       " 295: (0, 18, 2),\n",
       " 296: (0, 18, 3),\n",
       " 297: (0, 18, 4),\n",
       " 298: (0, 18, 5),\n",
       " 299: (0, 18, 6),\n",
       " 300: (0, 18, 7),\n",
       " 301: (0, 18, 8),\n",
       " 302: (0, 18, 9),\n",
       " 303: (0, 18, 10),\n",
       " 304: (0, 18, 11),\n",
       " 305: (0, 18, 12),\n",
       " 306: (0, 18, 13),\n",
       " 307: (0, 18, 14),\n",
       " 308: (0, 18, 15),\n",
       " 309: (0, 18, 16),\n",
       " 310: (0, 18, 17),\n",
       " 311: (0, 18, 18),\n",
       " 312: (0, 18, 19),\n",
       " 313: (0, 18, 20),\n",
       " 314: (0, 18, 21),\n",
       " 315: (0, 18, 22),\n",
       " 316: (0, 19, 2),\n",
       " 317: (0, 19, 3),\n",
       " 318: (0, 19, 4),\n",
       " 319: (0, 19, 5),\n",
       " 320: (0, 19, 6),\n",
       " 321: (0, 19, 7),\n",
       " 322: (0, 19, 8),\n",
       " 323: (0, 19, 9),\n",
       " 324: (0, 19, 10),\n",
       " 325: (0, 19, 11),\n",
       " 326: (0, 19, 12),\n",
       " 327: (0, 19, 13),\n",
       " 328: (0, 19, 14),\n",
       " 329: (0, 19, 15),\n",
       " 330: (0, 19, 16),\n",
       " 331: (0, 19, 17),\n",
       " 332: (0, 19, 18),\n",
       " 333: (0, 19, 19),\n",
       " 334: (0, 19, 20),\n",
       " 335: (0, 19, 21),\n",
       " 336: (0, 19, 22),\n",
       " 337: (0, 20, 2),\n",
       " 338: (0, 20, 3),\n",
       " 339: (0, 20, 4),\n",
       " 340: (0, 20, 5),\n",
       " 341: (0, 20, 6),\n",
       " 342: (0, 20, 7),\n",
       " 343: (0, 20, 8),\n",
       " 344: (0, 20, 9),\n",
       " 345: (0, 20, 10),\n",
       " 346: (0, 20, 11),\n",
       " 347: (0, 20, 12),\n",
       " 348: (0, 20, 13),\n",
       " 349: (0, 20, 14),\n",
       " 350: (0, 20, 15),\n",
       " 351: (0, 20, 16),\n",
       " 352: (0, 20, 17),\n",
       " 353: (0, 20, 18),\n",
       " 354: (0, 20, 19),\n",
       " 355: (0, 20, 20),\n",
       " 356: (0, 20, 21),\n",
       " 357: (0, 20, 22),\n",
       " 358: (0, 21, 2),\n",
       " 359: (0, 21, 3),\n",
       " 360: (0, 21, 4),\n",
       " 361: (0, 21, 5),\n",
       " 362: (0, 21, 6),\n",
       " 363: (0, 21, 7),\n",
       " 364: (0, 21, 8),\n",
       " 365: (0, 21, 9),\n",
       " 366: (0, 21, 10),\n",
       " 367: (0, 21, 11),\n",
       " 368: (0, 21, 12),\n",
       " 369: (0, 21, 13),\n",
       " 370: (0, 21, 14),\n",
       " 371: (0, 21, 15),\n",
       " 372: (0, 21, 16),\n",
       " 373: (0, 21, 17),\n",
       " 374: (0, 21, 18),\n",
       " 375: (0, 21, 19),\n",
       " 376: (0, 21, 20),\n",
       " 377: (0, 21, 21),\n",
       " 378: (0, 21, 22),\n",
       " 379: (0, 22, 2),\n",
       " 380: (0, 22, 3),\n",
       " 381: (0, 22, 4),\n",
       " 382: (0, 22, 5),\n",
       " 383: (0, 22, 6),\n",
       " 384: (0, 22, 7),\n",
       " 385: (0, 22, 8),\n",
       " 386: (0, 22, 9),\n",
       " 387: (0, 22, 10),\n",
       " 388: (0, 22, 11),\n",
       " 389: (0, 22, 12),\n",
       " 390: (0, 22, 13),\n",
       " 391: (0, 22, 14),\n",
       " 392: (0, 22, 15),\n",
       " 393: (0, 22, 16),\n",
       " 394: (0, 22, 17),\n",
       " 395: (0, 22, 18),\n",
       " 396: (0, 22, 19),\n",
       " 397: (0, 22, 20),\n",
       " 398: (0, 22, 21),\n",
       " 399: (0, 22, 22),\n",
       " 400: (1, 4, 2),\n",
       " 401: (1, 4, 3),\n",
       " 402: (1, 4, 4),\n",
       " 403: (1, 4, 5),\n",
       " 404: (1, 4, 6),\n",
       " 405: (1, 4, 7),\n",
       " 406: (1, 4, 8),\n",
       " 407: (1, 4, 9),\n",
       " 408: (1, 4, 10),\n",
       " 409: (1, 4, 11),\n",
       " 410: (1, 4, 12),\n",
       " 411: (1, 4, 13),\n",
       " 412: (1, 4, 14),\n",
       " 413: (1, 4, 15),\n",
       " 414: (1, 4, 16),\n",
       " 415: (1, 4, 17),\n",
       " 416: (1, 4, 18),\n",
       " 417: (1, 4, 19),\n",
       " 418: (1, 4, 20),\n",
       " 419: (1, 4, 21),\n",
       " 420: (1, 4, 22),\n",
       " 421: (1, 5, 2),\n",
       " 422: (1, 5, 3),\n",
       " 423: (1, 5, 4),\n",
       " 424: (1, 5, 5),\n",
       " 425: (1, 5, 6),\n",
       " 426: (1, 5, 7),\n",
       " 427: (1, 5, 8),\n",
       " 428: (1, 5, 9),\n",
       " 429: (1, 5, 10),\n",
       " 430: (1, 5, 11),\n",
       " 431: (1, 5, 12),\n",
       " 432: (1, 5, 13),\n",
       " 433: (1, 5, 14),\n",
       " 434: (1, 5, 15),\n",
       " 435: (1, 5, 16),\n",
       " 436: (1, 5, 17),\n",
       " 437: (1, 5, 18),\n",
       " 438: (1, 5, 19),\n",
       " 439: (1, 5, 20),\n",
       " 440: (1, 5, 21),\n",
       " 441: (1, 5, 22),\n",
       " 442: (1, 6, 2),\n",
       " 443: (1, 6, 3),\n",
       " 444: (1, 6, 4),\n",
       " 445: (1, 6, 5),\n",
       " 446: (1, 6, 6),\n",
       " 447: (1, 6, 7),\n",
       " 448: (1, 6, 8),\n",
       " 449: (1, 6, 9),\n",
       " 450: (1, 6, 10),\n",
       " 451: (1, 6, 11),\n",
       " 452: (1, 6, 12),\n",
       " 453: (1, 6, 13),\n",
       " 454: (1, 6, 14),\n",
       " 455: (1, 6, 15),\n",
       " 456: (1, 6, 16),\n",
       " 457: (1, 6, 17),\n",
       " 458: (1, 6, 18),\n",
       " 459: (1, 6, 19),\n",
       " 460: (1, 6, 20),\n",
       " 461: (1, 6, 21),\n",
       " 462: (1, 6, 22),\n",
       " 463: (1, 7, 2),\n",
       " 464: (1, 7, 3),\n",
       " 465: (1, 7, 4),\n",
       " 466: (1, 7, 5),\n",
       " 467: (1, 7, 6),\n",
       " 468: (1, 7, 7),\n",
       " 469: (1, 7, 8),\n",
       " 470: (1, 7, 9),\n",
       " 471: (1, 7, 10),\n",
       " 472: (1, 7, 11),\n",
       " 473: (1, 7, 12),\n",
       " 474: (1, 7, 13),\n",
       " 475: (1, 7, 14),\n",
       " 476: (1, 7, 15),\n",
       " 477: (1, 7, 16),\n",
       " 478: (1, 7, 17),\n",
       " 479: (1, 7, 18),\n",
       " 480: (1, 7, 19),\n",
       " 481: (1, 7, 20),\n",
       " 482: (1, 7, 21),\n",
       " 483: (1, 7, 22),\n",
       " 484: (1, 8, 2),\n",
       " 485: (1, 8, 3),\n",
       " 486: (1, 8, 4),\n",
       " 487: (1, 8, 5),\n",
       " 488: (1, 8, 6),\n",
       " 489: (1, 8, 7),\n",
       " 490: (1, 8, 8),\n",
       " 491: (1, 8, 9),\n",
       " 492: (1, 8, 10),\n",
       " 493: (1, 8, 11),\n",
       " 494: (1, 8, 12),\n",
       " 495: (1, 8, 13),\n",
       " 496: (1, 8, 14),\n",
       " 497: (1, 8, 15),\n",
       " 498: (1, 8, 16),\n",
       " 499: (1, 8, 17),\n",
       " 500: (1, 8, 18),\n",
       " 501: (1, 8, 19),\n",
       " 502: (1, 8, 20),\n",
       " 503: (1, 8, 21),\n",
       " 504: (1, 8, 22),\n",
       " 505: (1, 9, 2),\n",
       " 506: (1, 9, 3),\n",
       " 507: (1, 9, 4),\n",
       " 508: (1, 9, 5),\n",
       " 509: (1, 9, 6),\n",
       " 510: (1, 9, 7),\n",
       " 511: (1, 9, 8),\n",
       " 512: (1, 9, 9),\n",
       " 513: (1, 9, 10),\n",
       " 514: (1, 9, 11),\n",
       " 515: (1, 9, 12),\n",
       " 516: (1, 9, 13),\n",
       " 517: (1, 9, 14),\n",
       " 518: (1, 9, 15),\n",
       " 519: (1, 9, 16),\n",
       " 520: (1, 9, 17),\n",
       " 521: (1, 9, 18),\n",
       " 522: (1, 9, 19),\n",
       " 523: (1, 9, 20),\n",
       " 524: (1, 9, 21),\n",
       " 525: (1, 9, 22),\n",
       " 526: (1, 10, 2),\n",
       " 527: (1, 10, 3),\n",
       " 528: (1, 10, 4),\n",
       " 529: (1, 10, 5),\n",
       " 530: (1, 10, 6),\n",
       " 531: (1, 10, 7),\n",
       " 532: (1, 10, 8),\n",
       " 533: (1, 10, 9),\n",
       " 534: (1, 10, 10),\n",
       " 535: (1, 10, 11),\n",
       " 536: (1, 10, 12),\n",
       " 537: (1, 10, 13),\n",
       " 538: (1, 10, 14),\n",
       " 539: (1, 10, 15),\n",
       " 540: (1, 10, 16),\n",
       " 541: (1, 10, 17),\n",
       " 542: (1, 10, 18),\n",
       " 543: (1, 10, 19),\n",
       " 544: (1, 10, 20),\n",
       " 545: (1, 10, 21),\n",
       " 546: (1, 10, 22),\n",
       " 547: (1, 11, 2),\n",
       " 548: (1, 11, 3),\n",
       " 549: (1, 11, 4),\n",
       " 550: (1, 11, 5),\n",
       " 551: (1, 11, 6),\n",
       " 552: (1, 11, 7),\n",
       " 553: (1, 11, 8),\n",
       " 554: (1, 11, 9),\n",
       " 555: (1, 11, 10),\n",
       " 556: (1, 11, 11),\n",
       " 557: (1, 11, 12),\n",
       " 558: (1, 11, 13),\n",
       " 559: (1, 11, 14),\n",
       " 560: (1, 11, 15),\n",
       " 561: (1, 11, 16),\n",
       " 562: (1, 11, 17),\n",
       " 563: (1, 11, 18),\n",
       " 564: (1, 11, 19),\n",
       " 565: (1, 11, 20),\n",
       " 566: (1, 11, 21),\n",
       " 567: (1, 11, 22),\n",
       " 568: (1, 12, 2),\n",
       " 569: (1, 12, 3),\n",
       " 570: (1, 12, 4),\n",
       " 571: (1, 12, 5),\n",
       " 572: (1, 12, 6),\n",
       " 573: (1, 12, 7),\n",
       " 574: (1, 12, 8),\n",
       " 575: (1, 12, 9),\n",
       " 576: (1, 12, 10),\n",
       " 577: (1, 12, 11),\n",
       " 578: (1, 12, 12),\n",
       " 579: (1, 12, 13),\n",
       " 580: (1, 12, 14),\n",
       " 581: (1, 12, 15),\n",
       " 582: (1, 12, 16),\n",
       " 583: (1, 12, 17),\n",
       " 584: (1, 12, 18),\n",
       " 585: (1, 12, 19),\n",
       " 586: (1, 12, 20),\n",
       " 587: (1, 12, 21),\n",
       " 588: (1, 12, 22),\n",
       " 589: (1, 13, 2),\n",
       " 590: (1, 13, 3),\n",
       " 591: (1, 13, 4),\n",
       " 592: (1, 13, 5),\n",
       " 593: (1, 13, 6),\n",
       " 594: (1, 13, 7),\n",
       " 595: (1, 13, 8),\n",
       " 596: (1, 13, 9),\n",
       " 597: (1, 13, 10),\n",
       " 598: (1, 13, 11),\n",
       " 599: (1, 13, 12),\n",
       " 600: (1, 13, 13),\n",
       " 601: (1, 13, 14),\n",
       " 602: (1, 13, 15),\n",
       " 603: (1, 13, 16),\n",
       " 604: (1, 13, 17),\n",
       " 605: (1, 13, 18),\n",
       " 606: (1, 13, 19),\n",
       " 607: (1, 13, 20),\n",
       " 608: (1, 13, 21),\n",
       " 609: (1, 13, 22),\n",
       " 610: (1, 14, 2),\n",
       " 611: (1, 14, 3),\n",
       " 612: (1, 14, 4),\n",
       " 613: (1, 14, 5),\n",
       " 614: (1, 14, 6),\n",
       " 615: (1, 14, 7),\n",
       " 616: (1, 14, 8),\n",
       " 617: (1, 14, 9),\n",
       " 618: (1, 14, 10),\n",
       " 619: (1, 14, 11),\n",
       " 620: (1, 14, 12),\n",
       " 621: (1, 14, 13),\n",
       " 622: (1, 14, 14),\n",
       " 623: (1, 14, 15),\n",
       " 624: (1, 14, 16),\n",
       " 625: (1, 14, 17),\n",
       " 626: (1, 14, 18),\n",
       " 627: (1, 14, 19),\n",
       " 628: (1, 14, 20),\n",
       " 629: (1, 14, 21),\n",
       " 630: (1, 14, 22),\n",
       " 631: (1, 15, 2),\n",
       " 632: (1, 15, 3),\n",
       " 633: (1, 15, 4),\n",
       " 634: (1, 15, 5),\n",
       " 635: (1, 15, 6),\n",
       " 636: (1, 15, 7),\n",
       " 637: (1, 15, 8),\n",
       " 638: (1, 15, 9),\n",
       " 639: (1, 15, 10),\n",
       " 640: (1, 15, 11),\n",
       " 641: (1, 15, 12),\n",
       " 642: (1, 15, 13),\n",
       " 643: (1, 15, 14),\n",
       " 644: (1, 15, 15),\n",
       " 645: (1, 15, 16),\n",
       " 646: (1, 15, 17),\n",
       " 647: (1, 15, 18),\n",
       " 648: (1, 15, 19),\n",
       " 649: (1, 15, 20),\n",
       " 650: (1, 15, 21),\n",
       " 651: (1, 15, 22),\n",
       " 652: (1, 16, 2),\n",
       " 653: (1, 16, 3),\n",
       " 654: (1, 16, 4),\n",
       " 655: (1, 16, 5),\n",
       " 656: (1, 16, 6),\n",
       " 657: (1, 16, 7),\n",
       " 658: (1, 16, 8),\n",
       " 659: (1, 16, 9),\n",
       " 660: (1, 16, 10),\n",
       " 661: (1, 16, 11),\n",
       " 662: (1, 16, 12),\n",
       " 663: (1, 16, 13),\n",
       " 664: (1, 16, 14),\n",
       " 665: (1, 16, 15),\n",
       " 666: (1, 16, 16),\n",
       " 667: (1, 16, 17),\n",
       " 668: (1, 16, 18),\n",
       " 669: (1, 16, 19),\n",
       " 670: (1, 16, 20),\n",
       " 671: (1, 16, 21),\n",
       " 672: (1, 16, 22),\n",
       " 673: (1, 17, 2),\n",
       " 674: (1, 17, 3),\n",
       " 675: (1, 17, 4),\n",
       " 676: (1, 17, 5),\n",
       " 677: (1, 17, 6),\n",
       " 678: (1, 17, 7),\n",
       " 679: (1, 17, 8),\n",
       " 680: (1, 17, 9),\n",
       " 681: (1, 17, 10),\n",
       " 682: (1, 17, 11),\n",
       " 683: (1, 17, 12),\n",
       " 684: (1, 17, 13),\n",
       " 685: (1, 17, 14),\n",
       " 686: (1, 17, 15),\n",
       " 687: (1, 17, 16),\n",
       " 688: (1, 17, 17),\n",
       " 689: (1, 17, 18),\n",
       " 690: (1, 17, 19),\n",
       " 691: (1, 17, 20),\n",
       " 692: (1, 17, 21),\n",
       " 693: (1, 17, 22),\n",
       " 694: (1, 18, 2),\n",
       " 695: (1, 18, 3),\n",
       " 696: (1, 18, 4),\n",
       " 697: (1, 18, 5),\n",
       " 698: (1, 18, 6),\n",
       " 699: (1, 18, 7),\n",
       " 700: (1, 18, 8),\n",
       " 701: (1, 18, 9),\n",
       " 702: (1, 18, 10),\n",
       " 703: (1, 18, 11),\n",
       " 704: (1, 18, 12),\n",
       " 705: (1, 18, 13),\n",
       " 706: (1, 18, 14),\n",
       " 707: (1, 18, 15),\n",
       " 708: (1, 18, 16),\n",
       " 709: (1, 18, 17),\n",
       " 710: (1, 18, 18),\n",
       " 711: (1, 18, 19),\n",
       " 712: (1, 18, 20),\n",
       " 713: (1, 18, 21),\n",
       " 714: (1, 18, 22),\n",
       " 715: (1, 19, 2),\n",
       " 716: (1, 19, 3),\n",
       " 717: (1, 19, 4),\n",
       " 718: (1, 19, 5),\n",
       " 719: (1, 19, 6),\n",
       " 720: (1, 19, 7),\n",
       " 721: (1, 19, 8),\n",
       " 722: (1, 19, 9),\n",
       " 723: (1, 19, 10),\n",
       " 724: (1, 19, 11),\n",
       " 725: (1, 19, 12),\n",
       " 726: (1, 19, 13),\n",
       " 727: (1, 19, 14),\n",
       " 728: (1, 19, 15),\n",
       " 729: (1, 19, 16),\n",
       " 730: (1, 19, 17),\n",
       " 731: (1, 19, 18),\n",
       " 732: (1, 19, 19),\n",
       " 733: (1, 19, 20),\n",
       " 734: (1, 19, 21),\n",
       " 735: (1, 19, 22),\n",
       " 736: (1, 20, 2),\n",
       " 737: (1, 20, 3),\n",
       " 738: (1, 20, 4),\n",
       " 739: (1, 20, 5),\n",
       " 740: (1, 20, 6),\n",
       " 741: (1, 20, 7),\n",
       " 742: (1, 20, 8),\n",
       " 743: (1, 20, 9),\n",
       " 744: (1, 20, 10),\n",
       " 745: (1, 20, 11),\n",
       " 746: (1, 20, 12),\n",
       " 747: (1, 20, 13),\n",
       " 748: (1, 20, 14),\n",
       " 749: (1, 20, 15),\n",
       " 750: (1, 20, 16),\n",
       " 751: (1, 20, 17),\n",
       " 752: (1, 20, 18),\n",
       " 753: (1, 20, 19),\n",
       " 754: (1, 20, 20),\n",
       " 755: (1, 20, 21),\n",
       " 756: (1, 20, 22),\n",
       " 757: (1, 21, 2),\n",
       " 758: (1, 21, 3),\n",
       " 759: (1, 21, 4),\n",
       " 760: (1, 21, 5),\n",
       " 761: (1, 21, 6),\n",
       " 762: (1, 21, 7),\n",
       " 763: (1, 21, 8),\n",
       " 764: (1, 21, 9),\n",
       " 765: (1, 21, 10),\n",
       " 766: (1, 21, 11),\n",
       " 767: (1, 21, 12),\n",
       " 768: (1, 21, 13),\n",
       " 769: (1, 21, 14),\n",
       " 770: (1, 21, 15),\n",
       " 771: (1, 21, 16),\n",
       " 772: (1, 21, 17),\n",
       " 773: (1, 21, 18),\n",
       " 774: (1, 21, 19),\n",
       " 775: (1, 21, 20),\n",
       " 776: (1, 21, 21),\n",
       " 777: (1, 21, 22),\n",
       " 778: (1, 22, 2),\n",
       " 779: (1, 22, 3),\n",
       " 780: (1, 22, 4),\n",
       " 781: (1, 22, 5),\n",
       " 782: (1, 22, 6),\n",
       " 783: (1, 22, 7),\n",
       " 784: (1, 22, 8),\n",
       " 785: (1, 22, 9),\n",
       " 786: (1, 22, 10),\n",
       " 787: (1, 22, 11),\n",
       " 788: (1, 22, 12),\n",
       " 789: (1, 22, 13),\n",
       " 790: (1, 22, 14),\n",
       " 791: (1, 22, 15),\n",
       " 792: (1, 22, 16),\n",
       " 793: (1, 22, 17),\n",
       " 794: (1, 22, 18),\n",
       " 795: (1, 22, 19),\n",
       " 796: (1, 22, 20),\n",
       " 797: (1, 22, 21),\n",
       " 798: (1, 22, 22)}"
      ]
     },
     "execution_count": 658,
     "metadata": {},
     "output_type": "execute_result"
    }
   ],
   "source": [
    "blackjack.STATELIST"
   ]
  },
  {
   "cell_type": "code",
   "execution_count": 796,
   "metadata": {},
   "outputs": [
    {
     "name": "stdout",
     "output_type": "stream",
     "text": [
      "hello\n",
      "0.13462185859680176\n"
     ]
    }
   ],
   "source": [
    "import time\n",
    "\n",
    "start = time.time()\n",
    "print(\"hello\")\n",
    "pi = mdptoolbox.mdp.PolicyIteration(blackjack.T, blackjack.R, 0.9)\n",
    "pi_output = pi.run()\n",
    "end = time.time()\n",
    "print(end - start)"
   ]
  },
  {
   "cell_type": "code",
   "execution_count": 788,
   "metadata": {},
   "outputs": [],
   "source": [
    "policy_df = pd.DataFrame(pi_output)\n",
    "policy_df['algorithm'] = 'policy_iteration'"
   ]
  },
  {
   "cell_type": "code",
   "execution_count": 789,
   "metadata": {},
   "outputs": [
    {
     "data": {
      "text/html": [
       "<div>\n",
       "<style scoped>\n",
       "    .dataframe tbody tr th:only-of-type {\n",
       "        vertical-align: middle;\n",
       "    }\n",
       "\n",
       "    .dataframe tbody tr th {\n",
       "        vertical-align: top;\n",
       "    }\n",
       "\n",
       "    .dataframe thead th {\n",
       "        text-align: right;\n",
       "    }\n",
       "</style>\n",
       "<table border=\"1\" class=\"dataframe\">\n",
       "  <thead>\n",
       "    <tr style=\"text-align: right;\">\n",
       "      <th></th>\n",
       "      <th>State</th>\n",
       "      <th>Action</th>\n",
       "      <th>Reward</th>\n",
       "      <th>Error</th>\n",
       "      <th>Time</th>\n",
       "      <th>Max V</th>\n",
       "      <th>Mean V</th>\n",
       "      <th>Iteration</th>\n",
       "      <th>algorithm</th>\n",
       "    </tr>\n",
       "  </thead>\n",
       "  <tbody>\n",
       "    <tr>\n",
       "      <th>0</th>\n",
       "      <td>None</td>\n",
       "      <td>None</td>\n",
       "      <td>1.123398</td>\n",
       "      <td>1.111287e+00</td>\n",
       "      <td>0.043189</td>\n",
       "      <td>1.123398</td>\n",
       "      <td>-0.500343</td>\n",
       "      <td>1</td>\n",
       "      <td>policy_iteration</td>\n",
       "    </tr>\n",
       "    <tr>\n",
       "      <th>1</th>\n",
       "      <td>None</td>\n",
       "      <td>None</td>\n",
       "      <td>1.281874</td>\n",
       "      <td>7.120922e-04</td>\n",
       "      <td>0.071684</td>\n",
       "      <td>1.281874</td>\n",
       "      <td>-0.286478</td>\n",
       "      <td>2</td>\n",
       "      <td>policy_iteration</td>\n",
       "    </tr>\n",
       "    <tr>\n",
       "      <th>2</th>\n",
       "      <td>None</td>\n",
       "      <td>None</td>\n",
       "      <td>1.281889</td>\n",
       "      <td>1.332268e-15</td>\n",
       "      <td>0.113392</td>\n",
       "      <td>1.281889</td>\n",
       "      <td>-0.286462</td>\n",
       "      <td>3</td>\n",
       "      <td>policy_iteration</td>\n",
       "    </tr>\n",
       "    <tr>\n",
       "      <th>3</th>\n",
       "      <td>None</td>\n",
       "      <td>None</td>\n",
       "      <td>1.281889</td>\n",
       "      <td>1.332268e-15</td>\n",
       "      <td>0.134147</td>\n",
       "      <td>1.281889</td>\n",
       "      <td>-0.286462</td>\n",
       "      <td>4</td>\n",
       "      <td>policy_iteration</td>\n",
       "    </tr>\n",
       "  </tbody>\n",
       "</table>\n",
       "</div>"
      ],
      "text/plain": [
       "  State Action    Reward         Error      Time     Max V    Mean V  \\\n",
       "0  None   None  1.123398  1.111287e+00  0.043189  1.123398 -0.500343   \n",
       "1  None   None  1.281874  7.120922e-04  0.071684  1.281874 -0.286478   \n",
       "2  None   None  1.281889  1.332268e-15  0.113392  1.281889 -0.286462   \n",
       "3  None   None  1.281889  1.332268e-15  0.134147  1.281889 -0.286462   \n",
       "\n",
       "   Iteration         algorithm  \n",
       "0          1  policy_iteration  \n",
       "1          2  policy_iteration  \n",
       "2          3  policy_iteration  \n",
       "3          4  policy_iteration  "
      ]
     },
     "execution_count": 789,
     "metadata": {},
     "output_type": "execute_result"
    }
   ],
   "source": [
    "policy_df"
   ]
  },
  {
   "cell_type": "code",
   "execution_count": 754,
   "metadata": {},
   "outputs": [
    {
     "data": {
      "image/png": "[encoded data removed]",
      "text/plain": [
       "<Figure size 432x288 with 1 Axes>"
      ]
     },
     "metadata": {
      "needs_background": "light"
     },
     "output_type": "display_data"
    }
   ],
   "source": [
    "ax = sns.lineplot(x=\"Iteration\", y=\"Reward\", data=policy_df)"
   ]
  },
  {
   "cell_type": "code",
   "execution_count": 834,
   "metadata": {},
   "outputs": [
    {
     "name": "stdout",
     "output_type": "stream",
     "text": [
      "hello\n",
      "0.05094599723815918\n"
     ]
    }
   ],
   "source": [
    "start = time.time()\n",
    "print(\"hello\")\n",
    "vi = mdptoolbox.mdp.ValueIteration(blackjack.T, blackjack.R, 0.9)\n",
    "vi_output = vi.run()\n",
    "end = time.time()\n",
    "print(end - start)"
   ]
  },
  {
   "cell_type": "code",
   "execution_count": null,
   "metadata": {},
   "outputs": [],
   "source": [
    "ax = sns.heatmap(blah[(blah.skipped == 0)][['player', 'policy']].groupby('player').mean(), vmin=0, vmax=1)\n",
    "ax.set_ylabel(\"Card Values\")\n",
    "ax.set_xlabel(\"(skip=0, hit=1)\")\n",
    "ax.set_title(\"Blackjack: Player Policy Avg. by Card Value\")"
   ]
  },
  {
   "cell_type": "code",
   "execution_count": 780,
   "metadata": {},
   "outputs": [],
   "source": [
    "value_df = pd.DataFrame(vi_output)\n",
    "value_df['algorithm'] = 'value_iteration'"
   ]
  },
  {
   "cell_type": "code",
   "execution_count": 781,
   "metadata": {},
   "outputs": [
    {
     "data": {
      "image/png": "[encoded data removed]",
      "text/plain": [
       "<Figure size 432x288 with 1 Axes>"
      ]
     },
     "metadata": {
      "needs_background": "light"
     },
     "output_type": "display_data"
    }
   ],
   "source": [
    "ax = sns.lineplot(x=\"Iteration\", y=\"Reward\", data=value_df)"
   ]
  },
  {
   "cell_type": "code",
   "execution_count": 782,
   "metadata": {},
   "outputs": [
    {
     "data": {
      "text/html": [
       "<div>\n",
       "<style scoped>\n",
       "    .dataframe tbody tr th:only-of-type {\n",
       "        vertical-align: middle;\n",
       "    }\n",
       "\n",
       "    .dataframe tbody tr th {\n",
       "        vertical-align: top;\n",
       "    }\n",
       "\n",
       "    .dataframe thead th {\n",
       "        text-align: right;\n",
       "    }\n",
       "</style>\n",
       "<table border=\"1\" class=\"dataframe\">\n",
       "  <thead>\n",
       "    <tr style=\"text-align: right;\">\n",
       "      <th></th>\n",
       "      <th>value_iteration</th>\n",
       "      <th>policy_iteration</th>\n",
       "    </tr>\n",
       "  </thead>\n",
       "  <tbody>\n",
       "    <tr>\n",
       "      <th>356</th>\n",
       "      <td>0</td>\n",
       "      <td>1</td>\n",
       "    </tr>\n",
       "  </tbody>\n",
       "</table>\n",
       "</div>"
      ],
      "text/plain": [
       "     value_iteration  policy_iteration\n",
       "356                0                 1"
      ]
     },
     "execution_count": 782,
     "metadata": {},
     "output_type": "execute_result"
    }
   ],
   "source": [
    "test = pd.DataFrame({'value_iteration': vi.policy, 'policy_iteration': pi.policy})\n",
    "test[test.value_iteration != test.policy_iteration]"
   ]
  },
  {
   "cell_type": "code",
   "execution_count": 783,
   "metadata": {},
   "outputs": [],
   "source": [
    "test = test.replace(0, 'skip').replace(1, 'hit')"
   ]
  },
  {
   "cell_type": "code",
   "execution_count": 794,
   "metadata": {},
   "outputs": [],
   "source": [
    "blah = pd.DataFrame(blackjack.STATELIST).transpose().rename(columns={0: \"skipped\", 1: \"player\", 2: \"dealer\"})\n",
    "blah['policy'] = pd.Series(pi.policy)"
   ]
  },
  {
   "cell_type": "code",
   "execution_count": 795,
   "metadata": {},
   "outputs": [
    {
     "data": {
      "text/plain": [
       "Text(0.5, 1, 'Blackjack: Player Policy Avg. by Card Value')"
      ]
     },
     "execution_count": 795,
     "metadata": {},
     "output_type": "execute_result"
    },
    {
     "data": {
      "image/png": "[encoded data removed]",
      "text/plain": [
       "<Figure size 432x288 with 2 Axes>"
      ]
     },
     "metadata": {
      "needs_background": "light"
     },
     "output_type": "display_data"
    }
   ],
   "source": [
    "ax = sns.heatmap(blah[(blah.skipped == 0)][['player', 'policy']].groupby('player').mean(), vmin=0, vmax=1)\n",
    "ax.set_ylabel(\"Card Values\")\n",
    "ax.set_xlabel(\"(skip=0, hit=1)\")\n",
    "ax.set_title(\"Blackjack: Player Policy Avg. by Card Value\")"
   ]
  },
  {
   "cell_type": "code",
   "execution_count": 786,
   "metadata": {},
   "outputs": [
    {
     "data": {
      "text/plain": [
       "Text(0.5, 1, 'Blackjack: Player Policy Avg. by Card Value')"
      ]
     },
     "execution_count": 786,
     "metadata": {},
     "output_type": "execute_result"
    },
    {
     "data": {
      "image/png": "[encoded data removed]",
      "text/plain": [
       "<Figure size 432x288 with 2 Axes>"
      ]
     },
     "metadata": {
      "needs_background": "light"
     },
     "output_type": "display_data"
    }
   ],
   "source": [
    "ax = sns.heatmap(blah[(blah.skipped == 0)][['player', 'policy']].groupby('player').mean(), vmin=0, vmax=1)\n",
    "ax.set_ylabel(\"Card Values\")\n",
    "ax.set_xlabel(\"(skip=0, hit=1)\")\n",
    "ax.set_title(\"Blackjack: Player Policy Avg. by Card Value\")"
   ]
  },
  {
   "cell_type": "code",
   "execution_count": 761,
   "metadata": {},
   "outputs": [],
   "source": [
    "plot = pd.DataFrame(test.melt().groupby(['variable', 'value']).value.count())\n"
   ]
  },
  {
   "cell_type": "code",
   "execution_count": 762,
   "metadata": {},
   "outputs": [
    {
     "data": {
      "text/html": [
       "<div>\n",
       "<style scoped>\n",
       "    .dataframe tbody tr th:only-of-type {\n",
       "        vertical-align: middle;\n",
       "    }\n",
       "\n",
       "    .dataframe tbody tr th {\n",
       "        vertical-align: top;\n",
       "    }\n",
       "\n",
       "    .dataframe thead th {\n",
       "        text-align: right;\n",
       "    }\n",
       "</style>\n",
       "<table border=\"1\" class=\"dataframe\">\n",
       "  <thead>\n",
       "    <tr style=\"text-align: right;\">\n",
       "      <th></th>\n",
       "      <th></th>\n",
       "      <th>count</th>\n",
       "    </tr>\n",
       "    <tr>\n",
       "      <th>variable</th>\n",
       "      <th>value</th>\n",
       "      <th></th>\n",
       "    </tr>\n",
       "  </thead>\n",
       "  <tbody>\n",
       "    <tr>\n",
       "      <th rowspan=\"2\" valign=\"top\">policy_iteration</th>\n",
       "      <th>hit</th>\n",
       "      <td>167</td>\n",
       "    </tr>\n",
       "    <tr>\n",
       "      <th>skip</th>\n",
       "      <td>632</td>\n",
       "    </tr>\n",
       "    <tr>\n",
       "      <th rowspan=\"2\" valign=\"top\">value_iteration</th>\n",
       "      <th>hit</th>\n",
       "      <td>166</td>\n",
       "    </tr>\n",
       "    <tr>\n",
       "      <th>skip</th>\n",
       "      <td>633</td>\n",
       "    </tr>\n",
       "  </tbody>\n",
       "</table>\n",
       "</div>"
      ],
      "text/plain": [
       "                        count\n",
       "variable         value       \n",
       "policy_iteration hit      167\n",
       "                 skip     632\n",
       "value_iteration  hit      166\n",
       "                 skip     633"
      ]
     },
     "execution_count": 762,
     "metadata": {},
     "output_type": "execute_result"
    }
   ],
   "source": [
    "plot.rename(columns={'variable': 'algorithm', 'value':'count' })"
   ]
  },
  {
   "cell_type": "code",
   "execution_count": 729,
   "metadata": {},
   "outputs": [
    {
     "data": {
      "text/plain": [
       "0    591\n",
       "1    208\n",
       "Name: policy_iteration, dtype: int64"
      ]
     },
     "execution_count": 729,
     "metadata": {},
     "output_type": "execute_result"
    }
   ],
   "source": [
    "test.policy_iteration.value_counts()"
   ]
  },
  {
   "cell_type": "code",
   "execution_count": 713,
   "metadata": {},
   "outputs": [
    {
     "data": {
      "image/png": "[encoded data removed]",
      "text/plain": [
       "<Figure size 432x288 with 1 Axes>"
      ]
     },
     "metadata": {
      "needs_background": "light"
     },
     "output_type": "display_data"
    }
   ],
   "source": [
    "ax = sns.lineplot(x=\"Iteration\", y=\"Max V\", data=value_df)"
   ]
  },
  {
   "cell_type": "code",
   "execution_count": null,
   "metadata": {},
   "outputs": [],
   "source": []
  },
  {
   "cell_type": "code",
   "execution_count": 714,
   "metadata": {},
   "outputs": [],
   "source": [
    "comb = pd.concat([value_df, policy_df])"
   ]
  },
  {
   "cell_type": "code",
   "execution_count": 715,
   "metadata": {
    "scrolled": true
   },
   "outputs": [
    {
     "data": {
      "text/plain": [
       "Text(0.5, 1.0, 'Blackjack: Reward vs. Iteration')"
      ]
     },
     "execution_count": 715,
     "metadata": {},
     "output_type": "execute_result"
    },
    {
     "data": {
      "image/png": "[encoded data removed]",
      "text/plain": [
       "<Figure size 432x288 with 1 Axes>"
      ]
     },
     "metadata": {
      "needs_background": "light"
     },
     "output_type": "display_data"
    }
   ],
   "source": [
    "ax = sns.lineplot(x=\"Iteration\", y=\"Reward\", data=comb, hue=\"algorithm\")\n",
    "ax.set_title(\"Blackjack: Reward vs. Iteration\")"
   ]
  },
  {
   "cell_type": "code",
   "execution_count": 716,
   "metadata": {},
   "outputs": [
    {
     "data": {
      "text/plain": [
       "Text(0.5, 1.0, 'Blackjack: Mean V vs. Iteration')"
      ]
     },
     "execution_count": 716,
     "metadata": {},
     "output_type": "execute_result"
    },
    {
     "data": {
      "image/png": "[encoded data removed]",
      "text/plain": [
       "<Figure size 432x288 with 1 Axes>"
      ]
     },
     "metadata": {
      "needs_background": "light"
     },
     "output_type": "display_data"
    }
   ],
   "source": [
    "ax = sns.lineplot(x=\"Iteration\", y=\"Mean V\", data=comb, hue=\"algorithm\")\n",
    "ax.set_title(\"Blackjack: Mean V vs. Iteration\")"
   ]
  },
  {
   "cell_type": "code",
   "execution_count": 717,
   "metadata": {},
   "outputs": [
    {
     "data": {
      "text/plain": [
       "Text(0.5, 1.0, 'Blackjack: Runtime vs. Iteration')"
      ]
     },
     "execution_count": 717,
     "metadata": {},
     "output_type": "execute_result"
    },
    {
     "data": {
      "image/png": "[encoded data removed]",
      "text/plain": [
       "<Figure size 432x288 with 1 Axes>"
      ]
     },
     "metadata": {
      "needs_background": "light"
     },
     "output_type": "display_data"
    }
   ],
   "source": [
    "ax = sns.barplot(x=\"Iteration\", y=\"Time\", data=comb, hue=\"algorithm\")\n",
    "ax.set_title(\"Blackjack: Runtime vs. Iteration\")"
   ]
  },
  {
   "cell_type": "code",
   "execution_count": 718,
   "metadata": {},
   "outputs": [
    {
     "name": "stdout",
     "output_type": "stream",
     "text": [
      "WARNING: check conditions of convergence. With no discount, convergence can not be assumed.\n"
     ]
    }
   ],
   "source": [
    "vi_df = pd.DataFrame()\n",
    "\n",
    "for discount_factor in [0.1, 0.2, 0.3, 0.4, 0.5, 0.6, 0.7, 0.8, 0.9, 1]:\n",
    "    vi = mdptoolbox.mdp.ValueIteration(blackjack.T, blackjack.R, discount_factor)\n",
    "    vi_output = vi.run()\n",
    "    df = pd.DataFrame(vi_output)\n",
    "    df['algorithm'] = \"value_iteration\"\n",
    "    df['discount_factor'] = discount_factor\n",
    "    vi_df = vi_df.append(df)"
   ]
  },
  {
   "cell_type": "code",
   "execution_count": 719,
   "metadata": {},
   "outputs": [
    {
     "data": {
      "text/plain": [
       "Text(0.5, 1.0, 'Blackjack: Value Iteration Reward by Discount Factor')"
      ]
     },
     "execution_count": 719,
     "metadata": {},
     "output_type": "execute_result"
    },
    {
     "data": {
      "image/png": "[encoded data removed]",
      "text/plain": [
       "<Figure size 432x288 with 1 Axes>"
      ]
     },
     "metadata": {
      "needs_background": "light"
     },
     "output_type": "display_data"
    }
   ],
   "source": [
    "ax = sns.lineplot(x=\"discount_factor\", y=\"Reward\", data=vi_df)\n",
    "ax.set_title(\"Blackjack: Value Iteration Reward by Discount Factor\")\n"
   ]
  },
  {
   "cell_type": "code",
   "execution_count": 833,
   "metadata": {},
   "outputs": [
    {
     "name": "stdout",
     "output_type": "stream",
     "text": [
      "WARNING: check conditions of convergence. With no discount, convergence can not be assumed.\n"
     ]
    },
    {
     "ename": "KeyboardInterrupt",
     "evalue": "",
     "output_type": "error",
     "traceback": [
      "\u001b[0;31m---------------------------------------------------------------------------\u001b[0m",
      "\u001b[0;31mKeyboardInterrupt\u001b[0m                         Traceback (most recent call last)",
      "\u001b[0;32m<ipython-input-833-8ef731efca41>\u001b[0m in \u001b[0;36m<module>\u001b[0;34m()\u001b[0m\n\u001b[1;32m      3\u001b[0m \u001b[0;32mfor\u001b[0m \u001b[0mdiscount_factor\u001b[0m \u001b[0;32min\u001b[0m \u001b[0;34m[\u001b[0m\u001b[0;36m0.1\u001b[0m\u001b[0;34m,\u001b[0m \u001b[0;36m0.2\u001b[0m\u001b[0;34m,\u001b[0m \u001b[0;36m0.3\u001b[0m\u001b[0;34m,\u001b[0m \u001b[0;36m0.4\u001b[0m\u001b[0;34m,\u001b[0m \u001b[0;36m0.5\u001b[0m\u001b[0;34m,\u001b[0m \u001b[0;36m0.6\u001b[0m\u001b[0;34m,\u001b[0m \u001b[0;36m0.7\u001b[0m\u001b[0;34m,\u001b[0m \u001b[0;36m0.8\u001b[0m\u001b[0;34m,\u001b[0m \u001b[0;36m0.9\u001b[0m\u001b[0;34m,\u001b[0m \u001b[0;36m1\u001b[0m\u001b[0;34m]\u001b[0m\u001b[0;34m:\u001b[0m\u001b[0;34m\u001b[0m\u001b[0m\n\u001b[1;32m      4\u001b[0m     \u001b[0mpi\u001b[0m \u001b[0;34m=\u001b[0m \u001b[0mmdptoolbox\u001b[0m\u001b[0;34m.\u001b[0m\u001b[0mmdp\u001b[0m\u001b[0;34m.\u001b[0m\u001b[0mPolicyIteration\u001b[0m\u001b[0;34m(\u001b[0m\u001b[0mblackjack\u001b[0m\u001b[0;34m.\u001b[0m\u001b[0mT\u001b[0m\u001b[0;34m,\u001b[0m \u001b[0mblackjack\u001b[0m\u001b[0;34m.\u001b[0m\u001b[0mR\u001b[0m\u001b[0;34m,\u001b[0m \u001b[0mdiscount_factor\u001b[0m\u001b[0;34m)\u001b[0m\u001b[0;34m\u001b[0m\u001b[0m\n\u001b[0;32m----> 5\u001b[0;31m     \u001b[0mpi_output\u001b[0m \u001b[0;34m=\u001b[0m \u001b[0mpi\u001b[0m\u001b[0;34m.\u001b[0m\u001b[0mrun\u001b[0m\u001b[0;34m(\u001b[0m\u001b[0;34m)\u001b[0m\u001b[0;34m\u001b[0m\u001b[0m\n\u001b[0m\u001b[1;32m      6\u001b[0m     \u001b[0mdf\u001b[0m \u001b[0;34m=\u001b[0m \u001b[0mpd\u001b[0m\u001b[0;34m.\u001b[0m\u001b[0mDataFrame\u001b[0m\u001b[0;34m(\u001b[0m\u001b[0mpi_output\u001b[0m\u001b[0;34m)\u001b[0m\u001b[0;34m\u001b[0m\u001b[0m\n\u001b[1;32m      7\u001b[0m     \u001b[0mdf\u001b[0m\u001b[0;34m[\u001b[0m\u001b[0;34m'algorithm'\u001b[0m\u001b[0;34m]\u001b[0m \u001b[0;34m=\u001b[0m \u001b[0;34m\"policy_iteration\"\u001b[0m\u001b[0;34m\u001b[0m\u001b[0m\n",
      "\u001b[0;32m/Library/Frameworks/Python.framework/Versions/3.7/lib/python3.7/site-packages/hiive/mdptoolbox/mdp.py\u001b[0m in \u001b[0;36mrun\u001b[0;34m(self)\u001b[0m\n\u001b[1;32m    839\u001b[0m             \u001b[0;31m# attribute\u001b[0m\u001b[0;34m\u001b[0m\u001b[0;34m\u001b[0m\u001b[0m\n\u001b[1;32m    840\u001b[0m             policy_V, policy_R, itr = (self._evalPolicyMatrix()\n\u001b[0;32m--> 841\u001b[0;31m                                        \u001b[0;32mif\u001b[0m \u001b[0mself\u001b[0m\u001b[0;34m.\u001b[0m\u001b[0meval_type\u001b[0m \u001b[0;34m==\u001b[0m \u001b[0;34m'matrix'\u001b[0m\u001b[0;34m\u001b[0m\u001b[0m\n\u001b[0m\u001b[1;32m    842\u001b[0m                                        else self._evalPolicyIterative())\n\u001b[1;32m    843\u001b[0m \u001b[0;34m\u001b[0m\u001b[0m\n",
      "\u001b[0;32m/Library/Frameworks/Python.framework/Versions/3.7/lib/python3.7/site-packages/hiive/mdptoolbox/mdp.py\u001b[0m in \u001b[0;36m_evalPolicyMatrix\u001b[0;34m(self)\u001b[0m\n\u001b[1;32m    801\u001b[0m         \u001b[0mPpolicy\u001b[0m\u001b[0;34m,\u001b[0m \u001b[0mRpolicy\u001b[0m \u001b[0;34m=\u001b[0m \u001b[0mself\u001b[0m\u001b[0;34m.\u001b[0m\u001b[0m_computePpolicyPRpolicy\u001b[0m\u001b[0;34m(\u001b[0m\u001b[0;34m)\u001b[0m\u001b[0;34m\u001b[0m\u001b[0m\n\u001b[1;32m    802\u001b[0m         \u001b[0;31m# V = PR + gPV  => (I-gP)V = PR  => V = inv(I-gP)* PR\u001b[0m\u001b[0;34m\u001b[0m\u001b[0;34m\u001b[0m\u001b[0m\n\u001b[0;32m--> 803\u001b[0;31m         \u001b[0mpolicy_V\u001b[0m \u001b[0;34m=\u001b[0m \u001b[0m_np\u001b[0m\u001b[0;34m.\u001b[0m\u001b[0mlinalg\u001b[0m\u001b[0;34m.\u001b[0m\u001b[0msolve\u001b[0m\u001b[0;34m(\u001b[0m\u001b[0;34m(\u001b[0m\u001b[0m_sp\u001b[0m\u001b[0;34m.\u001b[0m\u001b[0meye\u001b[0m\u001b[0;34m(\u001b[0m\u001b[0mself\u001b[0m\u001b[0;34m.\u001b[0m\u001b[0mS\u001b[0m\u001b[0;34m,\u001b[0m \u001b[0mself\u001b[0m\u001b[0;34m.\u001b[0m\u001b[0mS\u001b[0m\u001b[0;34m)\u001b[0m \u001b[0;34m-\u001b[0m \u001b[0mself\u001b[0m\u001b[0;34m.\u001b[0m\u001b[0mgamma\u001b[0m \u001b[0;34m*\u001b[0m \u001b[0mPpolicy\u001b[0m\u001b[0;34m)\u001b[0m\u001b[0;34m,\u001b[0m \u001b[0mRpolicy\u001b[0m\u001b[0;34m)\u001b[0m\u001b[0;34m\u001b[0m\u001b[0m\n\u001b[0m\u001b[1;32m    804\u001b[0m         \u001b[0mself\u001b[0m\u001b[0;34m.\u001b[0m\u001b[0mV\u001b[0m \u001b[0;34m=\u001b[0m \u001b[0mpolicy_V\u001b[0m\u001b[0;34m\u001b[0m\u001b[0m\n\u001b[1;32m    805\u001b[0m         \u001b[0;32mreturn\u001b[0m \u001b[0mpolicy_V\u001b[0m\u001b[0;34m,\u001b[0m \u001b[0mRpolicy\u001b[0m\u001b[0;34m,\u001b[0m \u001b[0;32mNone\u001b[0m\u001b[0;34m\u001b[0m\u001b[0m\n",
      "\u001b[0;32m<__array_function__ internals>\u001b[0m in \u001b[0;36msolve\u001b[0;34m(*args, **kwargs)\u001b[0m\n",
      "\u001b[0;32m/Library/Frameworks/Python.framework/Versions/3.7/lib/python3.7/site-packages/numpy/linalg/linalg.py\u001b[0m in \u001b[0;36msolve\u001b[0;34m(a, b)\u001b[0m\n\u001b[1;32m    397\u001b[0m     \u001b[0msignature\u001b[0m \u001b[0;34m=\u001b[0m \u001b[0;34m'DD->D'\u001b[0m \u001b[0;32mif\u001b[0m \u001b[0misComplexType\u001b[0m\u001b[0;34m(\u001b[0m\u001b[0mt\u001b[0m\u001b[0;34m)\u001b[0m \u001b[0;32melse\u001b[0m \u001b[0;34m'dd->d'\u001b[0m\u001b[0;34m\u001b[0m\u001b[0m\n\u001b[1;32m    398\u001b[0m     \u001b[0mextobj\u001b[0m \u001b[0;34m=\u001b[0m \u001b[0mget_linalg_error_extobj\u001b[0m\u001b[0;34m(\u001b[0m\u001b[0m_raise_linalgerror_singular\u001b[0m\u001b[0;34m)\u001b[0m\u001b[0;34m\u001b[0m\u001b[0m\n\u001b[0;32m--> 399\u001b[0;31m     \u001b[0mr\u001b[0m \u001b[0;34m=\u001b[0m \u001b[0mgufunc\u001b[0m\u001b[0;34m(\u001b[0m\u001b[0ma\u001b[0m\u001b[0;34m,\u001b[0m \u001b[0mb\u001b[0m\u001b[0;34m,\u001b[0m \u001b[0msignature\u001b[0m\u001b[0;34m=\u001b[0m\u001b[0msignature\u001b[0m\u001b[0;34m,\u001b[0m \u001b[0mextobj\u001b[0m\u001b[0;34m=\u001b[0m\u001b[0mextobj\u001b[0m\u001b[0;34m)\u001b[0m\u001b[0;34m\u001b[0m\u001b[0m\n\u001b[0m\u001b[1;32m    400\u001b[0m \u001b[0;34m\u001b[0m\u001b[0m\n\u001b[1;32m    401\u001b[0m     \u001b[0;32mreturn\u001b[0m \u001b[0mwrap\u001b[0m\u001b[0;34m(\u001b[0m\u001b[0mr\u001b[0m\u001b[0;34m.\u001b[0m\u001b[0mastype\u001b[0m\u001b[0;34m(\u001b[0m\u001b[0mresult_t\u001b[0m\u001b[0;34m,\u001b[0m \u001b[0mcopy\u001b[0m\u001b[0;34m=\u001b[0m\u001b[0;32mFalse\u001b[0m\u001b[0;34m)\u001b[0m\u001b[0;34m)\u001b[0m\u001b[0;34m\u001b[0m\u001b[0m\n",
      "\u001b[0;31mKeyboardInterrupt\u001b[0m: "
     ]
    }
   ],
   "source": [
    "pi_df = pd.DataFrame()\n",
    "\n",
    "for discount_factor in [0.1, 0.2, 0.3, 0.4, 0.5, 0.6, 0.7, 0.8, 0.9, 1]:\n",
    "    pi = mdptoolbox.mdp.PolicyIteration(blackjack.T, blackjack.R, discount_factor)\n",
    "    pi_output = pi.run()\n",
    "    df = pd.DataFrame(pi_output)\n",
    "    df['algorithm'] = \"policy_iteration\"\n",
    "    df['discount_factor'] = discount_factor\n",
    "    pi_df = pi_df.append(df)"
   ]
  },
  {
   "cell_type": "code",
   "execution_count": 721,
   "metadata": {},
   "outputs": [
    {
     "data": {
      "text/plain": [
       "Text(0.5, 1.0, 'Blackjack: Policy Iteration Reward by Discount Factor')"
      ]
     },
     "execution_count": 721,
     "metadata": {},
     "output_type": "execute_result"
    },
    {
     "data": {
      "image/png": "[encoded data removed]",
      "text/plain": [
       "<Figure size 432x288 with 1 Axes>"
      ]
     },
     "metadata": {
      "needs_background": "light"
     },
     "output_type": "display_data"
    }
   ],
   "source": [
    "ax = sns.lineplot(x=\"discount_factor\", y=\"Reward\", data=pi_df, color='coral')\n",
    "ax.set_title(\"Blackjack: Policy Iteration Reward by Discount Factor\")\n"
   ]
  },
  {
   "cell_type": "code",
   "execution_count": 165,
   "metadata": {},
   "outputs": [],
   "source": [
    "df_output = pd.concat([vi_df, pi_df])"
   ]
  },
  {
   "cell_type": "code",
   "execution_count": 169,
   "metadata": {},
   "outputs": [
    {
     "data": {
      "text/html": [
       "<div>\n",
       "<style scoped>\n",
       "    .dataframe tbody tr th:only-of-type {\n",
       "        vertical-align: middle;\n",
       "    }\n",
       "\n",
       "    .dataframe tbody tr th {\n",
       "        vertical-align: top;\n",
       "    }\n",
       "\n",
       "    .dataframe thead th {\n",
       "        text-align: right;\n",
       "    }\n",
       "</style>\n",
       "<table border=\"1\" class=\"dataframe\">\n",
       "  <thead>\n",
       "    <tr style=\"text-align: right;\">\n",
       "      <th></th>\n",
       "      <th>State</th>\n",
       "      <th>Action</th>\n",
       "      <th>Reward</th>\n",
       "      <th>Error</th>\n",
       "      <th>Time</th>\n",
       "      <th>Max V</th>\n",
       "      <th>Mean V</th>\n",
       "      <th>Iteration</th>\n",
       "      <th>algorithm</th>\n",
       "      <th>discount_factor</th>\n",
       "    </tr>\n",
       "  </thead>\n",
       "  <tbody>\n",
       "    <tr>\n",
       "      <th>0</th>\n",
       "      <td>None</td>\n",
       "      <td>None</td>\n",
       "      <td>1.500000e+00</td>\n",
       "      <td>2.500000</td>\n",
       "      <td>0.001427</td>\n",
       "      <td>1.500000e+00</td>\n",
       "      <td>-1.151439e-01</td>\n",
       "      <td>1</td>\n",
       "      <td>value_iteration</td>\n",
       "      <td>0.1</td>\n",
       "    </tr>\n",
       "    <tr>\n",
       "      <th>1</th>\n",
       "      <td>None</td>\n",
       "      <td>None</td>\n",
       "      <td>1.500000e+00</td>\n",
       "      <td>0.250000</td>\n",
       "      <td>0.002859</td>\n",
       "      <td>1.500000e+00</td>\n",
       "      <td>-1.147114e-01</td>\n",
       "      <td>2</td>\n",
       "      <td>value_iteration</td>\n",
       "      <td>0.1</td>\n",
       "    </tr>\n",
       "    <tr>\n",
       "      <th>0</th>\n",
       "      <td>None</td>\n",
       "      <td>None</td>\n",
       "      <td>1.500000e+00</td>\n",
       "      <td>2.500000</td>\n",
       "      <td>0.001471</td>\n",
       "      <td>1.500000e+00</td>\n",
       "      <td>-1.151439e-01</td>\n",
       "      <td>1</td>\n",
       "      <td>value_iteration</td>\n",
       "      <td>0.2</td>\n",
       "    </tr>\n",
       "    <tr>\n",
       "      <th>1</th>\n",
       "      <td>None</td>\n",
       "      <td>None</td>\n",
       "      <td>1.500000e+00</td>\n",
       "      <td>0.500000</td>\n",
       "      <td>0.004373</td>\n",
       "      <td>1.500000e+00</td>\n",
       "      <td>-1.142789e-01</td>\n",
       "      <td>2</td>\n",
       "      <td>value_iteration</td>\n",
       "      <td>0.2</td>\n",
       "    </tr>\n",
       "    <tr>\n",
       "      <th>2</th>\n",
       "      <td>None</td>\n",
       "      <td>None</td>\n",
       "      <td>1.499763e+00</td>\n",
       "      <td>0.063905</td>\n",
       "      <td>0.006125</td>\n",
       "      <td>1.499763e+00</td>\n",
       "      <td>-1.146943e-01</td>\n",
       "      <td>3</td>\n",
       "      <td>value_iteration</td>\n",
       "      <td>0.2</td>\n",
       "    </tr>\n",
       "    <tr>\n",
       "      <th>...</th>\n",
       "      <td>...</td>\n",
       "      <td>...</td>\n",
       "      <td>...</td>\n",
       "      <td>...</td>\n",
       "      <td>...</td>\n",
       "      <td>...</td>\n",
       "      <td>...</td>\n",
       "      <td>...</td>\n",
       "      <td>...</td>\n",
       "      <td>...</td>\n",
       "    </tr>\n",
       "    <tr>\n",
       "      <th>995</th>\n",
       "      <td>None</td>\n",
       "      <td>None</td>\n",
       "      <td>6.823798e+14</td>\n",
       "      <td>0.750000</td>\n",
       "      <td>20.122769</td>\n",
       "      <td>6.823798e+14</td>\n",
       "      <td>6.823798e+14</td>\n",
       "      <td>996</td>\n",
       "      <td>policy_iteration</td>\n",
       "      <td>1.0</td>\n",
       "    </tr>\n",
       "    <tr>\n",
       "      <th>996</th>\n",
       "      <td>None</td>\n",
       "      <td>None</td>\n",
       "      <td>6.699284e+14</td>\n",
       "      <td>1.000000</td>\n",
       "      <td>20.142479</td>\n",
       "      <td>6.699284e+14</td>\n",
       "      <td>6.699284e+14</td>\n",
       "      <td>997</td>\n",
       "      <td>policy_iteration</td>\n",
       "      <td>1.0</td>\n",
       "    </tr>\n",
       "    <tr>\n",
       "      <th>997</th>\n",
       "      <td>None</td>\n",
       "      <td>None</td>\n",
       "      <td>1.047255e+15</td>\n",
       "      <td>1.375000</td>\n",
       "      <td>20.163194</td>\n",
       "      <td>1.047255e+15</td>\n",
       "      <td>1.047255e+15</td>\n",
       "      <td>998</td>\n",
       "      <td>policy_iteration</td>\n",
       "      <td>1.0</td>\n",
       "    </tr>\n",
       "    <tr>\n",
       "      <th>998</th>\n",
       "      <td>None</td>\n",
       "      <td>None</td>\n",
       "      <td>8.235668e+14</td>\n",
       "      <td>0.750000</td>\n",
       "      <td>20.185796</td>\n",
       "      <td>8.235668e+14</td>\n",
       "      <td>8.235668e+14</td>\n",
       "      <td>999</td>\n",
       "      <td>policy_iteration</td>\n",
       "      <td>1.0</td>\n",
       "    </tr>\n",
       "    <tr>\n",
       "      <th>999</th>\n",
       "      <td>None</td>\n",
       "      <td>None</td>\n",
       "      <td>8.477506e+14</td>\n",
       "      <td>1.375000</td>\n",
       "      <td>20.208077</td>\n",
       "      <td>8.477506e+14</td>\n",
       "      <td>8.477506e+14</td>\n",
       "      <td>1000</td>\n",
       "      <td>policy_iteration</td>\n",
       "      <td>1.0</td>\n",
       "    </tr>\n",
       "  </tbody>\n",
       "</table>\n",
       "<p>1118 rows × 10 columns</p>\n",
       "</div>"
      ],
      "text/plain": [
       "    State Action        Reward     Error       Time         Max V  \\\n",
       "0    None   None  1.500000e+00  2.500000   0.001427  1.500000e+00   \n",
       "1    None   None  1.500000e+00  0.250000   0.002859  1.500000e+00   \n",
       "0    None   None  1.500000e+00  2.500000   0.001471  1.500000e+00   \n",
       "1    None   None  1.500000e+00  0.500000   0.004373  1.500000e+00   \n",
       "2    None   None  1.499763e+00  0.063905   0.006125  1.499763e+00   \n",
       "..    ...    ...           ...       ...        ...           ...   \n",
       "995  None   None  6.823798e+14  0.750000  20.122769  6.823798e+14   \n",
       "996  None   None  6.699284e+14  1.000000  20.142479  6.699284e+14   \n",
       "997  None   None  1.047255e+15  1.375000  20.163194  1.047255e+15   \n",
       "998  None   None  8.235668e+14  0.750000  20.185796  8.235668e+14   \n",
       "999  None   None  8.477506e+14  1.375000  20.208077  8.477506e+14   \n",
       "\n",
       "           Mean V  Iteration         algorithm  discount_factor  \n",
       "0   -1.151439e-01          1   value_iteration              0.1  \n",
       "1   -1.147114e-01          2   value_iteration              0.1  \n",
       "0   -1.151439e-01          1   value_iteration              0.2  \n",
       "1   -1.142789e-01          2   value_iteration              0.2  \n",
       "2   -1.146943e-01          3   value_iteration              0.2  \n",
       "..            ...        ...               ...              ...  \n",
       "995  6.823798e+14        996  policy_iteration              1.0  \n",
       "996  6.699284e+14        997  policy_iteration              1.0  \n",
       "997  1.047255e+15        998  policy_iteration              1.0  \n",
       "998  8.235668e+14        999  policy_iteration              1.0  \n",
       "999  8.477506e+14       1000  policy_iteration              1.0  \n",
       "\n",
       "[1118 rows x 10 columns]"
      ]
     },
     "execution_count": 169,
     "metadata": {},
     "output_type": "execute_result"
    }
   ],
   "source": [
    "df_output"
   ]
  },
  {
   "cell_type": "code",
   "execution_count": 171,
   "metadata": {},
   "outputs": [
    {
     "data": {
      "text/plain": [
       "Text(0.5, 1.0, 'Blackjack: Reward vs. Discount Factor')"
      ]
     },
     "execution_count": 171,
     "metadata": {},
     "output_type": "execute_result"
    },
    {
     "data": {
      "image/png": "[encoded data removed]",
      "text/plain": [
       "<Figure size 432x288 with 1 Axes>"
      ]
     },
     "metadata": {
      "needs_background": "light"
     },
     "output_type": "display_data"
    }
   ],
   "source": [
    "ax = sns.lineplot(x=\"discount_factor\", y=\"Reward\", hue=\"algorithm\", data=df_output)\n",
    "ax.set_title(\"Blackjack: Reward vs. Discount Factor\")"
   ]
  },
  {
   "cell_type": "code",
   "execution_count": null,
   "metadata": {},
   "outputs": [],
   "source": []
  },
  {
   "cell_type": "code",
   "execution_count": null,
   "metadata": {},
   "outputs": [],
   "source": [
    "#                  alpha=0.1, alpha_decay=0.99, alpha_min=0.001,\n",
    "#                  epsilon=1.0, epsilon_min=0.1, epsilon_decay=0.99,\n",
    "#                  n_iter=10000, skip_check=False, iter_callback=None,\n",
    "#                  run_stat_frequency=None):"
   ]
  },
  {
   "cell_type": "code",
   "execution_count": 835,
   "metadata": {},
   "outputs": [],
   "source": [
    "correct_policy = vi.policy\n",
    "\n"
   ]
  },
  {
   "cell_type": "code",
   "execution_count": 839,
   "metadata": {},
   "outputs": [
    {
     "data": {
      "text/plain": [
       "False"
      ]
     },
     "execution_count": 839,
     "metadata": {},
     "output_type": "execute_result"
    }
   ],
   "source": [
    "correct_policy == ql.policy"
   ]
  },
  {
   "cell_type": "code",
   "execution_count": 780,
   "metadata": {},
   "outputs": [],
   "source": [
    "value_df = pd.DataFrame(vi_output)\n",
    "value_df['algorithm'] = 'value_iteration'"
   ]
  },
  {
   "cell_type": "code",
   "execution_count": 781,
   "metadata": {},
   "outputs": [
    {
     "data": {
      "image/png": "[encoded data removed]",
      "text/plain": [
       "<Figure size 432x288 with 1 Axes>"
      ]
     },
     "metadata": {
      "needs_background": "light"
     },
     "output_type": "display_data"
    }
   ],
   "source": [
    "ax = sns.lineplot(x=\"Iteration\", y=\"Reward\", data=value_df)"
   ]
  },
  {
   "cell_type": "code",
   "execution_count": 993,
   "metadata": {},
   "outputs": [
    {
     "name": "stdout",
     "output_type": "stream",
     "text": [
      "discount: 0.8, alpha: 0.1, alpha_decay: 0.2\n",
      "0    615\n",
      "1    184\n",
      "dtype: int64\n",
      "discount: 0.8, alpha: 0.2, alpha_decay: 0.2\n",
      "0    616\n",
      "1    183\n",
      "dtype: int64\n",
      "discount: 0.8, alpha: 0.3, alpha_decay: 0.2\n",
      "0    607\n",
      "1    192\n",
      "dtype: int64\n",
      "discount: 0.9, alpha: 0.1, alpha_decay: 0.2\n",
      "0    623\n",
      "1    176\n",
      "dtype: int64\n",
      "discount: 0.9, alpha: 0.2, alpha_decay: 0.2\n",
      "0    617\n",
      "1    182\n",
      "dtype: int64\n",
      "discount: 0.9, alpha: 0.3, alpha_decay: 0.2\n",
      "0    621\n",
      "1    178\n",
      "dtype: int64\n",
      "discount: 1, alpha: 0.1, alpha_decay: 0.2\n",
      "0    596\n",
      "1    203\n",
      "dtype: int64\n",
      "discount: 1, alpha: 0.2, alpha_decay: 0.2\n",
      "0    623\n",
      "1    176\n",
      "dtype: int64\n",
      "discount: 1, alpha: 0.3, alpha_decay: 0.2\n",
      "0    596\n",
      "1    203\n",
      "dtype: int64\n"
     ]
    }
   ],
   "source": [
    "\n",
    "\n",
    "matrix = {'discount': [0.8, 0.9, 1], 'alpha': [0.1, 0.2, 0.3], 'alpha_decay': [0.2, 0.7, 0.8, 0.9]}\n",
    "\n",
    "for d in matrix['discount']:\n",
    "    for a in matrix['alpha']:\n",
    "        for ad in matrix['alpha_decay']:\n",
    "            ql = mdptoolbox.mdp.QLearning(blackjack.T, blackjack.R, d, alpha=a, alpha_decay=ad)\n",
    "            ql.setVerbose()\n",
    "            ql_output = ql.run()\n",
    "            print(\"discount: {}, alpha: {}, alpha_decay: {}\".format(d, a, ad))\n",
    "            print(pd.Series(ql.policy).value_counts())\n",
    "            break   \n",
    "        "
   ]
  },
  {
   "cell_type": "code",
   "execution_count": 991,
   "metadata": {},
   "outputs": [
    {
     "name": "stdout",
     "output_type": "stream",
     "text": [
      "0    638\n",
      "1    161\n",
      "dtype: int64\n"
     ]
    }
   ],
   "source": [
    "print(pd.Series(ql.policy).value_counts())"
   ]
  },
  {
   "cell_type": "code",
   "execution_count": 996,
   "metadata": {},
   "outputs": [],
   "source": [
    "ql = mdptoolbox.mdp.QLearning(blackjack.T, blackjack.R, 1, alpha=0.1, alpha_decay=0.2)\n",
    "ql.setVerbose()\n",
    "ql_output = ql.run()"
   ]
  },
  {
   "cell_type": "code",
   "execution_count": 998,
   "metadata": {},
   "outputs": [
    {
     "data": {
      "text/plain": [
       "Text(0.5, 1, 'Blackjack: Q-matrix Heatmap')"
      ]
     },
     "execution_count": 998,
     "metadata": {},
     "output_type": "execute_result"
    },
    {
     "data": {
      "image/png": "[encoded data removed]",
      "text/plain": [
       "<Figure size 1152x144 with 2 Axes>"
      ]
     },
     "metadata": {
      "needs_background": "light"
     },
     "output_type": "display_data"
    }
   ],
   "source": [
    "#     0: 'skip',\n",
    "#     1: 'draw'\n",
    "plt.figure(figsize=(16, 2))\n",
    "ax = sns.heatmap(ql.Q.transpose(), center=0, yticklabels=[\"skip\",\"draw\"])\n",
    "ax.set_xlabel(\"State\")\n",
    "ax.set_ylabel(\"Action\")\n",
    "ax.set_title(\"Blackjack: Q-matrix Heatmap\")"
   ]
  },
  {
   "cell_type": "code",
   "execution_count": 584,
   "metadata": {},
   "outputs": [
    {
     "data": {
      "text/plain": [
       "array([[-0.00010732,  0.        ,  0.        , ...,  0.        ,\n",
       "         0.        ,  0.        ],\n",
       "       [-0.00011938,  0.        ,  0.        , ...,  0.        ,\n",
       "         0.        ,  0.        ]])"
      ]
     },
     "execution_count": 584,
     "metadata": {},
     "output_type": "execute_result"
    }
   ],
   "source": [
    "ql.Q.transpose()"
   ]
  },
  {
   "cell_type": "code",
   "execution_count": 265,
   "metadata": {},
   "outputs": [
    {
     "data": {
      "text/plain": [
       "799"
      ]
     },
     "execution_count": 265,
     "metadata": {},
     "output_type": "execute_result"
    }
   ],
   "source": [
    "blackjack.STATELIST"
   ]
  },
  {
   "cell_type": "code",
   "execution_count": 446,
   "metadata": {},
   "outputs": [
    {
     "ename": "ValueError",
     "evalue": "The truth value of an array with more than one element is ambiguous. Use a.any() or a.all()",
     "output_type": "error",
     "traceback": [
      "\u001b[0;31m---------------------------------------------------------------------------\u001b[0m",
      "\u001b[0;31mValueError\u001b[0m                                Traceback (most recent call last)",
      "\u001b[0;32m<ipython-input-446-cbdc3ba6410e>\u001b[0m in \u001b[0;36m<module>\u001b[0;34m()\u001b[0m\n\u001b[0;32m----> 1\u001b[0;31m \u001b[0mlist\u001b[0m\u001b[0;34m(\u001b[0m\u001b[0mql\u001b[0m\u001b[0;34m.\u001b[0m\u001b[0mQ\u001b[0m\u001b[0;34m)\u001b[0m\u001b[0;34m.\u001b[0m\u001b[0mindex\u001b[0m\u001b[0;34m(\u001b[0m\u001b[0mmin\u001b[0m\u001b[0;34m(\u001b[0m\u001b[0mql\u001b[0m\u001b[0;34m.\u001b[0m\u001b[0mQ\u001b[0m\u001b[0;34m)\u001b[0m\u001b[0;34m)\u001b[0m\u001b[0;34m\u001b[0m\u001b[0m\n\u001b[0m",
      "\u001b[0;31mValueError\u001b[0m: The truth value of an array with more than one element is ambiguous. Use a.any() or a.all()"
     ]
    }
   ],
   "source": [
    ".max()\n",
    "\n",
    "ql.Q.index(min(ql.Q))"
   ]
  },
  {
   "cell_type": "code",
   "execution_count": 447,
   "metadata": {},
   "outputs": [
    {
     "data": {
      "text/plain": [
       "array([609, 588])"
      ]
     },
     "execution_count": 447,
     "metadata": {},
     "output_type": "execute_result"
    }
   ],
   "source": [
    "np.argmax(ql.Q, axis=0)"
   ]
  },
  {
   "cell_type": "code",
   "execution_count": 609,
   "metadata": {},
   "outputs": [],
   "source": [
    "test = set(zip(vi.policy,blackjack.STATELIST))"
   ]
  },
  {
   "cell_type": "code",
   "execution_count": 604,
   "metadata": {},
   "outputs": [],
   "source": [
    "test = np.where(ql.Q > 0.02)\n",
    "\n",
    "test = set(zip(test[0],test[1]))"
   ]
  },
  {
   "cell_type": "code",
   "execution_count": 621,
   "metadata": {},
   "outputs": [],
   "source": [
    "test = pd.DataFrame(blackjack.STATELIST).transpose().rename(columns={0: \"skipped\", 1: \"player\", 2: \"dealer\"})\n",
    "test['policy'] = pd.Series(vi.policy)"
   ]
  },
  {
   "cell_type": "code",
   "execution_count": 644,
   "metadata": {},
   "outputs": [
    {
     "data": {
      "text/plain": [
       "<matplotlib.axes._subplots.AxesSubplot at 0x12b951940>"
      ]
     },
     "execution_count": 644,
     "metadata": {},
     "output_type": "execute_result"
    },
    {
     "data": {
      "image/png": "[encoded data removed]",
      "text/plain": [
       "<Figure size 432x288 with 2 Axes>"
      ]
     },
     "metadata": {
      "needs_background": "light"
     },
     "output_type": "display_data"
    }
   ],
   "source": [
    "sns.heatmap(test[(test.skipped == 0)][['dealer', 'policy']].groupby('dealer').mean())"
   ]
  },
  {
   "cell_type": "code",
   "execution_count": 655,
   "metadata": {},
   "outputs": [
    {
     "data": {
      "text/plain": [
       "Text(0.5, 1, 'Blackjack: Player Policy Avg. by Card Value')"
      ]
     },
     "execution_count": 655,
     "metadata": {},
     "output_type": "execute_result"
    },
    {
     "data": {
      "image/png": "[encoded data removed]",
      "text/plain": [
       "<Figure size 432x288 with 2 Axes>"
      ]
     },
     "metadata": {
      "needs_background": "light"
     },
     "output_type": "display_data"
    }
   ],
   "source": [
    "ax = sns.heatmap(test[(test.skipped == 0)][['player', 'policy']].groupby('player').mean(), vmax=1, vmin=0)\n",
    "ax.set_ylabel(\"Card Values\")\n",
    "ax.set_xlabel(\"(skip=0, hit=1)\")\n",
    "ax.set_title(\"Blackjack: Player Policy Avg. by Card Value\")"
   ]
  },
  {
   "cell_type": "code",
   "execution_count": 610,
   "metadata": {},
   "outputs": [
    {
     "ename": "KeyError",
     "evalue": "378",
     "output_type": "error",
     "traceback": [
      "\u001b[0;31m---------------------------------------------------------------------------\u001b[0m",
      "\u001b[0;31mKeyError\u001b[0m                                  Traceback (most recent call last)",
      "\u001b[0;32m<ipython-input-610-0b0a62121c56>\u001b[0m in \u001b[0;36m<module>\u001b[0;34m()\u001b[0m\n\u001b[1;32m      6\u001b[0m \u001b[0;32mfor\u001b[0m \u001b[0mk\u001b[0m \u001b[0;32min\u001b[0m \u001b[0mtest\u001b[0m\u001b[0;34m:\u001b[0m\u001b[0;34m\u001b[0m\u001b[0m\n\u001b[1;32m      7\u001b[0m     \u001b[0mstate\u001b[0m \u001b[0;34m=\u001b[0m \u001b[0mblackjack\u001b[0m\u001b[0;34m.\u001b[0m\u001b[0mSTATELIST\u001b[0m\u001b[0;34m[\u001b[0m\u001b[0mk\u001b[0m\u001b[0;34m[\u001b[0m\u001b[0;36m0\u001b[0m\u001b[0;34m]\u001b[0m\u001b[0;34m]\u001b[0m\u001b[0;34m\u001b[0m\u001b[0m\n\u001b[0;32m----> 8\u001b[0;31m     \u001b[0mdf\u001b[0m \u001b[0;34m=\u001b[0m \u001b[0mpd\u001b[0m\u001b[0;34m.\u001b[0m\u001b[0mDataFrame\u001b[0m\u001b[0;34m(\u001b[0m\u001b[0;34m{\u001b[0m\u001b[0;34m\"action\"\u001b[0m\u001b[0;34m:\u001b[0m \u001b[0;34m[\u001b[0m\u001b[0mlu\u001b[0m\u001b[0;34m[\u001b[0m\u001b[0mk\u001b[0m\u001b[0;34m[\u001b[0m\u001b[0;36m1\u001b[0m\u001b[0;34m]\u001b[0m\u001b[0;34m]\u001b[0m\u001b[0;34m]\u001b[0m\u001b[0;34m,\u001b[0m \u001b[0;34m\"player_score\"\u001b[0m\u001b[0;34m:\u001b[0m \u001b[0;34m[\u001b[0m\u001b[0mstate\u001b[0m\u001b[0;34m[\u001b[0m\u001b[0;36m1\u001b[0m\u001b[0;34m]\u001b[0m\u001b[0;34m]\u001b[0m\u001b[0;34m,\u001b[0m \u001b[0;34m\"dealer_score\"\u001b[0m\u001b[0;34m:\u001b[0m \u001b[0;34m[\u001b[0m\u001b[0mstate\u001b[0m\u001b[0;34m[\u001b[0m\u001b[0;36m2\u001b[0m\u001b[0;34m]\u001b[0m\u001b[0;34m]\u001b[0m\u001b[0;34m}\u001b[0m\u001b[0;34m)\u001b[0m\u001b[0;34m\u001b[0m\u001b[0m\n\u001b[0m\u001b[1;32m      9\u001b[0m     \u001b[0moutput\u001b[0m \u001b[0;34m=\u001b[0m \u001b[0moutput\u001b[0m\u001b[0;34m.\u001b[0m\u001b[0mappend\u001b[0m\u001b[0;34m(\u001b[0m\u001b[0mdf\u001b[0m\u001b[0;34m)\u001b[0m\u001b[0;34m\u001b[0m\u001b[0m\n\u001b[1;32m     10\u001b[0m \u001b[0;31m#     print(\"{}: {}\".format(lu[k[1]], blackjack.STATELIST[k[0]]))\u001b[0m\u001b[0;34m\u001b[0m\u001b[0;34m\u001b[0m\u001b[0m\n",
      "\u001b[0;31mKeyError\u001b[0m: 378"
     ]
    }
   ],
   "source": [
    "lu = {0: 'skip',\n",
    " 1: 'draw'}\n",
    "\n",
    "output = pd.DataFrame(columns=[\"action\", \"player_score\", \"dealer_score\"])\n",
    "\n",
    "for k in test:\n",
    "    state = blackjack.STATELIST[k[0]]\n",
    "    df = pd.DataFrame({\"action\": [lu[k[1]]], \"player_score\": [state[1]], \"dealer_score\": [state[2]]})\n",
    "    output = output.append(df)\n",
    "#     print(\"{}: {}\".format(lu[k[1]], blackjack.STATELIST[k[0]]))"
   ]
  },
  {
   "cell_type": "code",
   "execution_count": 607,
   "metadata": {},
   "outputs": [
    {
     "data": {
      "text/html": [
       "<div>\n",
       "<style scoped>\n",
       "    .dataframe tbody tr th:only-of-type {\n",
       "        vertical-align: middle;\n",
       "    }\n",
       "\n",
       "    .dataframe tbody tr th {\n",
       "        vertical-align: top;\n",
       "    }\n",
       "\n",
       "    .dataframe thead th {\n",
       "        text-align: right;\n",
       "    }\n",
       "</style>\n",
       "<table border=\"1\" class=\"dataframe\">\n",
       "  <thead>\n",
       "    <tr style=\"text-align: right;\">\n",
       "      <th></th>\n",
       "      <th>action</th>\n",
       "      <th>player_score</th>\n",
       "      <th>dealer_score</th>\n",
       "    </tr>\n",
       "  </thead>\n",
       "  <tbody>\n",
       "    <tr>\n",
       "      <th>0</th>\n",
       "      <td>draw</td>\n",
       "      <td>21</td>\n",
       "      <td>18</td>\n",
       "    </tr>\n",
       "    <tr>\n",
       "      <th>0</th>\n",
       "      <td>draw</td>\n",
       "      <td>20</td>\n",
       "      <td>17</td>\n",
       "    </tr>\n",
       "    <tr>\n",
       "      <th>0</th>\n",
       "      <td>skip</td>\n",
       "      <td>19</td>\n",
       "      <td>17</td>\n",
       "    </tr>\n",
       "    <tr>\n",
       "      <th>0</th>\n",
       "      <td>skip</td>\n",
       "      <td>19</td>\n",
       "      <td>18</td>\n",
       "    </tr>\n",
       "    <tr>\n",
       "      <th>0</th>\n",
       "      <td>skip</td>\n",
       "      <td>20</td>\n",
       "      <td>18</td>\n",
       "    </tr>\n",
       "    <tr>\n",
       "      <th>0</th>\n",
       "      <td>skip</td>\n",
       "      <td>20</td>\n",
       "      <td>19</td>\n",
       "    </tr>\n",
       "    <tr>\n",
       "      <th>0</th>\n",
       "      <td>skip</td>\n",
       "      <td>21</td>\n",
       "      <td>19</td>\n",
       "    </tr>\n",
       "    <tr>\n",
       "      <th>0</th>\n",
       "      <td>skip</td>\n",
       "      <td>21</td>\n",
       "      <td>20</td>\n",
       "    </tr>\n",
       "    <tr>\n",
       "      <th>0</th>\n",
       "      <td>skip</td>\n",
       "      <td>18</td>\n",
       "      <td>17</td>\n",
       "    </tr>\n",
       "  </tbody>\n",
       "</table>\n",
       "</div>"
      ],
      "text/plain": [
       "  action player_score dealer_score\n",
       "0   draw           21           18\n",
       "0   draw           20           17\n",
       "0   skip           19           17\n",
       "0   skip           19           18\n",
       "0   skip           20           18\n",
       "0   skip           20           19\n",
       "0   skip           21           19\n",
       "0   skip           21           20\n",
       "0   skip           18           17"
      ]
     },
     "execution_count": 607,
     "metadata": {},
     "output_type": "execute_result"
    }
   ],
   "source": [
    "output[(output.dealer_score != 22)].sort_values('action')"
   ]
  },
  {
   "cell_type": "code",
   "execution_count": 603,
   "metadata": {},
   "outputs": [
    {
     "data": {
      "text/html": [
       "<div>\n",
       "<style scoped>\n",
       "    .dataframe tbody tr th:only-of-type {\n",
       "        vertical-align: middle;\n",
       "    }\n",
       "\n",
       "    .dataframe tbody tr th {\n",
       "        vertical-align: top;\n",
       "    }\n",
       "\n",
       "    .dataframe thead th {\n",
       "        text-align: right;\n",
       "    }\n",
       "</style>\n",
       "<table border=\"1\" class=\"dataframe\">\n",
       "  <thead>\n",
       "    <tr style=\"text-align: right;\">\n",
       "      <th></th>\n",
       "      <th>action</th>\n",
       "      <th>player_score</th>\n",
       "      <th>dealer_score</th>\n",
       "    </tr>\n",
       "  </thead>\n",
       "  <tbody>\n",
       "    <tr>\n",
       "      <th>0</th>\n",
       "      <td>draw</td>\n",
       "      <td>16</td>\n",
       "      <td>22</td>\n",
       "    </tr>\n",
       "    <tr>\n",
       "      <th>0</th>\n",
       "      <td>skip</td>\n",
       "      <td>19</td>\n",
       "      <td>17</td>\n",
       "    </tr>\n",
       "    <tr>\n",
       "      <th>0</th>\n",
       "      <td>skip</td>\n",
       "      <td>20</td>\n",
       "      <td>22</td>\n",
       "    </tr>\n",
       "    <tr>\n",
       "      <th>0</th>\n",
       "      <td>skip</td>\n",
       "      <td>10</td>\n",
       "      <td>22</td>\n",
       "    </tr>\n",
       "    <tr>\n",
       "      <th>0</th>\n",
       "      <td>skip</td>\n",
       "      <td>11</td>\n",
       "      <td>22</td>\n",
       "    </tr>\n",
       "    <tr>\n",
       "      <th>0</th>\n",
       "      <td>draw</td>\n",
       "      <td>21</td>\n",
       "      <td>18</td>\n",
       "    </tr>\n",
       "    <tr>\n",
       "      <th>0</th>\n",
       "      <td>skip</td>\n",
       "      <td>19</td>\n",
       "      <td>18</td>\n",
       "    </tr>\n",
       "    <tr>\n",
       "      <th>0</th>\n",
       "      <td>skip</td>\n",
       "      <td>21</td>\n",
       "      <td>22</td>\n",
       "    </tr>\n",
       "    <tr>\n",
       "      <th>0</th>\n",
       "      <td>skip</td>\n",
       "      <td>20</td>\n",
       "      <td>18</td>\n",
       "    </tr>\n",
       "    <tr>\n",
       "      <th>0</th>\n",
       "      <td>skip</td>\n",
       "      <td>13</td>\n",
       "      <td>22</td>\n",
       "    </tr>\n",
       "    <tr>\n",
       "      <th>0</th>\n",
       "      <td>skip</td>\n",
       "      <td>14</td>\n",
       "      <td>22</td>\n",
       "    </tr>\n",
       "    <tr>\n",
       "      <th>0</th>\n",
       "      <td>draw</td>\n",
       "      <td>12</td>\n",
       "      <td>22</td>\n",
       "    </tr>\n",
       "    <tr>\n",
       "      <th>0</th>\n",
       "      <td>skip</td>\n",
       "      <td>20</td>\n",
       "      <td>19</td>\n",
       "    </tr>\n",
       "    <tr>\n",
       "      <th>0</th>\n",
       "      <td>skip</td>\n",
       "      <td>21</td>\n",
       "      <td>19</td>\n",
       "    </tr>\n",
       "    <tr>\n",
       "      <th>0</th>\n",
       "      <td>skip</td>\n",
       "      <td>15</td>\n",
       "      <td>22</td>\n",
       "    </tr>\n",
       "    <tr>\n",
       "      <th>0</th>\n",
       "      <td>skip</td>\n",
       "      <td>21</td>\n",
       "      <td>20</td>\n",
       "    </tr>\n",
       "    <tr>\n",
       "      <th>0</th>\n",
       "      <td>skip</td>\n",
       "      <td>17</td>\n",
       "      <td>22</td>\n",
       "    </tr>\n",
       "    <tr>\n",
       "      <th>0</th>\n",
       "      <td>skip</td>\n",
       "      <td>7</td>\n",
       "      <td>22</td>\n",
       "    </tr>\n",
       "    <tr>\n",
       "      <th>0</th>\n",
       "      <td>draw</td>\n",
       "      <td>20</td>\n",
       "      <td>17</td>\n",
       "    </tr>\n",
       "    <tr>\n",
       "      <th>0</th>\n",
       "      <td>skip</td>\n",
       "      <td>18</td>\n",
       "      <td>17</td>\n",
       "    </tr>\n",
       "    <tr>\n",
       "      <th>0</th>\n",
       "      <td>skip</td>\n",
       "      <td>18</td>\n",
       "      <td>22</td>\n",
       "    </tr>\n",
       "    <tr>\n",
       "      <th>0</th>\n",
       "      <td>skip</td>\n",
       "      <td>19</td>\n",
       "      <td>22</td>\n",
       "    </tr>\n",
       "  </tbody>\n",
       "</table>\n",
       "</div>"
      ],
      "text/plain": [
       "  action player_score dealer_score\n",
       "0   draw           16           22\n",
       "0   skip           19           17\n",
       "0   skip           20           22\n",
       "0   skip           10           22\n",
       "0   skip           11           22\n",
       "0   draw           21           18\n",
       "0   skip           19           18\n",
       "0   skip           21           22\n",
       "0   skip           20           18\n",
       "0   skip           13           22\n",
       "0   skip           14           22\n",
       "0   draw           12           22\n",
       "0   skip           20           19\n",
       "0   skip           21           19\n",
       "0   skip           15           22\n",
       "0   skip           21           20\n",
       "0   skip           17           22\n",
       "0   skip            7           22\n",
       "0   draw           20           17\n",
       "0   skip           18           17\n",
       "0   skip           18           22\n",
       "0   skip           19           22"
      ]
     },
     "execution_count": 603,
     "metadata": {},
     "output_type": "execute_result"
    }
   ],
   "source": [
    "output"
   ]
  },
  {
   "cell_type": "code",
   "execution_count": 579,
   "metadata": {},
   "outputs": [
    {
     "ename": "TypeError",
     "evalue": "ufunc 'isnan' not supported for the input types, and the inputs could not be safely coerced to any supported types according to the casting rule ''safe''",
     "output_type": "error",
     "traceback": [
      "\u001b[0;31m---------------------------------------------------------------------------\u001b[0m",
      "\u001b[0;31mTypeError\u001b[0m                                 Traceback (most recent call last)",
      "\u001b[0;32m<ipython-input-579-00e1530d3430>\u001b[0m in \u001b[0;36m<module>\u001b[0;34m()\u001b[0m\n\u001b[0;32m----> 1\u001b[0;31m \u001b[0msns\u001b[0m\u001b[0;34m.\u001b[0m\u001b[0mheatmap\u001b[0m\u001b[0;34m(\u001b[0m\u001b[0moutput\u001b[0m\u001b[0;34m)\u001b[0m\u001b[0;34m\u001b[0m\u001b[0m\n\u001b[0m",
      "\u001b[0;32m/Library/Frameworks/Python.framework/Versions/3.7/lib/python3.7/site-packages/seaborn/matrix.py\u001b[0m in \u001b[0;36mheatmap\u001b[0;34m(data, vmin, vmax, cmap, center, robust, annot, fmt, annot_kws, linewidths, linecolor, cbar, cbar_kws, cbar_ax, square, xticklabels, yticklabels, mask, ax, **kwargs)\u001b[0m\n\u001b[1;32m    510\u001b[0m     plotter = _HeatMapper(data, vmin, vmax, cmap, center, robust, annot, fmt,\n\u001b[1;32m    511\u001b[0m                           \u001b[0mannot_kws\u001b[0m\u001b[0;34m,\u001b[0m \u001b[0mcbar\u001b[0m\u001b[0;34m,\u001b[0m \u001b[0mcbar_kws\u001b[0m\u001b[0;34m,\u001b[0m \u001b[0mxticklabels\u001b[0m\u001b[0;34m,\u001b[0m\u001b[0;34m\u001b[0m\u001b[0m\n\u001b[0;32m--> 512\u001b[0;31m                           yticklabels, mask)\n\u001b[0m\u001b[1;32m    513\u001b[0m \u001b[0;34m\u001b[0m\u001b[0m\n\u001b[1;32m    514\u001b[0m     \u001b[0;31m# Add the pcolormesh kwargs here\u001b[0m\u001b[0;34m\u001b[0m\u001b[0;34m\u001b[0m\u001b[0m\n",
      "\u001b[0;32m/Library/Frameworks/Python.framework/Versions/3.7/lib/python3.7/site-packages/seaborn/matrix.py\u001b[0m in \u001b[0;36m__init__\u001b[0;34m(self, data, vmin, vmax, cmap, center, robust, annot, fmt, annot_kws, cbar, cbar_kws, xticklabels, yticklabels, mask)\u001b[0m\n\u001b[1;32m    164\u001b[0m         \u001b[0;31m# Determine good default values for the colormapping\u001b[0m\u001b[0;34m\u001b[0m\u001b[0;34m\u001b[0m\u001b[0m\n\u001b[1;32m    165\u001b[0m         self._determine_cmap_params(plot_data, vmin, vmax,\n\u001b[0;32m--> 166\u001b[0;31m                                     cmap, center, robust)\n\u001b[0m\u001b[1;32m    167\u001b[0m \u001b[0;34m\u001b[0m\u001b[0m\n\u001b[1;32m    168\u001b[0m         \u001b[0;31m# Sort out the annotations\u001b[0m\u001b[0;34m\u001b[0m\u001b[0;34m\u001b[0m\u001b[0m\n",
      "\u001b[0;32m/Library/Frameworks/Python.framework/Versions/3.7/lib/python3.7/site-packages/seaborn/matrix.py\u001b[0m in \u001b[0;36m_determine_cmap_params\u001b[0;34m(self, plot_data, vmin, vmax, cmap, center, robust)\u001b[0m\n\u001b[1;32m    195\u001b[0m                                cmap, center, robust):\n\u001b[1;32m    196\u001b[0m         \u001b[0;34m\"\"\"Use some heuristics to set good defaults for colorbar and range.\"\"\"\u001b[0m\u001b[0;34m\u001b[0m\u001b[0m\n\u001b[0;32m--> 197\u001b[0;31m         \u001b[0mcalc_data\u001b[0m \u001b[0;34m=\u001b[0m \u001b[0mplot_data\u001b[0m\u001b[0;34m.\u001b[0m\u001b[0mdata\u001b[0m\u001b[0;34m[\u001b[0m\u001b[0;34m~\u001b[0m\u001b[0mnp\u001b[0m\u001b[0;34m.\u001b[0m\u001b[0misnan\u001b[0m\u001b[0;34m(\u001b[0m\u001b[0mplot_data\u001b[0m\u001b[0;34m.\u001b[0m\u001b[0mdata\u001b[0m\u001b[0;34m)\u001b[0m\u001b[0;34m]\u001b[0m\u001b[0;34m\u001b[0m\u001b[0m\n\u001b[0m\u001b[1;32m    198\u001b[0m         \u001b[0;32mif\u001b[0m \u001b[0mvmin\u001b[0m \u001b[0;32mis\u001b[0m \u001b[0;32mNone\u001b[0m\u001b[0;34m:\u001b[0m\u001b[0;34m\u001b[0m\u001b[0m\n\u001b[1;32m    199\u001b[0m             \u001b[0mvmin\u001b[0m \u001b[0;34m=\u001b[0m \u001b[0mnp\u001b[0m\u001b[0;34m.\u001b[0m\u001b[0mpercentile\u001b[0m\u001b[0;34m(\u001b[0m\u001b[0mcalc_data\u001b[0m\u001b[0;34m,\u001b[0m \u001b[0;36m2\u001b[0m\u001b[0;34m)\u001b[0m \u001b[0;32mif\u001b[0m \u001b[0mrobust\u001b[0m \u001b[0;32melse\u001b[0m \u001b[0mcalc_data\u001b[0m\u001b[0;34m.\u001b[0m\u001b[0mmin\u001b[0m\u001b[0;34m(\u001b[0m\u001b[0;34m)\u001b[0m\u001b[0;34m\u001b[0m\u001b[0m\n",
      "\u001b[0;31mTypeError\u001b[0m: ufunc 'isnan' not supported for the input types, and the inputs could not be safely coerced to any supported types according to the casting rule ''safe''"
     ]
    }
   ],
   "source": [
    "sns.heatmap(output)"
   ]
  },
  {
   "cell_type": "code",
   "execution_count": null,
   "metadata": {},
   "outputs": [],
   "source": [
    "# QL/PI/VI : Reward / Max V/ Mean V vs # of iterations\n",
    "# GW: I am plotting arrows to indicate directions\n",
    "# GW: I am plotting heatmap for values"
   ]
  },
  {
   "cell_type": "code",
   "execution_count": null,
   "metadata": {},
   "outputs": [],
   "source": []
  },
  {
   "cell_type": "code",
   "execution_count": null,
   "metadata": {},
   "outputs": [],
   "source": []
  }
 ],
 "metadata": {
  "kernelspec": {
   "display_name": "Python 3",
   "language": "python",
   "name": "python3"
  },
  "language_info": {
   "codemirror_mode": {
    "name": "ipython",
    "version": 3
   },
   "file_extension": ".py",
   "mimetype": "text/x-python",
   "name": "python",
   "nbconvert_exporter": "python",
   "pygments_lexer": "ipython3",
   "version": "3.7.0"
  }
 },
 "nbformat": 4,
 "nbformat_minor": 2
}
